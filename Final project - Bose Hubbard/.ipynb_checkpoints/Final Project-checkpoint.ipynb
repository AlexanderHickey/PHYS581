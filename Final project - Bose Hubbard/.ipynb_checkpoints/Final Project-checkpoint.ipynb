{
 "cells": [
  {
   "cell_type": "markdown",
   "metadata": {},
   "source": [
    "# Phys 581 Winter 2019\n",
    "# Final Project: Computational methods in quantum many-body physics\n",
    "## Alexander Hickey, 10169582"
   ]
  },
  {
   "cell_type": "markdown",
   "metadata": {},
   "source": [
    "Note that the contents of this notebook were created and tested in a 64-bit distribution of Windows 10, using Python 3.6.8."
   ]
  },
  {
   "cell_type": "code",
   "execution_count": 2,
   "metadata": {},
   "outputs": [
    {
     "data": {
      "text/plain": [
       "'3.6.8 |Anaconda, Inc.| (default, Feb 21 2019, 18:30:04) [MSC v.1916 64 bit (AMD64)]'"
      ]
     },
     "execution_count": 2,
     "metadata": {},
     "output_type": "execute_result"
    }
   ],
   "source": [
    "import sys\n",
    "sys.version"
   ]
  },
  {
   "cell_type": "code",
   "execution_count": null,
   "metadata": {},
   "outputs": [],
   "source": [
    "#Import useful libraries\n",
    "import numpy as np\n",
    "import scipy.optimize\n",
    "import timeit\n",
    "import matplotlib.pyplot as plt\n",
    "%matplotlib inline"
   ]
  },
  {
   "cell_type": "markdown",
   "metadata": {},
   "source": [
    "## Introduction"
   ]
  },
  {
   "cell_type": "markdown",
   "metadata": {},
   "source": [
    "Over the past two-decades, the increasing computational power available to researchers has lead to significant advances in the area of quantum many-body physics. Numerical methods continue to play an increasingly prominent role in this field. Despite these advances, simulating many-body systems remains a difficult task, as the underlying Hilbert space scales exponentially with the number of particles. To get around this, various analytical and numerical techniques have been explored to approximate solutions of these types of problems.\n",
    "\n",
    "Recently, there has been immense experimental advances in the trapping of ultracold atoms in optical lattices (atomic lattices constructed by interfering lasers), which has renewed interest in lattice models of neutral bosonic atoms. Such environments serve as ideal playgrounds to study the dynamics of quantum many-body systems, as experimentalists have precise control of the underlying lattice potential, and the properties of ultracold atoms can be widely tuned with external fields. In particular, the versatility of optical lattice environments has lead to the realization of a wide range of quantum phase transitions, which refers to phase transitions that occur only at low temperatures, where thermal fluctuations are strongly suppressed. \n",
    "\n",
    "The canonical example of such a model is the Bose-Hubbard model, which describes an approximate Hamiltonian for atoms in an optical lattice, and consists of bosons hopping between discrete lattice sites, and interacting at close range. It has been shown that in such a model, the competing lattice tunnelling and interaction terms drive a quantum phase transition between superfluid and insulating phases. Since then, the Bose-Hubbard model has been realized experimentally, and extensions to the model have been of great interest from both the experiment and theory point of view.\n",
    "\n",
    "The main difficulty that arises in the theoretical study of the Bose-Hubbard model is that the Hamiltonian cannot be diagonalized analytically whenever interactions are present. Additionally, numerical studies are restricted by the exponential scaling of the lattice. The latter problem role is generally supressed by a studying the model within a mean-field theory, where long range correlations are approximated to first order by replacing some operators by their average values.\n",
    "\n",
    "This notebook presents the explorations of various computational methods that can be used to study the Bose-Hubbard model in the context of a zero-temperature mean-field theory. In particular, we will explore the method of exact diagonalization, variational methods, as well as imaginary-time propagation to compute ground states in the Bose-Hubbard model for various parameters. The benchmarks used to compare each method will be ability of the method to produce a mean-field phase diagram that is consistent with current literature, as well as the time required to perform such a task.\n",
    "\n"
   ]
  },
  {
   "cell_type": "markdown",
   "metadata": {},
   "source": [
    "## Background"
   ]
  },
  {
   "cell_type": "markdown",
   "metadata": {},
   "source": [
    "### Bosons"
   ]
  },
  {
   "cell_type": "markdown",
   "metadata": {},
   "source": [
    "There are many systems in nature that are comprised of several identical particles. Such particles all share the same intrinsic properties, such as charge, mass and spin, and therefore cannot be distinguished by measuring their underlying characteristics. In classical mechanics, these particles can be readily distinguished by following their individual trajectories through phase space. In quantum mechanics however, such a trajectory is ill-defined due to the Heisenberg uncertainty principle.\n",
    "\n",
    "This principle of indistinguishibility turns out to be quite fundamental, as it implies that many identical quantum particles obey either Fermi or Bose statistics. Particles that obey the former are known as *fermions*, and they are characterized by obeying the Pauli exclusion principle, which states that no two particles can occupy the same quantum state. In contrast, particles that obey Bose statistics are known as *bosons*, and an arbitrary number of them can occupy the same state. In this work, we will consider only bosonic particles, which is motivated by the fact that the aforementioned optical lattice experiments are often performed with neutral bosonic atoms, most notably with $^{87}\\text{Rb}$, which was used to create the first Bose-Einstein condensate in 1995.\n",
    "\n",
    "Since the particles are indistinguishable, we don't care about which particle is where, but rather just how many bosons are occupying each available quantum state. In our case, these so called states will correspond to a particles position on a 1D lattice. A convenient choice of basis for representing a many-body bosonic wavefunction is therefore the *occupation number basis*, where the basis vectors look like \n",
    "\n",
    "$$| n_0 ,n_1,n_2,\\ldots \\rangle$$\n",
    "\n",
    "which corresponds to the state with $n_0$ bosons occupying the $0^\\text{th}$ lattice site, $n_1$ bosons occupying the $1^\\text{st}$ lattice site, and so on. "
   ]
  },
  {
   "cell_type": "markdown",
   "metadata": {},
   "source": [
    "![Hopping on a lattice](lattice.png)\n",
    "\n",
    "\n",
    "\\begin{align}\n",
    "\\hat a | n \\rangle &= \\sqrt{n} |n-1 \\rangle \\\\\n",
    "\\hat a^\\dagger | n \\rangle &= \\sqrt{n+1} |n+1 \\rangle \n",
    "\\end{align}\n"
   ]
  },
  {
   "cell_type": "markdown",
   "metadata": {},
   "source": [
    "### Mean field theory"
   ]
  },
  {
   "cell_type": "code",
   "execution_count": null,
   "metadata": {},
   "outputs": [],
   "source": []
  },
  {
   "cell_type": "markdown",
   "metadata": {},
   "source": [
    "## Methods"
   ]
  },
  {
   "cell_type": "markdown",
   "metadata": {},
   "source": [
    "### Exact diagonalization"
   ]
  },
  {
   "cell_type": "code",
   "execution_count": null,
   "metadata": {},
   "outputs": [],
   "source": []
  },
  {
   "cell_type": "markdown",
   "metadata": {},
   "source": [
    "### Variational principle"
   ]
  },
  {
   "cell_type": "code",
   "execution_count": null,
   "metadata": {},
   "outputs": [],
   "source": []
  },
  {
   "cell_type": "markdown",
   "metadata": {},
   "source": [
    "### Imaginary-time propagation"
   ]
  },
  {
   "cell_type": "markdown",
   "metadata": {},
   "source": [
    "### Conclusion"
   ]
  },
  {
   "cell_type": "code",
   "execution_count": null,
   "metadata": {},
   "outputs": [],
   "source": []
  },
  {
   "cell_type": "markdown",
   "metadata": {},
   "source": [
    "### Bibliography"
   ]
  },
  {
   "cell_type": "code",
   "execution_count": null,
   "metadata": {},
   "outputs": [],
   "source": []
  }
 ],
 "metadata": {
  "kernelspec": {
   "display_name": "Python 3",
   "language": "python",
   "name": "python3"
  },
  "language_info": {
   "codemirror_mode": {
    "name": "ipython",
    "version": 3
   },
   "file_extension": ".py",
   "mimetype": "text/x-python",
   "name": "python",
   "nbconvert_exporter": "python",
   "pygments_lexer": "ipython3",
   "version": "3.6.8"
  }
 },
 "nbformat": 4,
 "nbformat_minor": 2
}
