{
 "cells": [
  {
   "cell_type": "markdown",
   "metadata": {},
   "source": [
    "# Phys 581 Winter 2019\n",
    "# Assignment #5: Multiprocessing\n",
    "## Alexander Hickey, 10169582"
   ]
  },
  {
   "cell_type": "markdown",
   "metadata": {},
   "source": [
    "Note that this notebook makes use of the Keras deep learning library for python, which is compatible only with Python 2.7-3.6."
   ]
  },
  {
   "cell_type": "code",
   "execution_count": 1,
   "metadata": {},
   "outputs": [
    {
     "data": {
      "text/plain": [
       "'3.6.8 |Anaconda, Inc.| (default, Feb 21 2019, 18:30:04) [MSC v.1916 64 bit (AMD64)]'"
      ]
     },
     "execution_count": 1,
     "metadata": {},
     "output_type": "execute_result"
    }
   ],
   "source": [
    "#Must be running Python 3.6 or lower!\n",
    "import sys\n",
    "sys.version"
   ]
  },
  {
   "cell_type": "code",
   "execution_count": 2,
   "metadata": {},
   "outputs": [
    {
     "name": "stderr",
     "output_type": "stream",
     "text": [
      "Using TensorFlow backend.\n"
     ]
    }
   ],
   "source": [
    "#Import useful libraries\n",
    "import time\n",
    "import numpy as np\n",
    "import scipy.integrate\n",
    "import matplotlib.pyplot as plt\n",
    "import sys, os\n",
    "import signal, subprocess\n",
    "import psutil\n",
    "from multiprocessing import Pool\n",
    "from keras.models import Model, Sequential\n",
    "from keras.layers import Input, Dense\n",
    "%matplotlib inline"
   ]
  },
  {
   "cell_type": "markdown",
   "metadata": {},
   "source": [
    "### Introduction"
   ]
  },
  {
   "cell_type": "markdown",
   "metadata": {},
   "source": [
    "Parallel computing allows one to harness the processing power of a multi-core computer, and can significantly decrease the time required for repetitive computations. The idea behind parallel computing is to take a large problem and divide it into smaller ones which can be solved simultaneously, and allocate these different tasks to different parts of the CPU network. Often times, it is very powerful to implement parallel computing in the framework of scientific computations, to allow researchers to execute code and analyze output within a reasonable timeframe."
   ]
  },
  {
   "cell_type": "code",
   "execution_count": 3,
   "metadata": {},
   "outputs": [
    {
     "name": "stdout",
     "output_type": "stream",
     "text": [
      "scpustats(ctx_switches=1116429151, interrupts=1506348531, soft_interrupts=0, syscalls=1876097662) \n",
      "\n",
      "scputimes(user=2164734.40625, system=33283.40625, idle=460384.40625, interrupt=975.65625, dpc=898.9375) \n",
      "\n",
      "scputimes(user=89.1, system=2.7, idle=7.8, interrupt=0.4, dpc=0.0) \n",
      "\n",
      "number of physical(?) CPUs:  8 \n",
      "\n",
      "[scputimes(user=75.0, system=4.7, idle=20.3, interrupt=0.0, dpc=0.0), scputimes(user=92.2, system=1.6, idle=6.2, interrupt=0.0, dpc=0.0), scputimes(user=98.4, system=1.6, idle=0.0, interrupt=0.0, dpc=0.0), scputimes(user=100.0, system=0.0, idle=0.0, interrupt=0.0, dpc=0.0), scputimes(user=84.4, system=3.1, idle=12.5, interrupt=0.0, dpc=0.0), scputimes(user=85.9, system=3.1, idle=10.9, interrupt=0.0, dpc=0.0), scputimes(user=96.9, system=1.6, idle=1.6, interrupt=0.0, dpc=0.0), scputimes(user=100.0, system=0.0, idle=0.0, interrupt=0.0, dpc=0.0)] \n",
      "\n",
      "['C:\\\\Users\\\\Admin\\\\Miniconda3\\\\envs\\\\Python36\\\\lib\\\\site-packages\\\\ipykernel_launcher.py', '-f', 'C:\\\\Users\\\\Admin\\\\AppData\\\\Roaming\\\\jupyter\\\\runtime\\\\kernel-0d808d50-6264-4034-a946-9c2e4d2ce355.json']\n"
     ]
    }
   ],
   "source": [
    "print( psutil.cpu_stats(), '\\n' )\n",
    "print( psutil.cpu_times(), '\\n' )\n",
    "print( psutil.cpu_times_percent(interval=1, percpu=False), '\\n' )\n",
    "print( 'number of physical(?) CPUs: ', psutil.cpu_count(), '\\n' )\n",
    "print( psutil.cpu_times_percent(interval=1, percpu=True), '\\n' )\n",
    "print(sys.argv)"
   ]
  },
  {
   "cell_type": "markdown",
   "metadata": {},
   "source": [
    "### Task: determine scaling efficiency\n",
    "Gather estimates of computation as a function of number of processes, plot, and analyze.\n",
    "\n",
    "Ideally we would have a perfectly linear relationship up to the number of CPUs and constant thereafter.  In practice the slope will be less than one and may saturate earlier."
   ]
  },
  {
   "cell_type": "code",
   "execution_count": 21,
   "metadata": {},
   "outputs": [
    {
     "name": "stdout",
     "output_type": "stream",
     "text": [
      "0 python -c \"[i**2 for i in range(9876543)]; print(True)\"\n",
      "1 python -c \"[i**2 for i in range(9876543)]; print(True)\"\n",
      "2 python -c \"[i**2 for i in range(9876543)]; print(True)\"\n",
      "3 python -c \"[i**2 for i in range(9876543)]; print(True)\"\n",
      "4 python -c \"[i**2 for i in range(9876543)]; print(True)\"\n"
     ]
    }
   ],
   "source": [
    "cmdlist = [cmnd for j in range(5)]\n",
    "for n, cmd in enumerate(cmdlist):\n",
    "    print(n,cmd)"
   ]
  },
  {
   "cell_type": "code",
   "execution_count": 23,
   "metadata": {},
   "outputs": [
    {
     "ename": "NoSuchProcess",
     "evalue": "psutil.NoSuchProcess no process found with pid 10932",
     "output_type": "error",
     "traceback": [
      "\u001b[1;31m---------------------------------------------------------------------------\u001b[0m",
      "\u001b[1;31mProcessLookupError\u001b[0m                        Traceback (most recent call last)",
      "\u001b[1;32m~\\Miniconda3\\envs\\Python36\\lib\\site-packages\\psutil\\_pswindows.py\u001b[0m in \u001b[0;36mwrapper\u001b[1;34m(self, *args, **kwargs)\u001b[0m\n\u001b[0;32m    666\u001b[0m         \u001b[1;32mtry\u001b[0m\u001b[1;33m:\u001b[0m\u001b[1;33m\u001b[0m\u001b[1;33m\u001b[0m\u001b[0m\n\u001b[1;32m--> 667\u001b[1;33m             \u001b[1;32mreturn\u001b[0m \u001b[0mfun\u001b[0m\u001b[1;33m(\u001b[0m\u001b[0mself\u001b[0m\u001b[1;33m,\u001b[0m \u001b[1;33m*\u001b[0m\u001b[0margs\u001b[0m\u001b[1;33m,\u001b[0m \u001b[1;33m**\u001b[0m\u001b[0mkwargs\u001b[0m\u001b[1;33m)\u001b[0m\u001b[1;33m\u001b[0m\u001b[1;33m\u001b[0m\u001b[0m\n\u001b[0m\u001b[0;32m    668\u001b[0m         \u001b[1;32mexcept\u001b[0m \u001b[0mOSError\u001b[0m \u001b[1;32mas\u001b[0m \u001b[0merr\u001b[0m\u001b[1;33m:\u001b[0m\u001b[1;33m\u001b[0m\u001b[1;33m\u001b[0m\u001b[0m\n",
      "\u001b[1;32m~\\Miniconda3\\envs\\Python36\\lib\\site-packages\\psutil\\_pswindows.py\u001b[0m in \u001b[0;36mcreate_time\u001b[1;34m(self)\u001b[0m\n\u001b[0;32m    893\u001b[0m         \u001b[1;32mtry\u001b[0m\u001b[1;33m:\u001b[0m\u001b[1;33m\u001b[0m\u001b[1;33m\u001b[0m\u001b[0m\n\u001b[1;32m--> 894\u001b[1;33m             \u001b[1;32mreturn\u001b[0m \u001b[0mcext\u001b[0m\u001b[1;33m.\u001b[0m\u001b[0mproc_create_time\u001b[0m\u001b[1;33m(\u001b[0m\u001b[0mself\u001b[0m\u001b[1;33m.\u001b[0m\u001b[0mpid\u001b[0m\u001b[1;33m)\u001b[0m\u001b[1;33m\u001b[0m\u001b[1;33m\u001b[0m\u001b[0m\n\u001b[0m\u001b[0;32m    895\u001b[0m         \u001b[1;32mexcept\u001b[0m \u001b[0mOSError\u001b[0m \u001b[1;32mas\u001b[0m \u001b[0merr\u001b[0m\u001b[1;33m:\u001b[0m\u001b[1;33m\u001b[0m\u001b[1;33m\u001b[0m\u001b[0m\n",
      "\u001b[1;31mProcessLookupError\u001b[0m: [Errno 3] No such process",
      "\nDuring handling of the above exception, another exception occurred:\n",
      "\u001b[1;31mNoSuchProcess\u001b[0m                             Traceback (most recent call last)",
      "\u001b[1;32m~\\Miniconda3\\envs\\Python36\\lib\\site-packages\\psutil\\__init__.py\u001b[0m in \u001b[0;36m_init\u001b[1;34m(self, pid, _ignore_nsp)\u001b[0m\n\u001b[0;32m    468\u001b[0m         \u001b[1;32mtry\u001b[0m\u001b[1;33m:\u001b[0m\u001b[1;33m\u001b[0m\u001b[1;33m\u001b[0m\u001b[0m\n\u001b[1;32m--> 469\u001b[1;33m             \u001b[0mself\u001b[0m\u001b[1;33m.\u001b[0m\u001b[0mcreate_time\u001b[0m\u001b[1;33m(\u001b[0m\u001b[1;33m)\u001b[0m\u001b[1;33m\u001b[0m\u001b[1;33m\u001b[0m\u001b[0m\n\u001b[0m\u001b[0;32m    470\u001b[0m         \u001b[1;32mexcept\u001b[0m \u001b[0mAccessDenied\u001b[0m\u001b[1;33m:\u001b[0m\u001b[1;33m\u001b[0m\u001b[1;33m\u001b[0m\u001b[0m\n",
      "\u001b[1;32m~\\Miniconda3\\envs\\Python36\\lib\\site-packages\\psutil\\__init__.py\u001b[0m in \u001b[0;36mcreate_time\u001b[1;34m(self)\u001b[0m\n\u001b[0;32m    818\u001b[0m         \u001b[1;32mif\u001b[0m \u001b[0mself\u001b[0m\u001b[1;33m.\u001b[0m\u001b[0m_create_time\u001b[0m \u001b[1;32mis\u001b[0m \u001b[1;32mNone\u001b[0m\u001b[1;33m:\u001b[0m\u001b[1;33m\u001b[0m\u001b[1;33m\u001b[0m\u001b[0m\n\u001b[1;32m--> 819\u001b[1;33m             \u001b[0mself\u001b[0m\u001b[1;33m.\u001b[0m\u001b[0m_create_time\u001b[0m \u001b[1;33m=\u001b[0m \u001b[0mself\u001b[0m\u001b[1;33m.\u001b[0m\u001b[0m_proc\u001b[0m\u001b[1;33m.\u001b[0m\u001b[0mcreate_time\u001b[0m\u001b[1;33m(\u001b[0m\u001b[1;33m)\u001b[0m\u001b[1;33m\u001b[0m\u001b[1;33m\u001b[0m\u001b[0m\n\u001b[0m\u001b[0;32m    820\u001b[0m         \u001b[1;32mreturn\u001b[0m \u001b[0mself\u001b[0m\u001b[1;33m.\u001b[0m\u001b[0m_create_time\u001b[0m\u001b[1;33m\u001b[0m\u001b[1;33m\u001b[0m\u001b[0m\n",
      "\u001b[1;32m~\\Miniconda3\\envs\\Python36\\lib\\site-packages\\psutil\\_pswindows.py\u001b[0m in \u001b[0;36mwrapper\u001b[1;34m(self, *args, **kwargs)\u001b[0m\n\u001b[0;32m    671\u001b[0m             \u001b[1;32mif\u001b[0m \u001b[0merr\u001b[0m\u001b[1;33m.\u001b[0m\u001b[0merrno\u001b[0m \u001b[1;33m==\u001b[0m \u001b[0merrno\u001b[0m\u001b[1;33m.\u001b[0m\u001b[0mESRCH\u001b[0m\u001b[1;33m:\u001b[0m\u001b[1;33m\u001b[0m\u001b[1;33m\u001b[0m\u001b[0m\n\u001b[1;32m--> 672\u001b[1;33m                 \u001b[1;32mraise\u001b[0m \u001b[0mNoSuchProcess\u001b[0m\u001b[1;33m(\u001b[0m\u001b[0mself\u001b[0m\u001b[1;33m.\u001b[0m\u001b[0mpid\u001b[0m\u001b[1;33m,\u001b[0m \u001b[0mself\u001b[0m\u001b[1;33m.\u001b[0m\u001b[0m_name\u001b[0m\u001b[1;33m)\u001b[0m\u001b[1;33m\u001b[0m\u001b[1;33m\u001b[0m\u001b[0m\n\u001b[0m\u001b[0;32m    673\u001b[0m             \u001b[1;32mraise\u001b[0m\u001b[1;33m\u001b[0m\u001b[1;33m\u001b[0m\u001b[0m\n",
      "\u001b[1;31mNoSuchProcess\u001b[0m: psutil.NoSuchProcess process no longer exists (pid=10932)",
      "\nDuring handling of the above exception, another exception occurred:\n",
      "\u001b[1;31mNoSuchProcess\u001b[0m                             Traceback (most recent call last)",
      "\u001b[1;32m<ipython-input-23-5b829cee92af>\u001b[0m in \u001b[0;36m<module>\u001b[1;34m\u001b[0m\n\u001b[0;32m     50\u001b[0m \u001b[1;33m\u001b[0m\u001b[0m\n\u001b[0;32m     51\u001b[0m \u001b[1;33m\u001b[0m\u001b[0m\n\u001b[1;32m---> 52\u001b[1;33m \u001b[0mt\u001b[0m\u001b[1;33m=\u001b[0m\u001b[0mtime_par\u001b[0m\u001b[1;33m(\u001b[0m\u001b[1;33m[\u001b[0m\u001b[0mcmnd\u001b[0m \u001b[1;32mfor\u001b[0m \u001b[0mj\u001b[0m \u001b[1;32min\u001b[0m \u001b[0mrange\u001b[0m\u001b[1;33m(\u001b[0m\u001b[1;36m2\u001b[0m\u001b[1;33m)\u001b[0m\u001b[1;33m]\u001b[0m\u001b[1;33m)\u001b[0m\u001b[1;33m\u001b[0m\u001b[1;33m\u001b[0m\u001b[0m\n\u001b[0m\u001b[0;32m     53\u001b[0m \u001b[0mt\u001b[0m\u001b[1;33m\u001b[0m\u001b[1;33m\u001b[0m\u001b[0m\n",
      "\u001b[1;32m<ipython-input-23-5b829cee92af>\u001b[0m in \u001b[0;36mtime_par\u001b[1;34m(cmdlist, time_res)\u001b[0m\n\u001b[0;32m     27\u001b[0m         \u001b[1;32mfor\u001b[0m \u001b[0mp\u001b[0m \u001b[1;32min\u001b[0m \u001b[0mplist\u001b[0m\u001b[1;33m:\u001b[0m\u001b[1;33m\u001b[0m\u001b[1;33m\u001b[0m\u001b[0m\n\u001b[0;32m     28\u001b[0m \u001b[1;33m\u001b[0m\u001b[0m\n\u001b[1;32m---> 29\u001b[1;33m             \u001b[0mparent\u001b[0m \u001b[1;33m=\u001b[0m \u001b[0mpsutil\u001b[0m\u001b[1;33m.\u001b[0m\u001b[0mProcess\u001b[0m\u001b[1;33m(\u001b[0m\u001b[0mpid\u001b[0m\u001b[1;33m=\u001b[0m\u001b[0mp\u001b[0m\u001b[1;33m.\u001b[0m\u001b[0mpid\u001b[0m\u001b[1;33m)\u001b[0m\u001b[1;33m\u001b[0m\u001b[1;33m\u001b[0m\u001b[0m\n\u001b[0m\u001b[0;32m     30\u001b[0m             \u001b[0mchild\u001b[0m \u001b[1;33m=\u001b[0m \u001b[0mparent\u001b[0m\u001b[1;33m.\u001b[0m\u001b[0mchildren\u001b[0m\u001b[1;33m(\u001b[0m\u001b[1;33m)\u001b[0m\u001b[1;33m\u001b[0m\u001b[1;33m\u001b[0m\u001b[0m\n\u001b[0;32m     31\u001b[0m \u001b[1;33m\u001b[0m\u001b[0m\n",
      "\u001b[1;32m~\\Miniconda3\\envs\\Python36\\lib\\site-packages\\psutil\\__init__.py\u001b[0m in \u001b[0;36m__init__\u001b[1;34m(self, pid)\u001b[0m\n\u001b[0;32m    440\u001b[0m \u001b[1;33m\u001b[0m\u001b[0m\n\u001b[0;32m    441\u001b[0m     \u001b[1;32mdef\u001b[0m \u001b[0m__init__\u001b[0m\u001b[1;33m(\u001b[0m\u001b[0mself\u001b[0m\u001b[1;33m,\u001b[0m \u001b[0mpid\u001b[0m\u001b[1;33m=\u001b[0m\u001b[1;32mNone\u001b[0m\u001b[1;33m)\u001b[0m\u001b[1;33m:\u001b[0m\u001b[1;33m\u001b[0m\u001b[1;33m\u001b[0m\u001b[0m\n\u001b[1;32m--> 442\u001b[1;33m         \u001b[0mself\u001b[0m\u001b[1;33m.\u001b[0m\u001b[0m_init\u001b[0m\u001b[1;33m(\u001b[0m\u001b[0mpid\u001b[0m\u001b[1;33m)\u001b[0m\u001b[1;33m\u001b[0m\u001b[1;33m\u001b[0m\u001b[0m\n\u001b[0m\u001b[0;32m    443\u001b[0m \u001b[1;33m\u001b[0m\u001b[0m\n\u001b[0;32m    444\u001b[0m     \u001b[1;32mdef\u001b[0m \u001b[0m_init\u001b[0m\u001b[1;33m(\u001b[0m\u001b[0mself\u001b[0m\u001b[1;33m,\u001b[0m \u001b[0mpid\u001b[0m\u001b[1;33m,\u001b[0m \u001b[0m_ignore_nsp\u001b[0m\u001b[1;33m=\u001b[0m\u001b[1;32mFalse\u001b[0m\u001b[1;33m)\u001b[0m\u001b[1;33m:\u001b[0m\u001b[1;33m\u001b[0m\u001b[1;33m\u001b[0m\u001b[0m\n",
      "\u001b[1;32m~\\Miniconda3\\envs\\Python36\\lib\\site-packages\\psutil\\__init__.py\u001b[0m in \u001b[0;36m_init\u001b[1;34m(self, pid, _ignore_nsp)\u001b[0m\n\u001b[0;32m    480\u001b[0m             \u001b[1;32mif\u001b[0m \u001b[1;32mnot\u001b[0m \u001b[0m_ignore_nsp\u001b[0m\u001b[1;33m:\u001b[0m\u001b[1;33m\u001b[0m\u001b[1;33m\u001b[0m\u001b[0m\n\u001b[0;32m    481\u001b[0m                 \u001b[0mmsg\u001b[0m \u001b[1;33m=\u001b[0m \u001b[1;34m'no process found with pid %s'\u001b[0m \u001b[1;33m%\u001b[0m \u001b[0mpid\u001b[0m\u001b[1;33m\u001b[0m\u001b[1;33m\u001b[0m\u001b[0m\n\u001b[1;32m--> 482\u001b[1;33m                 \u001b[1;32mraise\u001b[0m \u001b[0mNoSuchProcess\u001b[0m\u001b[1;33m(\u001b[0m\u001b[0mpid\u001b[0m\u001b[1;33m,\u001b[0m \u001b[1;32mNone\u001b[0m\u001b[1;33m,\u001b[0m \u001b[0mmsg\u001b[0m\u001b[1;33m)\u001b[0m\u001b[1;33m\u001b[0m\u001b[1;33m\u001b[0m\u001b[0m\n\u001b[0m\u001b[0;32m    483\u001b[0m             \u001b[1;32melse\u001b[0m\u001b[1;33m:\u001b[0m\u001b[1;33m\u001b[0m\u001b[1;33m\u001b[0m\u001b[0m\n\u001b[0;32m    484\u001b[0m                 \u001b[0mself\u001b[0m\u001b[1;33m.\u001b[0m\u001b[0m_gone\u001b[0m \u001b[1;33m=\u001b[0m \u001b[1;32mTrue\u001b[0m\u001b[1;33m\u001b[0m\u001b[1;33m\u001b[0m\u001b[0m\n",
      "\u001b[1;31mNoSuchProcess\u001b[0m: psutil.NoSuchProcess no process found with pid 10932"
     ]
    }
   ],
   "source": [
    "cmnd = 'python -c \"[i**2 for i in range(9876543)]; print(True)\"'\n",
    "\n",
    "def time_par(cmdlist, time_res = 1e-5):\n",
    "    '''\n",
    "    This function will compute both the ...    \n",
    "    Args:\n",
    "        cmdlist: List of commands to track\n",
    "        time_res: Time step between tracking\n",
    "        \n",
    "    Return:\n",
    "        tlist: Array of both wall and cpu times for each process\n",
    "               to terminate. Axis 0 corresponds to wall time,\n",
    "               axis 1 corresponds to cpu time.\n",
    "    \n",
    "    '''\n",
    "    plist = [subprocess.Popen(cmnd, shell=True) for j in cmdlist]\n",
    "    ch_list = [0.0] \n",
    "    t0 = time.time()\n",
    "    t_dict = {p.pid:0.0 for p in plist}\n",
    "    \n",
    "    \n",
    "    while ch_list != []:\n",
    "        \n",
    "        ch_list = []\n",
    "        time.sleep(time_res)\n",
    "        \n",
    "        for p in plist:    \n",
    "            \n",
    "            parent = psutil.Process(pid=p.pid)\n",
    "            child = parent.children()\n",
    "            \n",
    "            try:\n",
    "                proc = psutil.Process(pid=child[0].pid)\n",
    "                cputime = proc.cpu_times().user\n",
    "                t_dict[p.pid] = [time.time()-t0,cputime]\n",
    "                ch_list.append(child)\n",
    "                \n",
    "            except:\n",
    "                None\n",
    "    \n",
    "    t = np.array([t_dict[key] for key in t_dict ])\n",
    "    print(t)\n",
    "    return t\n",
    "\n",
    "def ratio(t):\n",
    "    \n",
    "    \n",
    "    return np.mean(t[:,1])/np.max(t[:,0])\n",
    "\n",
    "\n",
    "    \n",
    "t=time_par([cmnd for j in range(2)])\n",
    "t"
   ]
  },
  {
   "cell_type": "code",
   "execution_count": null,
   "metadata": {},
   "outputs": [],
   "source": [
    "2.315/2.47"
   ]
  },
  {
   "cell_type": "code",
   "execution_count": null,
   "metadata": {},
   "outputs": [],
   "source": [
    "N = 7\n",
    "t_rat = []\n",
    "\n",
    "for k in range(2,N+1):\n",
    "    \n",
    "    t = time_par([cmnd for j in range(k)])\n",
    "    \n",
    "    t_rat.append(ratio(t))\n",
    " "
   ]
  },
  {
   "cell_type": "code",
   "execution_count": null,
   "metadata": {},
   "outputs": [],
   "source": [
    "plt.figure(figsize=(8,6))\n",
    "plt.plot(np.arange(2,N+1),t_rat,marker= 'o')\n",
    "plt.xlabel('N')\n",
    "plt.ylabel('wall/cpu')\n",
    "\n",
    "plt.show()"
   ]
  },
  {
   "cell_type": "markdown",
   "metadata": {},
   "source": [
    "### Task: Use the multiprocessing package to speed up hyperparameter optimization.    "
   ]
  },
  {
   "cell_type": "code",
   "execution_count": null,
   "metadata": {},
   "outputs": [],
   "source": [
    "def create_model(nodes=[8,11,6]):\n",
    "    '''\n",
    "    This function creates a dense Keras model with connectivity:\n",
    "    3-nodes-3 where nodes represents the \"deep\" layers.\n",
    "    \n",
    "    Args:\n",
    "        nodes: List describing number of deep layers and number of nodes at\n",
    "               each layer. \n",
    "        \n",
    "    Return:\n",
    "        model: Dense Keras model with desired connectivity.\n",
    "    \n",
    "    '''\n",
    "    #Create model\n",
    "    model = Sequential()\n",
    "    \n",
    "    #Define input layer\n",
    "    model.add(Dense(nodes[0], input_dim=3, activation='relu'))\n",
    "    \n",
    "    #Define \"deep\" layers\n",
    "    for n in nodes[1:]:\n",
    "        \n",
    "        model.add(Dense(n, activation='relu'))\n",
    "    \n",
    "    #Define output layer\n",
    "    model.add(Dense(3, activation='linear')) #sigmoid'))\n",
    "\n",
    "    #Compile model\n",
    "    model.compile(loss='mean_squared_error', optimizer='adam')\n",
    "    \n",
    "    return model\n",
    "\n",
    "def train_model(model,xyz,epochs = 999,L=900,ndt=99):\n",
    "    '''\n",
    "    This function trains a given Keras model to shift a time series\n",
    "    forward by some timestep ndt.\n",
    "    \n",
    "    Args:\n",
    "        model: Keras model\n",
    "        ndt: Timestep to shift time series\n",
    "        xyz: 3D time series data\n",
    "        L: Length of training interval\n",
    "        epochs: Number of epochs to perform training\n",
    "        \n",
    "    Return:\n",
    "        model: Trained model\n",
    "    \n",
    "    '''\n",
    "    \n",
    "    history = model.fit(xyz[:L],xyz[ndt:L+ndt], epochs=epochs, batch_size=100, \n",
    "                        verbose=0)\n",
    "    \n",
    "    return model\n",
    "\n",
    "def mean_square(args):\n",
    "    '''\n",
    "    args = [nodes,epochs,xyz]\n",
    "    \n",
    "    '''\n",
    "    \n",
    "    vs, ndt, L = 5000, 99, 900\n",
    "    nodes,epochs,xyz = args\n",
    "    mod = create_model(nodes = nodes)\n",
    "    mod = train_model(mod,xyz,epochs = epochs)\n",
    "    \n",
    "    return np.sqrt( np.mean( (xyz[vs+ndt:vs+L+ndt,:]-mod.predict(xyz[vs:vs+L]) )**2))\n",
    "\n",
    "NCPU = psutil.cpu_count()\n",
    "print('Number of CPUs: '+str(NCPU))"
   ]
  },
  {
   "cell_type": "code",
   "execution_count": null,
   "metadata": {},
   "outputs": [],
   "source": [
    "def dfunc(state, t0, sigma=10.0, beta=8/3.0, rho=58.0):\n",
    "    '''\n",
    "    This returns the time derivative of the coordinates,\n",
    "    defined by the 3D Lorenz system:\n",
    "    dx/dt = sigma*(y-x)\n",
    "    dy/dt = x*(rho-z)-y\n",
    "    dz/dt = x*y-beta*z\n",
    "    \n",
    "    Args:\n",
    "        state: array of length 3, coordinates at time t0\n",
    "        t0: Time\n",
    "        sigma, beta, rho: Lorentz system parameters\n",
    "        \n",
    "    Return:\n",
    "        d/dt state: array, Time derivative of coordinates\n",
    "    \n",
    "    '''\n",
    "    \n",
    "    #Unpack state vector\n",
    "    x, y, z = state\n",
    "    \n",
    "    return np.array([ sigma*(y-x), x*(rho-z)-y, x*y-beta*z])\n",
    "\n",
    "#Define time interval of interest\n",
    "t0, tf, tstep = 0.0, 20.0, 9999\n",
    "tvals = np.linspace(t0, tf, tstep)\n",
    "\n",
    "#Set initial state set to [1,1,1]\n",
    "xyz_0 = np.ones(3)\n",
    "\n",
    "#Integrate Lorenz system over time interval\n",
    "xyz = scipy.integrate.odeint( dfunc, xyz_0, tvals )"
   ]
  },
  {
   "cell_type": "code",
   "execution_count": null,
   "metadata": {},
   "outputs": [],
   "source": [
    "num_layers = [[5,8,5],[5,8,8,5],[5,8,8,8,5],[5,8,8,8,8,5],[5,8,8,8,8,8,5]]\n",
    "epochs = 999\n",
    "n_lay = [[num_layers[j],epochs,xyz] for j in range(len(num_layers))]\n",
    "\n",
    "if __name__ == '__main__':\n",
    "    \n",
    "    with Pool(NCPU) as p:\n",
    "        m_square = p.map(mean_square, n_lay)\n",
    "        \n",
    "print(m_square)"
   ]
  },
  {
   "cell_type": "markdown",
   "metadata": {},
   "source": [
    "### Conclusion"
   ]
  },
  {
   "cell_type": "code",
   "execution_count": null,
   "metadata": {},
   "outputs": [],
   "source": []
  }
 ],
 "metadata": {
  "kernelspec": {
   "display_name": "Python 3",
   "language": "python",
   "name": "python3"
  },
  "language_info": {
   "codemirror_mode": {
    "name": "ipython",
    "version": 3
   },
   "file_extension": ".py",
   "mimetype": "text/x-python",
   "name": "python",
   "nbconvert_exporter": "python",
   "pygments_lexer": "ipython3",
   "version": "3.6.8"
  }
 },
 "nbformat": 4,
 "nbformat_minor": 2
}
