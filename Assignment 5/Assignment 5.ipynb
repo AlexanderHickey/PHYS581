{
 "cells": [
  {
   "cell_type": "markdown",
   "metadata": {},
   "source": [
    "# Phys 581 Winter 2019\n",
    "# Assignment #5: Multiprocessing\n",
    "## Alexander Hickey, 10169582"
   ]
  },
  {
   "cell_type": "markdown",
   "metadata": {},
   "source": [
    "Note that this notebook makes use of the Keras deep learning library for python, which is compatible only with Python 2.7-3.6."
   ]
  },
  {
   "cell_type": "code",
   "execution_count": 1,
   "metadata": {},
   "outputs": [
    {
     "data": {
      "text/plain": [
       "'3.6.8 |Anaconda, Inc.| (default, Dec 30 2018, 01:22:34) \\n[GCC 7.3.0]'"
      ]
     },
     "execution_count": 1,
     "metadata": {},
     "output_type": "execute_result"
    }
   ],
   "source": [
    "#Must be running Python 3.6 or lower!\n",
    "import sys\n",
    "sys.version"
   ]
  },
  {
   "cell_type": "code",
   "execution_count": 2,
   "metadata": {},
   "outputs": [
    {
     "name": "stderr",
     "output_type": "stream",
     "text": [
      "Using TensorFlow backend.\n"
     ]
    }
   ],
   "source": [
    "#Import useful libraries\n",
    "import time\n",
    "import numpy as np\n",
    "import scipy.integrate\n",
    "import matplotlib.pyplot as plt\n",
    "import subprocess\n",
    "import psutil\n",
    "from multiprocessing import Pool\n",
    "from keras.models import Model, Sequential\n",
    "from keras.layers import Input, Dense\n",
    "%matplotlib inline"
   ]
  },
  {
   "cell_type": "markdown",
   "metadata": {},
   "source": [
    "### Introduction"
   ]
  },
  {
   "cell_type": "markdown",
   "metadata": {},
   "source": [
    "Parallel computing allows one to harness the processing power of a multi-core computer, and can significantly decrease the time required for repetitive computations. The idea behind parallel computing is to take a large problem and divide it into smaller ones which can be solved simultaneously, and allocate these different tasks to different parts of the CPU network. Often times, it is very powerful to implement parallel computing in the framework of scientific computations, to allow researchers to execute code and analyze output within a reasonable timeframe.\n",
    "\n",
    "The goal of this notebook is to analyze the process of parallel computing in python, and the efficiency of distributing tasks across a multi-core processor. In particular, I will look at how the computational efficiency scales with the number of computationally intensive tasks, as well as how parallel computing can be used in the context of hyperparameter optimization for machine learning.\n",
    "\n",
    "To analyze in detail how parallel processes get distributed over a multi-core processor, we will use the psutil library, which is used to retrieve information about running processes and system utilization (CPU, memory, disks, network, sensors) in Python. For hyperparameter optimization, we will use the multiprocessing package. For example, the psutil can be used to determine the number of cores on a given device."
   ]
  },
  {
   "cell_type": "code",
   "execution_count": 3,
   "metadata": {},
   "outputs": [
    {
     "name": "stdout",
     "output_type": "stream",
     "text": [
      "number of physical cores:  4 \n",
      "\n"
     ]
    }
   ],
   "source": [
    "print( 'number of physical cores: ', psutil.cpu_count(), '\\n' )"
   ]
  },
  {
   "cell_type": "markdown",
   "metadata": {},
   "source": [
    "For referece, this notebook is being developped on one of the Linux machines in the PJL, each of which contains 4 cores."
   ]
  },
  {
   "cell_type": "markdown",
   "metadata": {},
   "source": [
    "### Task: determine scaling efficiency"
   ]
  },
  {
   "cell_type": "markdown",
   "metadata": {},
   "source": [
    "The psutil library allows one to calculate the total CPU time spend on a task. To determine the scaling efficiency, we will compare this time to the so called wall time, which is the actual time elapsed. To start, we define some task that will be spawned multiple times in parallel."
   ]
  },
  {
   "cell_type": "code",
   "execution_count": 4,
   "metadata": {},
   "outputs": [],
   "source": [
    "#Define some arbitrary CPU intensive task to be run in the terminal\n",
    "cmnd = 'python -c \"[i**2 for i in range(9876543)]\"'"
   ]
  },
  {
   "cell_type": "markdown",
   "metadata": {},
   "source": [
    "Next, we define the function that will compute both the CPU and wall time for some set of processes that are spawned simultaneously."
   ]
  },
  {
   "cell_type": "code",
   "execution_count": 5,
   "metadata": {},
   "outputs": [],
   "source": [
    "def time_par(cmdlist, time_res = 1e-5):\n",
    "    '''\n",
    "    This function will compute both the CPU and wall time for a set\n",
    "    of processes spawned simultaneously.\n",
    "    \n",
    "    Args:\n",
    "        cmdlist: List of commands to track\n",
    "        time_res: Time step between tracking\n",
    "        \n",
    "    Return:\n",
    "        tlist: Array of both wall and cpu times for each process\n",
    "               to terminate. Axis 0 corresponds to wall time,\n",
    "               axis 1 corresponds to cpu time.\n",
    "    \n",
    "    '''\n",
    "    \n",
    "    #Spawn each process using the subprocess module.\n",
    "    plist = [subprocess.Popen(cmnd, shell=True) for j in cmdlist]\n",
    "    \n",
    "    #Iitialize list of child processes and wall time\n",
    "    ch_list = [0.0] \n",
    "    t0 = time.time()\n",
    "    \n",
    "    #Initialize dictionary that tracks CPU time while\n",
    "    #processes are still running.\n",
    "    t_dict = {p.pid:0.0 for p in plist}\n",
    "    \n",
    "    \n",
    "    #Empty list of child processes signals all of them have terminated\n",
    "    while ch_list != []:\n",
    "        \n",
    "        ch_list = []\n",
    "        \n",
    "        #Pause for timestep\n",
    "        time.sleep(time_res)\n",
    "        \n",
    "        #Record wall/cpu time of each process if still running\n",
    "        for p in plist:    \n",
    "            \n",
    "            child = psutil.Process(pid=p.pid).children()\n",
    "            \n",
    "            #Try to get info on process, if process has\n",
    "            #terminated, psutil will return an exception error\n",
    "            try:\n",
    "                \n",
    "                #Record cpu time of process\n",
    "                proc = psutil.Process(pid=child[0].pid)\n",
    "                cputime = proc.cpu_times().user\n",
    "                \n",
    "                #Record wall/cpu times in dictionary\n",
    "                t_dict[p.pid] = [time.time()-t0,cputime]\n",
    "                \n",
    "                #Append to list of active processes\n",
    "                ch_list.append(child)\n",
    "                \n",
    "            except:\n",
    "                None\n",
    "    \n",
    "    \n",
    "    return np.array([t_dict[key] for key in t_dict ])\n",
    "\n",
    "def ratio(t):\n",
    "    '''\n",
    "    This function will compute the ratio of the average CPU time\n",
    "    per process to the total wall time.\n",
    "    \n",
    "    Args:\n",
    "        t: Array of both wall and cpu times. Axis 0 corresponds to wall time,\n",
    "            axis 1 corresponds to cpu time.\n",
    "        \n",
    "    Return:\n",
    "        tlist: Average CPU time divided by total wall time.\n",
    "    \n",
    "    '''\n",
    "    \n",
    "    return np.mean(t[:,1])/np.max(t[:,0])"
   ]
  },
  {
   "cell_type": "markdown",
   "metadata": {},
   "source": [
    "Next, we look at how this efficiency scales with the number of processes given to the terminal."
   ]
  },
  {
   "cell_type": "code",
   "execution_count": 6,
   "metadata": {},
   "outputs": [],
   "source": [
    "N = 15\n",
    "t_rat = []\n",
    "\n",
    "for k in range(2,N+1):\n",
    "    \n",
    "    #Compute CPU/wall time\n",
    "    t = time_par([cmnd for j in range(k)])\n",
    "    t_rat.append(ratio(t))"
   ]
  },
  {
   "cell_type": "code",
   "execution_count": 7,
   "metadata": {},
   "outputs": [
    {
     "data": {
      "image/png": "[encoded data removed]",
      "text/plain": [
       "<Figure size 576x432 with 1 Axes>"
      ]
     },
     "metadata": {
      "needs_background": "light"
     },
     "output_type": "display_data"
    }
   ],
   "source": [
    "plt.figure(figsize=(8,6))\n",
    "plt.plot(np.arange(2,N+1),t_rat,marker = 'o')\n",
    "plt.xlabel('Number of processes',fontsize = 18)\n",
    "plt.ylabel('Average CPU time/Total wall time',fontsize = 18)\n",
    "plt.title('Parallel process scaling efficiency',fontsize = 18)\n",
    "plt.show()"
   ]
  },
  {
   "cell_type": "markdown",
   "metadata": {},
   "source": [
    "We see that the average CPU time relative to the total wall time tends to decrease with the total number of processes. This is to be expected, as all of the processes are spawned simultaneously. Furthermore, we see that the efficiency tends to asymptote for large numbers of tasks, suggesting that the multi-core CPU eventually becomes saturated, in which case some of the tasks will need to wait for available memory to execute."
   ]
  },
  {
   "cell_type": "markdown",
   "metadata": {},
   "source": [
    "### Task: Use the multiprocessing package to speed up hyperparameter optimization.    "
   ]
  },
  {
   "cell_type": "markdown",
   "metadata": {},
   "source": [
    "Next we will look at how the multiprocessing package can be used to speed up hyperparameter optimizations. Recall from the Neural Network assignment that the quality of fit from training a neural network depends largely on the hyperparameters used to define it. \n",
    "\n",
    "The code below is taken from Assignment #4, where we looked at predicting some timestep of given data for a Lorenz attractor. These functions are used to create and train a keras model for some given set of hyperparameters, and then compute the mean-square error by comparing to the actual data."
   ]
  },
  {
   "cell_type": "code",
   "execution_count": null,
   "metadata": {},
   "outputs": [],
   "source": [
    "def create_model(nodes=[8,11,6]):\n",
    "    '''\n",
    "    This function creates a dense Keras model with connectivity:\n",
    "    3-nodes-3 where nodes represents the \"deep\" layers.\n",
    "    \n",
    "    Args:\n",
    "        nodes: List describing number of deep layers and number of nodes at\n",
    "               each layer. \n",
    "        \n",
    "    Return:\n",
    "        model: Dense Keras model with desired connectivity.\n",
    "    \n",
    "    '''\n",
    "    #Create model\n",
    "    model = Sequential()\n",
    "    \n",
    "    #Define input layer\n",
    "    model.add(Dense(nodes[0], input_dim=3, activation='relu'))\n",
    "    \n",
    "    #Define \"deep\" layers\n",
    "    for n in nodes[1:]:\n",
    "        \n",
    "        model.add(Dense(n, activation='relu'))\n",
    "    \n",
    "    #Define output layer\n",
    "    model.add(Dense(3, activation='linear')) #sigmoid'))\n",
    "\n",
    "    #Compile model\n",
    "    model.compile(loss='mean_squared_error', optimizer='adam')\n",
    "    \n",
    "    return model\n",
    "\n",
    "def train_model(model,xyz,epochs = 999,L=900,ndt=99):\n",
    "    '''\n",
    "    This function trains a given Keras model to shift a time series\n",
    "    forward by some timestep ndt.\n",
    "    \n",
    "    Args:\n",
    "        model: Keras model\n",
    "        ndt: Timestep to shift time series\n",
    "        xyz: 3D time series data\n",
    "        L: Length of training interval\n",
    "        epochs: Number of epochs to perform training\n",
    "        \n",
    "    Return:\n",
    "        model: Trained model\n",
    "    \n",
    "    '''\n",
    "    \n",
    "    history = model.fit(xyz[:L],xyz[ndt:L+ndt], epochs=epochs, batch_size=100, \n",
    "                        verbose=0)\n",
    "    \n",
    "    return model\n",
    "\n",
    "def mean_square(args):\n",
    "    '''\n",
    "    This function will compute the mean-squared error of a keras model with given hyperparameters,\n",
    "    that attempt to predict some time shift in the given data set.\n",
    "    \n",
    "    Args:\n",
    "        args = [nodes,epochs,xyz]\n",
    "            nodes is the list specifying the connectivity of the keras model\n",
    "            epochs is the number of training epochs\n",
    "            xyz is the 3 dimensional data set\n",
    "        \n",
    "    Return:\n",
    "        Mean squared error\n",
    "    \n",
    "    '''\n",
    "    \n",
    "    vs, ndt, L = 5000, 99, 900\n",
    "    nodes,epochs,xyz = args\n",
    "    mod = create_model(nodes = nodes)\n",
    "    mod = train_model(mod,xyz,epochs = epochs)\n",
    "    \n",
    "    return np.sqrt( np.mean( (xyz[vs+ndt:vs+L+ndt,:]-mod.predict(xyz[vs:vs+L]) )**2))"
   ]
  },
  {
   "cell_type": "markdown",
   "metadata": {},
   "source": [
    "The following block of code will generate the Lorenz attractor trajectory that was studied in Assignment #4."
   ]
  },
  {
   "cell_type": "code",
   "execution_count": 9,
   "metadata": {},
   "outputs": [],
   "source": [
    "def dfunc(state, t0, sigma=10.0, beta=8/3.0, rho=58.0):\n",
    "    '''\n",
    "    This returns the time derivative of the coordinates,\n",
    "    defined by the 3D Lorenz system:\n",
    "    dx/dt = sigma*(y-x)\n",
    "    dy/dt = x*(rho-z)-y\n",
    "    dz/dt = x*y-beta*z\n",
    "    \n",
    "    Args:\n",
    "        state: array of length 3, coordinates at time t0\n",
    "        t0: Time\n",
    "        sigma, beta, rho: Lorentz system parameters\n",
    "        \n",
    "    Return:\n",
    "        d/dt state: array, Time derivative of coordinates\n",
    "    \n",
    "    '''\n",
    "    \n",
    "    #Unpack state vector\n",
    "    x, y, z = state\n",
    "    \n",
    "    return np.array([ sigma*(y-x), x*(rho-z)-y, x*y-beta*z])\n",
    "\n",
    "#Define time interval of interest\n",
    "t0, tf, tstep = 0.0, 20.0, 9999\n",
    "tvals = np.linspace(t0, tf, tstep)\n",
    "\n",
    "#Set initial state set to [1,1,1]\n",
    "xyz_0 = np.ones(3)\n",
    "\n",
    "#Integrate Lorenz system over time interval\n",
    "xyz = scipy.integrate.odeint( dfunc, xyz_0, tvals )"
   ]
  },
  {
   "cell_type": "markdown",
   "metadata": {},
   "source": [
    "It will be a good idea to store the number of cores, as this will most likely be the optimal number of processes to run simultaneously."
   ]
  },
  {
   "cell_type": "code",
   "execution_count": 2,
   "metadata": {},
   "outputs": [],
   "source": [
    "#Count number of cores\n",
    "NCPU = psutil.cpu_count()"
   ]
  },
  {
   "cell_type": "markdown",
   "metadata": {},
   "source": [
    "The hyperparameters of interest in this report are the number of layers, the number of nodes per layer, and the number of epochs during the training cycle. Starting with the number of layers, we can use the multiprocessing Pool object to compute the mean squared error for models trained with varying depth. Such tasks are computationally demanding, and each are independent of another, making this a good candidate to parallelize."
   ]
  },
  {
   "cell_type": "code",
   "execution_count": 10,
   "metadata": {},
   "outputs": [
    {
     "name": "stdout",
     "output_type": "stream",
     "text": [
      "Network: [5, 8, 5] leads to a mean-square error of: 9.108114893243906\n",
      "Network: [5, 8, 8, 5] leads to a mean-square error of: 6.588264695195615\n",
      "Network: [5, 8, 8, 8, 5] leads to a mean-square error of: 6.719830008721107\n",
      "Network: [5, 8, 8, 8, 8, 5] leads to a mean-square error of: 7.998176976720634\n",
      "Network: [5, 8, 8, 8, 8, 8, 5] leads to a mean-square error of: 3.0376666523178124\n"
     ]
    }
   ],
   "source": [
    "#List node schemes with varying number of layers\n",
    "num_layers = [[5,8,5],[5,8,8,5],[5,8,8,8,5],[5,8,8,8,8,5],[5,8,8,8,8,8,5]]\n",
    "\n",
    "#Number of training epochs\n",
    "epochs = 999\n",
    "\n",
    "#Pack into argument list\n",
    "n_lay = [[num_layers[j],epochs,xyz] for j in range(len(num_layers))]\n",
    "\n",
    "#Run in parallel, with NCPU=4 processes running simultaneously\n",
    "if __name__ == '__main__':\n",
    "    \n",
    "    with Pool(NCPU) as p:\n",
    "        m_square = p.map(mean_square, n_lay)\n",
    "\n",
    "#Print results\n",
    "for j in range(len(m_square)):\n",
    "    \n",
    "    print('Network: {} leads to a mean-square error of: {}'\n",
    "                      .format(num_layers[j],m_square[j]))"
   ]
  },
  {
   "cell_type": "markdown",
   "metadata": {},
   "source": [
    "We see that increasing the model depth tends produce better models. This is most likely a result of the versatility of the model getting better with a more complex topology. Next, we consider the optimum model with 7 layers, and vary the number of nodes per layer."
   ]
  },
  {
   "cell_type": "code",
   "execution_count": 11,
   "metadata": {},
   "outputs": [
    {
     "name": "stdout",
     "output_type": "stream",
     "text": [
      "Network: [5, 2, 2, 5, 2, 2, 5] leads to a mean-square error of: 29.481753537461103\n",
      "Network: [5, 8, 10, 12, 14, 8, 5] leads to a mean-square error of: 10.21615628181107\n",
      "Network: [5, 16, 16, 16, 16, 16, 5] leads to a mean-square error of: 29.481753537461103\n"
     ]
    }
   ],
   "source": [
    "#List node schemes with varying number of nodes per layer\n",
    "layer_depth = [[5,2,2,5,2,2,5],[5,8,10,12,14,8,5],[5,16,16,16,16,16,5]]\n",
    "\n",
    "#Number of training epochs\n",
    "epochs = 999\n",
    "\n",
    "#Pack into argument list\n",
    "n_lay = [[layer_depth[j],epochs,xyz] for j in range(len(layer_depth))]\n",
    "\n",
    "#Run in parallel, with NCPU=4 processes running simultaneously\n",
    "if __name__ == '__main__':\n",
    "    \n",
    "    with Pool(NCPU) as p:\n",
    "        m_square = p.map(mean_square, n_lay)\n",
    "\n",
    "#Print results\n",
    "for j in range(len(m_square)):\n",
    "    \n",
    "    print('Network: {} leads to a mean-square error of: {}'\n",
    "                      .format(layer_depth[j],m_square[j]))"
   ]
  },
  {
   "cell_type": "markdown",
   "metadata": {},
   "source": [
    "Interestingly, we see that the second model produces the best results. It seems that an increased number of nodes per layer will train better models, however, it is reasonable to assume that larger models will take longer to train. It follows that, when keeping the number of training epochs fixed, there will be some optimal number of nodes that can be trained efficiently. Finally, we look at how the results change with the number of training epochs."
   ]
  },
  {
   "cell_type": "code",
   "execution_count": 12,
   "metadata": {},
   "outputs": [
    {
     "name": "stdout",
     "output_type": "stream",
     "text": [
      "599 Epochs leads to a mean-square error of: 31.357054918189938\n",
      "999 Epochs leads to a mean-square error of: 29.481753537461103\n",
      "1499 Epochs leads to a mean-square error of: 27.201603001270552\n",
      "1999 Epochs leads to a mean-square error of: 24.980007423519613\n"
     ]
    }
   ],
   "source": [
    "#Fix node scheme\n",
    "layer = [5,16,16,16,16,16,5]\n",
    "\n",
    "#List varying number of training epochs\n",
    "num_epochs = [599,999,1499,1999]\n",
    "\n",
    "#Pack into argument list\n",
    "n_lay = [[layer,num_epochs[j],xyz] for j in range(len(num_epochs))]\n",
    "\n",
    "#Run in parallel, with NCPU=4 processes running simultaneously\n",
    "if __name__ == '__main__':\n",
    "    \n",
    "    with Pool(NCPU) as p:\n",
    "        m_square = p.map(mean_square, n_lay)\n",
    "\n",
    "#Print results\n",
    "for j in range(len(m_square)):\n",
    "    \n",
    "    print('{} Epochs leads to a mean-square error of: {}'\n",
    "                      .format(num_epochs[j],m_square[j]))"
   ]
  },
  {
   "cell_type": "markdown",
   "metadata": {},
   "source": [
    "As we see, the model becomes better trained with a larger number of training epochs. This is not too surprising, as the data will likely take a while to propagate through such a large neural network. Through all of the hyperparameters explored, we see that the [5,8,8,8,8,8,5] model produced the lowest mean square error. In this sense, it seems that the accuaracy of the neural network favours a large number of layers, with a reasonable low number of nodes per layer. These were analyzed at a fixed number of epochs, which seems to suggest that information is able to propagate through a network much more efficiently with a fewer number of nodes per layer."
   ]
  },
  {
   "cell_type": "markdown",
   "metadata": {},
   "source": [
    "### Conclusion"
   ]
  },
  {
   "cell_type": "markdown",
   "metadata": {},
   "source": [
    "This notebook has examined the practice of parallel computing in python using multiprocessing, and how the efficiency of spawning multiple processes relates to how many processes we call. We saw that the CPU efficiency per process tends to get better and asymptote as the number of processes increases. This most likely is a result of the available hardware (i.e. number of cores), which would intuitively saturate and behave as if the tasks were being executed sequentially. Additionally, we looked at how parallel computing can be used for the application of hyperparameter optimization of neural networks, a task which is generally quite computationally demanding. Using a brute-force type approach, we were able to compare how the model accuract varies when changing different hyperparameters, and we were able to do this in a reasonable amound of time by exploiting the multiple cores available to us.\n",
    "\n",
    "With more time available, it would be very interesting to see how these tasks could be distributed across an entire network of CPUs, rather than just a single device, a technique known as cluster computing."
   ]
  }
 ],
 "metadata": {
  "kernelspec": {
   "display_name": "Python 3",
   "language": "python",
   "name": "python3"
  },
  "language_info": {
   "codemirror_mode": {
    "name": "ipython",
    "version": 3
   },
   "file_extension": ".py",
   "mimetype": "text/x-python",
   "name": "python",
   "nbconvert_exporter": "python",
   "pygments_lexer": "ipython3",
   "version": "3.6.8"
  }
 },
 "nbformat": 4,
 "nbformat_minor": 2
}
