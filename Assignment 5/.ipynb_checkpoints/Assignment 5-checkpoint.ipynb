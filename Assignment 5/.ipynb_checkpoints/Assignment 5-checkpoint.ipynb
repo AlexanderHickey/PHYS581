{
 "cells": [
  {
   "cell_type": "markdown",
   "metadata": {},
   "source": [
    "# Phys 581 Winter 2019\n",
    "# Assignment #5: Multiprocessing\n",
    "## Alexander Hickey, 10169582"
   ]
  },
  {
   "cell_type": "code",
   "execution_count": 64,
   "metadata": {},
   "outputs": [],
   "source": [
    "#Import useful libraries\n",
    "import numpy as np\n",
    "import matplotlib.pyplot as plt\n",
    "import sys, os\n",
    "import signal, subprocess\n",
    "import psutil\n",
    "%matplotlib inline"
   ]
  },
  {
   "cell_type": "markdown",
   "metadata": {},
   "source": [
    "### Introduction"
   ]
  },
  {
   "cell_type": "markdown",
   "metadata": {},
   "source": [
    "Parallel computing allows one to harness the processing power of a multi-core computer, and can significantly decrease the time required for repetitive computations."
   ]
  },
  {
   "cell_type": "code",
   "execution_count": 2,
   "metadata": {},
   "outputs": [
    {
     "name": "stdout",
     "output_type": "stream",
     "text": [
      "scpustats(ctx_switches=9867851, interrupts=2285892, soft_interrupts=2009880, syscalls=0) \n",
      "\n",
      "scputimes(user=655.76, nice=4.03, system=150.88, idle=11944.72, iowait=733.98, irq=0.0, softirq=4.77, steal=0.0, guest=0.0, guest_nice=0.0) \n",
      "\n",
      "scputimes(user=10.0, nice=0.0, system=1.7, idle=87.5, iowait=0.7, irq=0.0, softirq=0.0, steal=0.0, guest=0.0, guest_nice=0.0) \n",
      "\n",
      "number of physical(?) CPUs:  4 \n",
      "\n",
      "[scputimes(user=5.0, nice=0.0, system=1.0, idle=94.1, iowait=0.0, irq=0.0, softirq=0.0, steal=0.0, guest=0.0, guest_nice=0.0), scputimes(user=6.0, nice=0.0, system=0.0, idle=94.0, iowait=0.0, irq=0.0, softirq=0.0, steal=0.0, guest=0.0, guest_nice=0.0), scputimes(user=3.0, nice=0.0, system=0.0, idle=96.0, iowait=0.0, irq=0.0, softirq=0.0, steal=0.0, guest=0.0, guest_nice=0.0), scputimes(user=4.0, nice=0.0, system=0.0, idle=95.0, iowait=0.0, irq=0.0, softirq=1.0, steal=0.0, guest=0.0, guest_nice=0.0)] \n",
      "\n",
      "['/home/alexander.hickey/anaconda3/lib/python3.7/site-packages/ipykernel_launcher.py', '-f', '/run/user/1214606896/jupyter/kernel-08537b3c-21db-490a-88f0-25aeec0903b2.json']\n"
     ]
    }
   ],
   "source": [
    "print( psutil.cpu_stats(), '\\n' )\n",
    "print( psutil.cpu_times(), '\\n' )\n",
    "print( psutil.cpu_times_percent(interval=1, percpu=False), '\\n' )\n",
    "print( 'number of physical(?) CPUs: ', psutil.cpu_count(), '\\n' )\n",
    "print( psutil.cpu_times_percent(interval=1, percpu=True), '\\n' )\n",
    "print(sys.argv)"
   ]
  },
  {
   "cell_type": "code",
   "execution_count": 3,
   "metadata": {},
   "outputs": [],
   "source": [
    "def cpu_idle(nloop=999):\n",
    "    \"\"\" simple example of signal handling\n",
    "    \"\"\"\n",
    "    cpu_idle.flag = nloop\n",
    "    \n",
    "    def handler(signum, frame):\n",
    "        print('Signal handler called with signal ',signum)\n",
    "        #signal.alarm(0)\n",
    "        cpu_idle.flag = 0\n",
    "        \n",
    "    signal.signal(signal.SIGINT, handler)\n",
    "\n",
    "    while cpu_idle.flag > 0:\n",
    "        cpu_idle.flag -= 1\n",
    "        cpu = psutil.cpu_times_percent(interval=1, percpu=True)\n",
    "        print('\\t'.join([str(c.idle) for c in cpu]))"
   ]
  },
  {
   "cell_type": "code",
   "execution_count": 4,
   "metadata": {},
   "outputs": [
    {
     "name": "stdout",
     "output_type": "stream",
     "text": [
      "2.25 s ± 39.5 ms per loop (mean ± std. dev. of 7 runs, 1 loop each)\n"
     ]
    }
   ],
   "source": [
    "# make a simple CPU intensive task\n",
    "#\n",
    "cmnd = '[i**2 for i in range(9876543)]'\n",
    "%timeit exec(cmnd)"
   ]
  },
  {
   "cell_type": "code",
   "execution_count": 15,
   "metadata": {},
   "outputs": [
    {
     "name": "stdout",
     "output_type": "stream",
     "text": [
      "subprocess status:  b'True\\n'\n"
     ]
    }
   ],
   "source": [
    "# spawn a subprocess to execute the task\n",
    "#\n",
    "status = subprocess.check_output('python -c \"[i**2 for i in range(9876)]; print(True)\"',shell=True)\n",
    "print('subprocess status: ', status)"
   ]
  },
  {
   "cell_type": "code",
   "execution_count": 196,
   "metadata": {},
   "outputs": [],
   "source": [
    "cmnd = 'python -c \"[i**2 for i in range(9876543)]; print(True)\"'\n",
    "import time\n",
    "def paralize(cmdlist, nwait=100, nicer=False):\n",
    "    \n",
    "    plist = []\n",
    "    for n, cmd in enumerate(cmdlist):\n",
    "        plist.append( subprocess.Popen(cmnd, shell=True) ) \n",
    "#        print( plist[-1].pid )\n",
    "#        if nicer and n >= psutil.cpu_count():\n",
    "#            print('nice: ', psutil.Process( plist[-1].pid ).nice(-10) ) # set priority not supported under Windows\n",
    "    \n",
    "    tlist = {}\n",
    "    n0 = time.time()\n",
    "    for i in range(nwait):\n",
    "        \n",
    "        time.sleep(0.1)\n",
    "        \n",
    "        for n,p in enumerate(plist):    \n",
    "            try:\n",
    "                parent = psutil.Process(pid=p.pid)\n",
    "        \n",
    "                child = parent.children()[0]\n",
    "                \n",
    "                if child is None:# or len(child)< 1:\n",
    "                    continue\n",
    "                proc = psutil.Process(pid=child.pid)\n",
    "                \n",
    "                cputime = proc.cpu_times().user\n",
    "                \n",
    "                tlist[p.pid] = [time.time()-n0,cputime]\n",
    "        \n",
    "            except:\n",
    "                None\n",
    "                \n",
    "        \n",
    "    return tlist\n",
    "        \n",
    "dat = paralize([cmnd for j in range(8)])"
   ]
  },
  {
   "cell_type": "code",
   "execution_count": 197,
   "metadata": {},
   "outputs": [
    {
     "data": {
      "text/plain": [
       "[<matplotlib.lines.Line2D at 0x7fb13bc8eba8>]"
      ]
     },
     "execution_count": 197,
     "metadata": {},
     "output_type": "execute_result"
    },
    {
     "data": {
      "image/png": "[encoded data removed]",
      "text/plain": [
       "<Figure size 432x288 with 1 Axes>"
      ]
     },
     "metadata": {
      "needs_background": "light"
     },
     "output_type": "display_data"
    }
   ],
   "source": [
    "t =[]\n",
    "for key in dat:\n",
    "    t.append(dat[key])\n",
    "t = np.array(t)\n",
    "\n",
    "plt.plot(t[:,0],t[:,1],marker= 'o')"
   ]
  },
  {
   "cell_type": "code",
   "execution_count": 198,
   "metadata": {},
   "outputs": [
    {
     "data": {
      "text/plain": [
       "3.6698946325352346"
      ]
     },
     "execution_count": 198,
     "metadata": {},
     "output_type": "execute_result"
    }
   ],
   "source": [
    "np.sum(t[:,1])/np.mean(t[:,0])"
   ]
  },
  {
   "cell_type": "code",
   "execution_count": null,
   "metadata": {},
   "outputs": [],
   "source": [
    "# run three subprocesses in parallel\n",
    "#\n",
    "paralize([cmnd for i in range(3)], nwait=500)"
   ]
  },
  {
   "cell_type": "code",
   "execution_count": 8,
   "metadata": {},
   "outputs": [
    {
     "name": "stdout",
     "output_type": "stream",
     "text": [
      "0 1.0\t0.0\t0.0\t0.0 0,1,2,3,4,5,6,7\n",
      "1 0.0\t0.0\t0.0\t0.0 0,1,2,3,4,5,6,7\n",
      "2 0.0\t0.0\t0.0\t0.0 0,1,2,3,4,5,6,7\n",
      "3 0.0\t0.0\t0.0\t0.0 0,1,2,3,4,5,6,7\n",
      "4 0.0\t0.0\t0.0\t0.0 4,5,6,7\n",
      "5 92.0\t93.0\t91.0\t95.1 \n",
      "6 99.0\t99.0\t98.0\t99.0 \n",
      "7 99.0\t99.0\t99.0\t99.0 \n",
      "8 99.0\t97.0\t99.0\t99.0 \n",
      "9 97.0\t98.0\t99.0\t96.1 \n"
     ]
    }
   ],
   "source": [
    "# run one process for each CPU\n",
    "#\n",
    "paralize([cmnd for i in range(8)], nwait=10)"
   ]
  },
  {
   "cell_type": "code",
   "execution_count": 9,
   "metadata": {},
   "outputs": [
    {
     "name": "stdout",
     "output_type": "stream",
     "text": [
      "0 0.0\t0.0\t0.0\t0.0 0,1,2,3,4,5,6,7,8,9,10,11\n",
      "1 0.0\t0.0\t0.0\t0.0 0,1,2,3,4,5,6,7,8,9,10,11\n",
      "2 0.0\t0.0\t0.0\t0.0 0,1,2,3,4,5,6,7,8,9,10,11\n",
      "3 0.0\t0.0\t0.0\t0.0 0,1,2,3,4,5,6,7,8,9,10,11\n",
      "4 0.0\t0.0\t0.0\t0.0 0,1,2,3,4,5,6,7,8,9,10,11\n",
      "5 0.0\t0.0\t0.0\t0.0 0,1,2,3,4,5,6,7,8,9,10,11\n",
      "6 0.0\t0.0\t0.0\t0.0 0,1,2,3,4,5,6,7,8,9,10,11\n",
      "7 8.0\t4.0\t8.9\t7.0 \n",
      "8 99.0\t98.0\t99.0\t99.0 \n",
      "9 99.0\t99.0\t98.0\t98.0 \n"
     ]
    }
   ],
   "source": [
    "# oversubscribing by 50% takes slightly longer\n",
    "#\n",
    "paralize([cmnd for i in range(12)], nwait=10)"
   ]
  },
  {
   "cell_type": "code",
   "execution_count": 10,
   "metadata": {},
   "outputs": [
    {
     "name": "stdout",
     "output_type": "stream",
     "text": [
      "0 0.0\t0.0\t0.0\t0.0 0,1,2,3,4,5,6,7,8,9,10,11,12,13,14,15,16,17,18,19,20,21,22,23\n",
      "1 0.0\t0.0\t0.0\t0.0 0,1,2,3,4,5,6,7,8,9,10,11,12,13,14,15,16,17,18,19,20,21,22,23\n",
      "2 0.0\t0.0\t0.0\t0.0 0,1,2,3,4,5,6,7,8,9,10,11,12,13,14,15,16,17,18,19,20,21,22,23\n",
      "3 0.0\t0.0\t0.0\t0.0 0,1,2,3,4,5,6,7,8,9,10,11,12,13,14,15,16,17,18,19,20,21,22,23\n",
      "4 0.0\t0.0\t0.0\t0.0 0,1,2,3,4,5,6,7,8,9,10,11,12,13,14,15,16,17,18,19,20,21,22,23\n",
      "5 0.0\t0.0\t0.0\t0.0 0,1,2,3,4,5,6,7,8,9,10,11,12,13,14,15,16,17,18,19,20,21,22,23\n",
      "6 0.0\t0.0\t0.0\t0.0 0,1,2,3,4,5,6,7,8,9,10,11,12,13,14,15,16,17,18,19,20,21,22,23\n",
      "7 0.0\t0.0\t0.0\t0.0 0,1,2,3,4,5,6,7,8,9,10,11,12,13,14,15,16,17,18,19,20,21,22,23\n",
      "8 0.0\t0.0\t0.0\t0.0 0,1,2,3,4,5,6,7,8,9,10,11,12,13,14,15,16,17,18,19,20,21,22,23\n",
      "9 0.0\t0.0\t0.0\t0.0 0,1,2,3,4,5,6,7,8,9,10,11,12,13,14,15,16,17,18,19,20,21,22,23\n",
      "10 0.0\t0.0\t0.0\t0.0 0,1,2,3,4,5,6,7,8,9,10,11,12,13,14,15,16,17,18,19,20,21,22,23\n",
      "11 0.0\t0.0\t0.0\t0.0 0,1,2,3,4,5,6,7,8,9,10,11,12,13,14,15,16,17,18,19,20,21,22,23\n",
      "12 0.0\t0.0\t0.0\t0.0 0,1,2,3,4,5,6,7,8,9,10,11,12,13,14,15,16,17,18,19,20,21,22,23\n",
      "13 0.0\t0.0\t0.0\t0.0 0,1,2,3,4,5,6,7,8,9,10,11,12,13,14,15,16,17,18,19,20,21,22,23\n",
      "14 0.0\t0.0\t0.0\t0.0 0,1,2,3,4,5,6,7,8,9,10,11,12,13,14,15,16,17,18,19,20,21,22,23\n"
     ]
    }
   ],
   "source": [
    "paralize([cmnd for i in range(24)], nwait=15)"
   ]
  },
  {
   "cell_type": "markdown",
   "metadata": {},
   "source": [
    "### Task: determine scaling efficiency\n",
    "Gather estimates of computation as a function of number of processes, plot, and analyze.\n",
    "\n",
    "Ideally we would have a perfectly linear relationship up to the number of CPUs and constant thereafter.  In practice the slope will be less than one and may saturate earlier."
   ]
  },
  {
   "cell_type": "code",
   "execution_count": 32,
   "metadata": {},
   "outputs": [
    {
     "name": "stdout",
     "output_type": "stream",
     "text": [
      "0 python -c \"[i**2 for i in range(9876543)]; print(True)\"\n",
      "1 python -c \"[i**2 for i in range(9876543)]; print(True)\"\n",
      "2 python -c \"[i**2 for i in range(9876543)]; print(True)\"\n",
      "3 python -c \"[i**2 for i in range(9876543)]; print(True)\"\n",
      "4 python -c \"[i**2 for i in range(9876543)]; print(True)\"\n"
     ]
    }
   ],
   "source": [
    "cmdlist = [cmnd for j in range(5)]\n",
    "for n, cmd in enumerate(cmdlist):\n",
    "    print(n,cmd)"
   ]
  },
  {
   "cell_type": "code",
   "execution_count": 91,
   "metadata": {},
   "outputs": [],
   "source": [
    "cmnd = 'python -c \"[i**2 for i in range(9876543)]; print(True)\"'\n",
    "\n",
    "def cpu_calls(cmdlist, t_interval= 1e-3):\n",
    "    \n",
    "    plist = []\n",
    "    for cmd in cmdlist:\n",
    "        plist.append(subprocess.Popen(cmnd, shell=True)) \n",
    "    \n",
    "    no_process = [0 for j in plist]\n",
    "    nwait = 0\n",
    "    active = []\n",
    "    \n",
    "    while active != no_process:\n",
    "        cpu = psutil.cpu_times_percent(interval=t_interval, percpu=True)\n",
    "        active = [p.poll() for p in plist]\n",
    "        nwait += 1\n",
    "        \n",
    "    return nwait\n",
    "        \n",
    "    \n",
    "num = np.arange(1,20)\n",
    "wait = []\n",
    "for n in num:\n",
    "    \n",
    "    wait.append(cpu_calls([cmnd for i in range(n)]))"
   ]
  },
  {
   "cell_type": "code",
   "execution_count": 95,
   "metadata": {},
   "outputs": [
    {
     "data": {
      "image/png": "[encoded data removed]",
      "text/plain": [
       "<Figure size 576x432 with 1 Axes>"
      ]
     },
     "metadata": {
      "needs_background": "light"
     },
     "output_type": "display_data"
    }
   ],
   "source": [
    "plt.figure(figsize=(8,6))\n",
    "plt.plot(num,wait,marker = 'o')\n",
    "plt.xlabel('Number of processes')\n",
    "plt.ylabel('Time (ms)')\n",
    "\n",
    "plt.show()"
   ]
  },
  {
   "cell_type": "markdown",
   "metadata": {},
   "source": [
    "### Task: Use the multiprocessing package to speed up hyperparameter optimization.    "
   ]
  },
  {
   "cell_type": "code",
   "execution_count": null,
   "metadata": {},
   "outputs": [],
   "source": []
  },
  {
   "cell_type": "markdown",
   "metadata": {},
   "source": [
    "### Figure out how to get this working on a single computer "
   ]
  },
  {
   "cell_type": "code",
   "execution_count": null,
   "metadata": {},
   "outputs": [],
   "source": []
  },
  {
   "cell_type": "markdown",
   "metadata": {},
   "source": [
    "### Figure out how to get this working on all of the ST026 computers "
   ]
  },
  {
   "cell_type": "code",
   "execution_count": null,
   "metadata": {},
   "outputs": [],
   "source": []
  },
  {
   "cell_type": "markdown",
   "metadata": {},
   "source": [
    "### Conclusion"
   ]
  },
  {
   "cell_type": "code",
   "execution_count": null,
   "metadata": {},
   "outputs": [],
   "source": []
  }
 ],
 "metadata": {
  "kernelspec": {
   "display_name": "Python 3",
   "language": "python",
   "name": "python3"
  },
  "language_info": {
   "codemirror_mode": {
    "name": "ipython",
    "version": 3
   },
   "file_extension": ".py",
   "mimetype": "text/x-python",
   "name": "python",
   "nbconvert_exporter": "python",
   "pygments_lexer": "ipython3",
   "version": "3.7.2"
  }
 },
 "nbformat": 4,
 "nbformat_minor": 2
}
