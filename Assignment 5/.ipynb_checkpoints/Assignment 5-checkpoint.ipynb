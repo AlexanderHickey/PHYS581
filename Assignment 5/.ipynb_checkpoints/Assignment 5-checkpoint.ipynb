{
 "cells": [
  {
   "cell_type": "markdown",
   "metadata": {},
   "source": [
    "# Phys 581 Winter 2019\n",
    "# Assignment #5: Multiprocessing\n",
    "## Alexander Hickey, 10169582"
   ]
  },
  {
   "cell_type": "code",
   "execution_count": 1,
   "metadata": {},
   "outputs": [],
   "source": [
    "#Import useful libraries\n",
    "import numpy as np\n",
    "import matplotlib.pyplot as plt\n",
    "import sys, os\n",
    "import signal, subprocess\n",
    "import psutil\n",
    "%matplotlib inline"
   ]
  },
  {
   "cell_type": "markdown",
   "metadata": {},
   "source": [
    "### Introduction"
   ]
  },
  {
   "cell_type": "markdown",
   "metadata": {},
   "source": [
    "Parallel computing allows one to harness the processing power of a multi-core computer, and can significantly decrease the time required for repetitive computations. The idea behind parallel computing is to take a large problem and divide it into smaller ones which can be solved simultaneously, and allocate these different tasks to different parts of the CPU network. Often times, it is very powerful to implement parallel computing in the framework of scientific computations, to allow researchers to execute code and analyze output within a reasonable timeframe."
   ]
  },
  {
   "cell_type": "code",
   "execution_count": 2,
   "metadata": {},
   "outputs": [
    {
     "name": "stdout",
     "output_type": "stream",
     "text": [
      "scpustats(ctx_switches=48726408, interrupts=16151634, soft_interrupts=15836087, syscalls=0) \n",
      "\n",
      "scputimes(user=4101.87, nice=53.95, system=729.69, idle=683332.62, iowait=2418.76, irq=0.0, softirq=16.16, steal=0.0, guest=0.0, guest_nice=0.0) \n",
      "\n",
      "scputimes(user=25.7, nice=0.0, system=1.2, idle=73.1, iowait=0.0, irq=0.0, softirq=0.0, steal=0.0, guest=0.0, guest_nice=0.0) \n",
      "\n",
      "number of physical(?) CPUs:  4 \n",
      "\n",
      "[scputimes(user=2.0, nice=0.0, system=0.0, idle=98.0, iowait=0.0, irq=0.0, softirq=0.0, steal=0.0, guest=0.0, guest_nice=0.0), scputimes(user=84.2, nice=0.0, system=4.0, idle=11.9, iowait=0.0, irq=0.0, softirq=0.0, steal=0.0, guest=0.0, guest_nice=0.0), scputimes(user=1.0, nice=0.0, system=0.0, idle=98.0, iowait=0.0, irq=0.0, softirq=0.0, steal=0.0, guest=0.0, guest_nice=0.0), scputimes(user=30.0, nice=0.0, system=3.0, idle=66.0, iowait=0.0, irq=0.0, softirq=0.0, steal=0.0, guest=0.0, guest_nice=0.0)] \n",
      "\n",
      "['/home/alexander.hickey/anaconda3/lib/python3.7/site-packages/ipykernel_launcher.py', '-f', '/run/user/1214606896/jupyter/kernel-11172bd3-d8ba-4752-a308-fae32a8da61c.json']\n"
     ]
    }
   ],
   "source": [
    "print( psutil.cpu_stats(), '\\n' )\n",
    "print( psutil.cpu_times(), '\\n' )\n",
    "print( psutil.cpu_times_percent(interval=1, percpu=False), '\\n' )\n",
    "print( 'number of physical(?) CPUs: ', psutil.cpu_count(), '\\n' )\n",
    "print( psutil.cpu_times_percent(interval=1, percpu=True), '\\n' )\n",
    "print(sys.argv)"
   ]
  },
  {
   "cell_type": "code",
   "execution_count": 3,
   "metadata": {},
   "outputs": [],
   "source": [
    "def cpu_idle(nloop=999):\n",
    "    \"\"\" simple example of signal handling\n",
    "    \"\"\"\n",
    "    cpu_idle.flag = nloop\n",
    "    \n",
    "    def handler(signum, frame):\n",
    "        print('Signal handler called with signal ',signum)\n",
    "        #signal.alarm(0)\n",
    "        cpu_idle.flag = 0\n",
    "        \n",
    "    signal.signal(signal.SIGINT, handler)\n",
    "\n",
    "    while cpu_idle.flag > 0:\n",
    "        cpu_idle.flag -= 1\n",
    "        cpu = psutil.cpu_times_percent(interval=1, percpu=True)\n",
    "        print('\\t'.join([str(c.idle) for c in cpu]))"
   ]
  },
  {
   "cell_type": "code",
   "execution_count": 4,
   "metadata": {},
   "outputs": [
    {
     "name": "stdout",
     "output_type": "stream",
     "text": [
      "2.21 s ± 28.6 ms per loop (mean ± std. dev. of 7 runs, 1 loop each)\n"
     ]
    }
   ],
   "source": [
    "# make a simple CPU intensive task\n",
    "#\n",
    "cmnd = '[i**2 for i in range(9876543)]'\n",
    "%timeit exec(cmnd)"
   ]
  },
  {
   "cell_type": "code",
   "execution_count": 5,
   "metadata": {},
   "outputs": [
    {
     "name": "stdout",
     "output_type": "stream",
     "text": [
      "subprocess status:  b'True\\n'\n"
     ]
    }
   ],
   "source": [
    "# spawn a subprocess to execute the task\n",
    "#\n",
    "status = subprocess.check_output('python -c \"[i**2 for i in range(9876)]; print(True)\"',shell=True)\n",
    "print('subprocess status: ', status)"
   ]
  },
  {
   "cell_type": "code",
   "execution_count": 18,
   "metadata": {},
   "outputs": [],
   "source": [
    "cmnd = 'python -c \"[i**2 for i in range(9876543)]; print(True)\"'\n",
    "import time\n",
    "def paralize(cmdlist, nwait=100, nicer=False):\n",
    "    \n",
    "    plist = []\n",
    "    for n, cmd in enumerate(cmdlist):\n",
    "        plist.append( subprocess.Popen(cmnd, shell=True) ) \n",
    "    \n",
    "    tlist = {}\n",
    "    n0 = time.time()\n",
    "    for i in range(nwait):\n",
    "        \n",
    "        time.sleep(0.1)\n",
    "        \n",
    "        for n,p in enumerate(plist):    \n",
    "            try:\n",
    "                parent = psutil.Process(pid=p.pid)\n",
    "        \n",
    "                child = parent.children()[0]\n",
    "                \n",
    "                if child is None:# or len(child)< 1:\n",
    "                    continue\n",
    "                proc = psutil.Process(pid=child.pid)\n",
    "                \n",
    "                cputime = proc.cpu_times().user\n",
    "                \n",
    "                tlist[p.pid] = [time.time()-n0,cputime]\n",
    "        \n",
    "            except:\n",
    "                None\n",
    "                \n",
    "        \n",
    "    return tlist\n",
    "        \n",
    "dat = paralize([cmnd for j in range(8)])"
   ]
  },
  {
   "cell_type": "code",
   "execution_count": 19,
   "metadata": {},
   "outputs": [
    {
     "data": {
      "text/plain": [
       "[<matplotlib.lines.Line2D at 0x7f65e4789ef0>]"
      ]
     },
     "execution_count": 19,
     "metadata": {},
     "output_type": "execute_result"
    },
    {
     "data": {
      "image/png": "[encoded data removed]",
      "text/plain": [
       "<Figure size 432x288 with 1 Axes>"
      ]
     },
     "metadata": {
      "needs_background": "light"
     },
     "output_type": "display_data"
    }
   ],
   "source": [
    "t =[]\n",
    "for key in dat:\n",
    "    t.append(dat[key])\n",
    "t = np.array(t)\n",
    "\n",
    "plt.plot(t[:,0],t[:,1],marker= 'o')"
   ]
  },
  {
   "cell_type": "code",
   "execution_count": 8,
   "metadata": {},
   "outputs": [
    {
     "data": {
      "text/plain": [
       "7.317507441242123"
      ]
     },
     "execution_count": 8,
     "metadata": {},
     "output_type": "execute_result"
    }
   ],
   "source": [
    "np.sum(t[:,1])/np.mean(t[:,0])"
   ]
  },
  {
   "cell_type": "code",
   "execution_count": null,
   "metadata": {},
   "outputs": [],
   "source": [
    "# run three subprocesses in parallel\n",
    "#\n",
    "paralize([cmnd for i in range(3)], nwait=500)"
   ]
  },
  {
   "cell_type": "code",
   "execution_count": 8,
   "metadata": {},
   "outputs": [
    {
     "name": "stdout",
     "output_type": "stream",
     "text": [
      "0 1.0\t0.0\t0.0\t0.0 0,1,2,3,4,5,6,7\n",
      "1 0.0\t0.0\t0.0\t0.0 0,1,2,3,4,5,6,7\n",
      "2 0.0\t0.0\t0.0\t0.0 0,1,2,3,4,5,6,7\n",
      "3 0.0\t0.0\t0.0\t0.0 0,1,2,3,4,5,6,7\n",
      "4 0.0\t0.0\t0.0\t0.0 4,5,6,7\n",
      "5 92.0\t93.0\t91.0\t95.1 \n",
      "6 99.0\t99.0\t98.0\t99.0 \n",
      "7 99.0\t99.0\t99.0\t99.0 \n",
      "8 99.0\t97.0\t99.0\t99.0 \n",
      "9 97.0\t98.0\t99.0\t96.1 \n"
     ]
    }
   ],
   "source": [
    "# run one process for each CPU\n",
    "#\n",
    "paralize([cmnd for i in range(8)], nwait=10)"
   ]
  },
  {
   "cell_type": "code",
   "execution_count": 9,
   "metadata": {},
   "outputs": [
    {
     "name": "stdout",
     "output_type": "stream",
     "text": [
      "0 0.0\t0.0\t0.0\t0.0 0,1,2,3,4,5,6,7,8,9,10,11\n",
      "1 0.0\t0.0\t0.0\t0.0 0,1,2,3,4,5,6,7,8,9,10,11\n",
      "2 0.0\t0.0\t0.0\t0.0 0,1,2,3,4,5,6,7,8,9,10,11\n",
      "3 0.0\t0.0\t0.0\t0.0 0,1,2,3,4,5,6,7,8,9,10,11\n",
      "4 0.0\t0.0\t0.0\t0.0 0,1,2,3,4,5,6,7,8,9,10,11\n",
      "5 0.0\t0.0\t0.0\t0.0 0,1,2,3,4,5,6,7,8,9,10,11\n",
      "6 0.0\t0.0\t0.0\t0.0 0,1,2,3,4,5,6,7,8,9,10,11\n",
      "7 8.0\t4.0\t8.9\t7.0 \n",
      "8 99.0\t98.0\t99.0\t99.0 \n",
      "9 99.0\t99.0\t98.0\t98.0 \n"
     ]
    }
   ],
   "source": [
    "# oversubscribing by 50% takes slightly longer\n",
    "#\n",
    "paralize([cmnd for i in range(12)], nwait=10)"
   ]
  },
  {
   "cell_type": "code",
   "execution_count": 10,
   "metadata": {},
   "outputs": [
    {
     "name": "stdout",
     "output_type": "stream",
     "text": [
      "0 0.0\t0.0\t0.0\t0.0 0,1,2,3,4,5,6,7,8,9,10,11,12,13,14,15,16,17,18,19,20,21,22,23\n",
      "1 0.0\t0.0\t0.0\t0.0 0,1,2,3,4,5,6,7,8,9,10,11,12,13,14,15,16,17,18,19,20,21,22,23\n",
      "2 0.0\t0.0\t0.0\t0.0 0,1,2,3,4,5,6,7,8,9,10,11,12,13,14,15,16,17,18,19,20,21,22,23\n",
      "3 0.0\t0.0\t0.0\t0.0 0,1,2,3,4,5,6,7,8,9,10,11,12,13,14,15,16,17,18,19,20,21,22,23\n",
      "4 0.0\t0.0\t0.0\t0.0 0,1,2,3,4,5,6,7,8,9,10,11,12,13,14,15,16,17,18,19,20,21,22,23\n",
      "5 0.0\t0.0\t0.0\t0.0 0,1,2,3,4,5,6,7,8,9,10,11,12,13,14,15,16,17,18,19,20,21,22,23\n",
      "6 0.0\t0.0\t0.0\t0.0 0,1,2,3,4,5,6,7,8,9,10,11,12,13,14,15,16,17,18,19,20,21,22,23\n",
      "7 0.0\t0.0\t0.0\t0.0 0,1,2,3,4,5,6,7,8,9,10,11,12,13,14,15,16,17,18,19,20,21,22,23\n",
      "8 0.0\t0.0\t0.0\t0.0 0,1,2,3,4,5,6,7,8,9,10,11,12,13,14,15,16,17,18,19,20,21,22,23\n",
      "9 0.0\t0.0\t0.0\t0.0 0,1,2,3,4,5,6,7,8,9,10,11,12,13,14,15,16,17,18,19,20,21,22,23\n",
      "10 0.0\t0.0\t0.0\t0.0 0,1,2,3,4,5,6,7,8,9,10,11,12,13,14,15,16,17,18,19,20,21,22,23\n",
      "11 0.0\t0.0\t0.0\t0.0 0,1,2,3,4,5,6,7,8,9,10,11,12,13,14,15,16,17,18,19,20,21,22,23\n",
      "12 0.0\t0.0\t0.0\t0.0 0,1,2,3,4,5,6,7,8,9,10,11,12,13,14,15,16,17,18,19,20,21,22,23\n",
      "13 0.0\t0.0\t0.0\t0.0 0,1,2,3,4,5,6,7,8,9,10,11,12,13,14,15,16,17,18,19,20,21,22,23\n",
      "14 0.0\t0.0\t0.0\t0.0 0,1,2,3,4,5,6,7,8,9,10,11,12,13,14,15,16,17,18,19,20,21,22,23\n"
     ]
    }
   ],
   "source": [
    "paralize([cmnd for i in range(24)], nwait=15)"
   ]
  },
  {
   "cell_type": "markdown",
   "metadata": {},
   "source": [
    "### Task: determine scaling efficiency\n",
    "Gather estimates of computation as a function of number of processes, plot, and analyze.\n",
    "\n",
    "Ideally we would have a perfectly linear relationship up to the number of CPUs and constant thereafter.  In practice the slope will be less than one and may saturate earlier."
   ]
  },
  {
   "cell_type": "code",
   "execution_count": 32,
   "metadata": {},
   "outputs": [
    {
     "name": "stdout",
     "output_type": "stream",
     "text": [
      "0 python -c \"[i**2 for i in range(9876543)]; print(True)\"\n",
      "1 python -c \"[i**2 for i in range(9876543)]; print(True)\"\n",
      "2 python -c \"[i**2 for i in range(9876543)]; print(True)\"\n",
      "3 python -c \"[i**2 for i in range(9876543)]; print(True)\"\n",
      "4 python -c \"[i**2 for i in range(9876543)]; print(True)\"\n"
     ]
    }
   ],
   "source": [
    "cmdlist = [cmnd for j in range(5)]\n",
    "for n, cmd in enumerate(cmdlist):\n",
    "    print(n,cmd)"
   ]
  },
  {
   "cell_type": "code",
   "execution_count": 115,
   "metadata": {},
   "outputs": [
    {
     "data": {
      "text/plain": [
       "array([[2.46925378, 2.32      ],\n",
       "       [2.50685954, 2.31      ]])"
      ]
     },
     "execution_count": 115,
     "metadata": {},
     "output_type": "execute_result"
    }
   ],
   "source": [
    "cmnd = 'python -c \"[i**2 for i in range(9876543)]; print(True)\"'\n",
    "import time\n",
    "\n",
    "def time_par(cmdlist, time_res = 1e-5):\n",
    "    '''\n",
    "    This function will compute both the ...    \n",
    "    Args:\n",
    "        cmdlist: List of commands to track\n",
    "        time_res: Time step between tracking\n",
    "        \n",
    "    Return:\n",
    "        tlist: Array of both wall and cpu times for each process\n",
    "               to terminate. Axis 0 corresponds to wall time,\n",
    "               axis 1 corresponds to cpu time.\n",
    "    \n",
    "    '''\n",
    "    plist = [subprocess.Popen(cmnd, shell=True) for j in cmdlist]\n",
    "    ch_list = [0.0] \n",
    "    t0 = time.time()\n",
    "    t_dict = {p.pid:0.0 for p in plist}\n",
    "    \n",
    "    \n",
    "    while ch_list != []:\n",
    "        \n",
    "        ch_list = []\n",
    "        time.sleep(time_res)\n",
    "        \n",
    "        for p in plist:    \n",
    "            \n",
    "            parent = psutil.Process(pid=p.pid)\n",
    "            child = parent.children()\n",
    "            \n",
    "            try:\n",
    "                proc = psutil.Process(pid=child[0].pid)\n",
    "                cputime = proc.cpu_times().user\n",
    "                t_dict[p.pid] = [time.time()-t0,cputime]\n",
    "                ch_list.append(child)\n",
    "                \n",
    "            except:\n",
    "                None\n",
    "    \n",
    "    t = np.array([t_dict[key] for key in t_dict ])\n",
    "    \n",
    "    return t\n",
    "\n",
    "def ratio(t):\n",
    "    \n",
    "    \n",
    "    return np.mean(t[:,1])/np.max(t[:,0])\n",
    "\n",
    "\n",
    "    \n",
    "t=time_par([cmnd for j in range(2)])\n",
    "t"
   ]
  },
  {
   "cell_type": "code",
   "execution_count": 111,
   "metadata": {},
   "outputs": [
    {
     "data": {
      "text/plain": [
       "0.9372469635627529"
      ]
     },
     "execution_count": 111,
     "metadata": {},
     "output_type": "execute_result"
    }
   ],
   "source": [
    "2.315/2.47"
   ]
  },
  {
   "cell_type": "code",
   "execution_count": 112,
   "metadata": {},
   "outputs": [],
   "source": [
    "N = 7\n",
    "t_rat = []\n",
    "\n",
    "for k in range(2,N+1):\n",
    "    \n",
    "    t = time_par([cmnd for j in range(k)])\n",
    "    \n",
    "    t_rat.append(ratio(t))\n",
    " "
   ]
  },
  {
   "cell_type": "code",
   "execution_count": 113,
   "metadata": {},
   "outputs": [
    {
     "data": {
      "image/png": "[encoded data removed]",
      "text/plain": [
       "<Figure size 576x432 with 1 Axes>"
      ]
     },
     "metadata": {
      "needs_background": "light"
     },
     "output_type": "display_data"
    }
   ],
   "source": [
    "plt.figure(figsize=(8,6))\n",
    "plt.plot(np.arange(2,N+1),t_rat,marker= 'o')\n",
    "plt.xlabel('N')\n",
    "plt.ylabel('wall/cpu')\n",
    "\n",
    "plt.show()"
   ]
  },
  {
   "cell_type": "markdown",
   "metadata": {},
   "source": [
    "### Task: Use the multiprocessing package to speed up hyperparameter optimization.    "
   ]
  },
  {
   "cell_type": "code",
   "execution_count": 128,
   "metadata": {},
   "outputs": [
    {
     "name": "stdout",
     "output_type": "stream",
     "text": [
      "61.3 ms ± 24.7 µs per loop (mean ± std. dev. of 7 runs, 10 loops each)\n",
      "31.1 ms ± 5.84 µs per loop (mean ± std. dev. of 7 runs, 10 loops each)\n",
      "21 ms ± 36.7 µs per loop (mean ± std. dev. of 7 runs, 10 loops each)\n",
      "20.9 ms ± 2.79 µs per loop (mean ± std. dev. of 7 runs, 10 loops each)\n",
      "20.9 ms ± 7.74 µs per loop (mean ± std. dev. of 7 runs, 10 loops each)\n",
      "10.9 ms ± 33.6 µs per loop (mean ± std. dev. of 7 runs, 100 loops each)\n"
     ]
    }
   ],
   "source": [
    "from multiprocessing import Pool\n",
    "import timeit\n",
    "\n",
    "def f(x):\n",
    "    \n",
    "    return time.sleep(.01)\n",
    "\n",
    "if __name__ == '__main__':\n",
    "    for j in range(1,7):\n",
    "        \n",
    "        with Pool(j) as p:\n",
    "            %timeit p.map(f, [1, 2, 3, 4, 5, 6])"
   ]
  },
  {
   "cell_type": "markdown",
   "metadata": {},
   "source": [
    "## Parallel python\n",
    "https://www.parallelpython.com/  \n",
    "\n",
    "### Figure out how to get this working on a single computer "
   ]
  },
  {
   "cell_type": "code",
   "execution_count": null,
   "metadata": {},
   "outputs": [],
   "source": []
  },
  {
   "cell_type": "markdown",
   "metadata": {},
   "source": [
    "### Figure out how to get this working on all of the ST026 computers "
   ]
  },
  {
   "cell_type": "code",
   "execution_count": null,
   "metadata": {},
   "outputs": [],
   "source": []
  },
  {
   "cell_type": "markdown",
   "metadata": {},
   "source": [
    "### Conclusion"
   ]
  },
  {
   "cell_type": "code",
   "execution_count": null,
   "metadata": {},
   "outputs": [],
   "source": []
  }
 ],
 "metadata": {
  "kernelspec": {
   "display_name": "Python 3",
   "language": "python",
   "name": "python3"
  },
  "language_info": {
   "codemirror_mode": {
    "name": "ipython",
    "version": 3
   },
   "file_extension": ".py",
   "mimetype": "text/x-python",
   "name": "python",
   "nbconvert_exporter": "python",
   "pygments_lexer": "ipython3",
   "version": "3.7.2"
  }
 },
 "nbformat": 4,
 "nbformat_minor": 2
}
