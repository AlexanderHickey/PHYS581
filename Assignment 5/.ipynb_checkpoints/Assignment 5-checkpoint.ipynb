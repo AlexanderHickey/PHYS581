{
 "cells": [
  {
   "cell_type": "markdown",
   "metadata": {},
   "source": [
    "# Phys 581 Winter 2019\n",
    "# Assignment #5: Multiprocessing\n",
    "## Alexander Hickey, 10169582"
   ]
  },
  {
   "cell_type": "markdown",
   "metadata": {},
   "source": [
    "Note that this notebook makes use of the Keras deep learning library for python, which is compatible only with Python 2.7-3.6."
   ]
  },
  {
   "cell_type": "code",
   "execution_count": 7,
   "metadata": {},
   "outputs": [
    {
     "data": {
      "text/plain": [
       "'3.6.8 |Anaconda, Inc.| (default, Dec 30 2018, 01:22:34) \\n[GCC 7.3.0]'"
      ]
     },
     "execution_count": 7,
     "metadata": {},
     "output_type": "execute_result"
    }
   ],
   "source": [
    "#Must be running Python 3.6 or lower!\n",
    "import sys\n",
    "sys.version"
   ]
  },
  {
   "cell_type": "code",
   "execution_count": 14,
   "metadata": {},
   "outputs": [],
   "source": [
    "#Import useful libraries\n",
    "import time\n",
    "import numpy as np\n",
    "import scipy.integrate\n",
    "import matplotlib.pyplot as plt\n",
    "import sys, os\n",
    "import signal, subprocess\n",
    "import psutil\n",
    "from keras.models import Model, Sequential\n",
    "from keras.layers import Input, Dense\n",
    "%matplotlib inline"
   ]
  },
  {
   "cell_type": "markdown",
   "metadata": {},
   "source": [
    "### Introduction"
   ]
  },
  {
   "cell_type": "markdown",
   "metadata": {},
   "source": [
    "Parallel computing allows one to harness the processing power of a multi-core computer, and can significantly decrease the time required for repetitive computations. The idea behind parallel computing is to take a large problem and divide it into smaller ones which can be solved simultaneously, and allocate these different tasks to different parts of the CPU network. Often times, it is very powerful to implement parallel computing in the framework of scientific computations, to allow researchers to execute code and analyze output within a reasonable timeframe."
   ]
  },
  {
   "cell_type": "code",
   "execution_count": 3,
   "metadata": {},
   "outputs": [
    {
     "name": "stdout",
     "output_type": "stream",
     "text": [
      "scpustats(ctx_switches=24129603, interrupts=11695840, soft_interrupts=12423381, syscalls=0) \n",
      "\n",
      "scputimes(user=809.53, nice=76.48, system=247.38, idle=731319.77, iowait=1231.12, irq=0.0, softirq=7.24, steal=0.0, guest=0.0, guest_nice=0.0) \n",
      "\n",
      "scputimes(user=3.5, nice=0.0, system=1.0, idle=95.5, iowait=0.0, irq=0.0, softirq=0.0, steal=0.0, guest=0.0, guest_nice=0.0) \n",
      "\n",
      "number of physical(?) CPUs:  4 \n",
      "\n",
      "[scputimes(user=8.3, nice=0.0, system=4.6, idle=87.0, iowait=0.0, irq=0.0, softirq=0.0, steal=0.0, guest=0.0, guest_nice=0.0), scputimes(user=2.9, nice=0.0, system=4.8, idle=89.5, iowait=2.9, irq=0.0, softirq=0.0, steal=0.0, guest=0.0, guest_nice=0.0), scputimes(user=4.7, nice=0.0, system=5.6, idle=89.7, iowait=0.0, irq=0.0, softirq=0.0, steal=0.0, guest=0.0, guest_nice=0.0), scputimes(user=7.3, nice=0.0, system=5.5, idle=87.2, iowait=0.0, irq=0.0, softirq=0.0, steal=0.0, guest=0.0, guest_nice=0.0)] \n",
      "\n",
      "['/home/alexander.hickey/anaconda3/envs/Python36/lib/python3.6/site-packages/ipykernel_launcher.py', '-f', '/run/user/1214606896/jupyter/kernel-24ac0237-5013-4bb0-a53c-47e212e0a09e.json']\n"
     ]
    }
   ],
   "source": [
    "print( psutil.cpu_stats(), '\\n' )\n",
    "print( psutil.cpu_times(), '\\n' )\n",
    "print( psutil.cpu_times_percent(interval=1, percpu=False), '\\n' )\n",
    "print( 'number of physical(?) CPUs: ', psutil.cpu_count(), '\\n' )\n",
    "print( psutil.cpu_times_percent(interval=1, percpu=True), '\\n' )\n",
    "print(sys.argv)"
   ]
  },
  {
   "cell_type": "code",
   "execution_count": 3,
   "metadata": {},
   "outputs": [],
   "source": [
    "def cpu_idle(nloop=999):\n",
    "    \"\"\" simple example of signal handling\n",
    "    \"\"\"\n",
    "    cpu_idle.flag = nloop\n",
    "    \n",
    "    def handler(signum, frame):\n",
    "        print('Signal handler called with signal ',signum)\n",
    "        #signal.alarm(0)\n",
    "        cpu_idle.flag = 0\n",
    "        \n",
    "    signal.signal(signal.SIGINT, handler)\n",
    "\n",
    "    while cpu_idle.flag > 0:\n",
    "        cpu_idle.flag -= 1\n",
    "        cpu = psutil.cpu_times_percent(interval=1, percpu=True)\n",
    "        print('\\t'.join([str(c.idle) for c in cpu]))"
   ]
  },
  {
   "cell_type": "code",
   "execution_count": 4,
   "metadata": {},
   "outputs": [
    {
     "name": "stdout",
     "output_type": "stream",
     "text": [
      "2.33 s ± 51 ms per loop (mean ± std. dev. of 7 runs, 1 loop each)\n"
     ]
    }
   ],
   "source": [
    "# make a simple CPU intensive task\n",
    "#\n",
    "cmnd = '[i**2 for i in range(9876543)]'\n",
    "%timeit exec(cmnd)"
   ]
  },
  {
   "cell_type": "code",
   "execution_count": 5,
   "metadata": {},
   "outputs": [
    {
     "name": "stdout",
     "output_type": "stream",
     "text": [
      "subprocess status:  b'True\\n'\n"
     ]
    }
   ],
   "source": [
    "# spawn a subprocess to execute the task\n",
    "#\n",
    "status = subprocess.check_output('python -c \"[i**2 for i in range(9876)]; print(True)\"',shell=True)\n",
    "print('subprocess status: ', status)"
   ]
  },
  {
   "cell_type": "code",
   "execution_count": 6,
   "metadata": {},
   "outputs": [],
   "source": [
    "cmnd = 'python -c \"[i**2 for i in range(9876543)]; print(True)\"'\n",
    "import time\n",
    "def paralize(cmdlist, nwait=100, nicer=False):\n",
    "    \n",
    "    plist = []\n",
    "    for n, cmd in enumerate(cmdlist):\n",
    "        plist.append( subprocess.Popen(cmnd, shell=True) ) \n",
    "    \n",
    "    tlist = {}\n",
    "    n0 = time.time()\n",
    "    for i in range(nwait):\n",
    "        \n",
    "        time.sleep(0.1)\n",
    "        \n",
    "        for n,p in enumerate(plist):    \n",
    "            try:\n",
    "                parent = psutil.Process(pid=p.pid)\n",
    "        \n",
    "                child = parent.children()[0]\n",
    "                \n",
    "                if child is None:# or len(child)< 1:\n",
    "                    continue\n",
    "                proc = psutil.Process(pid=child.pid)\n",
    "                \n",
    "                cputime = proc.cpu_times().user\n",
    "                \n",
    "                tlist[p.pid] = [time.time()-n0,cputime]\n",
    "        \n",
    "            except:\n",
    "                None\n",
    "                \n",
    "        \n",
    "    return tlist\n",
    "        \n",
    "dat = paralize([cmnd for j in range(8)])"
   ]
  },
  {
   "cell_type": "code",
   "execution_count": 7,
   "metadata": {},
   "outputs": [
    {
     "data": {
      "text/plain": [
       "[<matplotlib.lines.Line2D at 0x7faf0c989d68>]"
      ]
     },
     "execution_count": 7,
     "metadata": {},
     "output_type": "execute_result"
    },
    {
     "data": {
      "image/png": "[encoded data removed]",
      "text/plain": [
       "<Figure size 432x288 with 1 Axes>"
      ]
     },
     "metadata": {
      "needs_background": "light"
     },
     "output_type": "display_data"
    }
   ],
   "source": [
    "t =[]\n",
    "for key in dat:\n",
    "    t.append(dat[key])\n",
    "t = np.array(t)\n",
    "\n",
    "plt.plot(t[:,0],t[:,1],marker= 'o')"
   ]
  },
  {
   "cell_type": "code",
   "execution_count": 8,
   "metadata": {},
   "outputs": [
    {
     "data": {
      "text/plain": [
       "2.637225121698413"
      ]
     },
     "execution_count": 8,
     "metadata": {},
     "output_type": "execute_result"
    }
   ],
   "source": [
    "np.sum(t[:,1])/np.mean(t[:,0])"
   ]
  },
  {
   "cell_type": "code",
   "execution_count": 9,
   "metadata": {},
   "outputs": [
    {
     "data": {
      "text/plain": [
       "{24038: [3.275688409805298, 2.33],\n",
       " 24040: [3.1598305702209473, 2.35],\n",
       " 24042: [2.791616916656494, 2.31]}"
      ]
     },
     "execution_count": 9,
     "metadata": {},
     "output_type": "execute_result"
    }
   ],
   "source": [
    "# run three subprocesses in parallel\n",
    "#\n",
    "paralize([cmnd for i in range(3)], nwait=500)"
   ]
  },
  {
   "cell_type": "code",
   "execution_count": 10,
   "metadata": {},
   "outputs": [
    {
     "data": {
      "text/plain": [
       "{24148: [2.1016995906829834, 1.04],\n",
       " 24150: [2.1153082847595215, 0.86],\n",
       " 24151: [2.1210849285125732, 0.93],\n",
       " 24154: [2.1265604496002197, 0.8],\n",
       " 24156: [2.1604132652282715, 0.98],\n",
       " 24158: [2.1660420894622803, 0.96],\n",
       " 24159: [2.191803455352783, 0.94],\n",
       " 24162: [2.1994588375091553, 1.0]}"
      ]
     },
     "execution_count": 10,
     "metadata": {},
     "output_type": "execute_result"
    }
   ],
   "source": [
    "# run one process for each CPU\n",
    "#\n",
    "paralize([cmnd for i in range(8)], nwait=10)"
   ]
  },
  {
   "cell_type": "code",
   "execution_count": 11,
   "metadata": {},
   "outputs": [
    {
     "data": {
      "text/plain": [
       "{24164: [4.687588214874268, 0.83],\n",
       " 24166: [4.714017391204834, 0.85],\n",
       " 24168: [4.752850770950317, 0.85],\n",
       " 24170: [4.779255151748657, 0.81],\n",
       " 24172: [4.829874277114868, 0.84],\n",
       " 24174: [4.869801044464111, 0.79],\n",
       " 24176: [4.896193027496338, 0.87],\n",
       " 24178: [4.918595790863037, 0.89],\n",
       " 24180: [4.965177297592163, 0.89],\n",
       " 24182: [5.001089811325073, 0.85],\n",
       " 24184: [5.031454801559448, 0.85],\n",
       " 24185: [5.064440965652466, 0.91]}"
      ]
     },
     "execution_count": 11,
     "metadata": {},
     "output_type": "execute_result"
    }
   ],
   "source": [
    "# oversubscribing by 50% takes slightly longer\n",
    "#\n",
    "paralize([cmnd for i in range(12)], nwait=10)"
   ]
  },
  {
   "cell_type": "code",
   "execution_count": 12,
   "metadata": {},
   "outputs": [
    {
     "data": {
      "text/plain": [
       "{24188: [38.2697274684906, 0.75],\n",
       " 24189: [38.27644729614258, 0.56],\n",
       " 24190: [38.28322649002075, 0.68],\n",
       " 24194: [38.28898334503174, 0.56],\n",
       " 24195: [38.29474139213562, 0.58],\n",
       " 24196: [36.56262397766113, 2.32],\n",
       " 24199: [34.60294198989868, 2.3],\n",
       " 24201: [37.037755489349365, 2.27],\n",
       " 24203: [38.31720280647278, 0.7],\n",
       " 24205: [38.3228702545166, 0.63],\n",
       " 24208: [35.14685416221619, 2.34],\n",
       " 24209: [38.33403944969177, 2.01],\n",
       " 24211: [38.33968472480774, 0.76],\n",
       " 24213: [36.6871132850647, 2.02],\n",
       " 24215: [1.584768295288086, 0.12],\n",
       " 24217: [38.35640072822571, 0.61],\n",
       " 24219: [38.362064361572266, 0.65],\n",
       " 24222: [36.73503494262695, 2.3],\n",
       " 24223: [36.325801610946655, 2.37],\n",
       " 24225: [38.37921667098999, 0.63],\n",
       " 24227: [38.38493037223816, 0.91],\n",
       " 24229: [34.3840069770813, 2.32],\n",
       " 24231: [37.180442094802856, 2.43],\n",
       " 24233: [37.44187879562378, 2.3]}"
      ]
     },
     "execution_count": 12,
     "metadata": {},
     "output_type": "execute_result"
    }
   ],
   "source": [
    "paralize([cmnd for i in range(24)], nwait=15)"
   ]
  },
  {
   "cell_type": "markdown",
   "metadata": {},
   "source": [
    "### Task: determine scaling efficiency\n",
    "Gather estimates of computation as a function of number of processes, plot, and analyze.\n",
    "\n",
    "Ideally we would have a perfectly linear relationship up to the number of CPUs and constant thereafter.  In practice the slope will be less than one and may saturate earlier."
   ]
  },
  {
   "cell_type": "code",
   "execution_count": 13,
   "metadata": {},
   "outputs": [
    {
     "name": "stdout",
     "output_type": "stream",
     "text": [
      "0 python -c \"[i**2 for i in range(9876543)]; print(True)\"\n",
      "1 python -c \"[i**2 for i in range(9876543)]; print(True)\"\n",
      "2 python -c \"[i**2 for i in range(9876543)]; print(True)\"\n",
      "3 python -c \"[i**2 for i in range(9876543)]; print(True)\"\n",
      "4 python -c \"[i**2 for i in range(9876543)]; print(True)\"\n"
     ]
    }
   ],
   "source": [
    "cmdlist = [cmnd for j in range(5)]\n",
    "for n, cmd in enumerate(cmdlist):\n",
    "    print(n,cmd)"
   ]
  },
  {
   "cell_type": "code",
   "execution_count": 14,
   "metadata": {},
   "outputs": [
    {
     "data": {
      "text/plain": [
       "array([0., 0.])"
      ]
     },
     "execution_count": 14,
     "metadata": {},
     "output_type": "execute_result"
    }
   ],
   "source": [
    "cmnd = 'python -c \"[i**2 for i in range(9876543)]; print(True)\"'\n",
    "\n",
    "def time_par(cmdlist, time_res = 1e-5):\n",
    "    '''\n",
    "    This function will compute both the ...    \n",
    "    Args:\n",
    "        cmdlist: List of commands to track\n",
    "        time_res: Time step between tracking\n",
    "        \n",
    "    Return:\n",
    "        tlist: Array of both wall and cpu times for each process\n",
    "               to terminate. Axis 0 corresponds to wall time,\n",
    "               axis 1 corresponds to cpu time.\n",
    "    \n",
    "    '''\n",
    "    plist = [subprocess.Popen(cmnd, shell=True) for j in cmdlist]\n",
    "    ch_list = [0.0] \n",
    "    t0 = time.time()\n",
    "    t_dict = {p.pid:0.0 for p in plist}\n",
    "    \n",
    "    \n",
    "    while ch_list != []:\n",
    "        \n",
    "        ch_list = []\n",
    "        time.sleep(time_res)\n",
    "        \n",
    "        for p in plist:    \n",
    "            \n",
    "            parent = psutil.Process(pid=p.pid)\n",
    "            child = parent.children()\n",
    "            \n",
    "            try:\n",
    "                proc = psutil.Process(pid=child[0].pid)\n",
    "                cputime = proc.cpu_times().user\n",
    "                t_dict[p.pid] = [time.time()-t0,cputime]\n",
    "                ch_list.append(child)\n",
    "                \n",
    "            except:\n",
    "                None\n",
    "    \n",
    "    t = np.array([t_dict[key] for key in t_dict ])\n",
    "    \n",
    "    return t\n",
    "\n",
    "def ratio(t):\n",
    "    \n",
    "    \n",
    "    return np.mean(t[:,1])/np.max(t[:,0])\n",
    "\n",
    "\n",
    "    \n",
    "t=time_par([cmnd for j in range(2)])\n",
    "t"
   ]
  },
  {
   "cell_type": "code",
   "execution_count": 15,
   "metadata": {},
   "outputs": [
    {
     "data": {
      "text/plain": [
       "0.9372469635627529"
      ]
     },
     "execution_count": 15,
     "metadata": {},
     "output_type": "execute_result"
    }
   ],
   "source": [
    "2.315/2.47"
   ]
  },
  {
   "cell_type": "code",
   "execution_count": 16,
   "metadata": {},
   "outputs": [],
   "source": [
    "N = 7\n",
    "t_rat = []\n",
    "\n",
    "for k in range(2,N+1):\n",
    "    \n",
    "    t = time_par([cmnd for j in range(k)])\n",
    "    \n",
    "    t_rat.append(ratio(t))\n",
    " "
   ]
  },
  {
   "cell_type": "code",
   "execution_count": 17,
   "metadata": {},
   "outputs": [
    {
     "data": {
      "image/png": "[encoded data removed]",
      "text/plain": [
       "<Figure size 576x432 with 1 Axes>"
      ]
     },
     "metadata": {
      "needs_background": "light"
     },
     "output_type": "display_data"
    }
   ],
   "source": [
    "plt.figure(figsize=(8,6))\n",
    "plt.plot(np.arange(2,N+1),t_rat,marker= 'o')\n",
    "plt.xlabel('N')\n",
    "plt.ylabel('wall/cpu')\n",
    "\n",
    "plt.show()"
   ]
  },
  {
   "cell_type": "markdown",
   "metadata": {},
   "source": [
    "### Task: Use the multiprocessing package to speed up hyperparameter optimization.    "
   ]
  },
  {
   "cell_type": "code",
   "execution_count": 19,
   "metadata": {},
   "outputs": [
    {
     "ename": "TypeError",
     "evalue": "f() missing 1 required positional argument: 'y'",
     "output_type": "error",
     "traceback": [
      "\u001b[0;31m---------------------------------------------------------------------------\u001b[0m",
      "\u001b[0;31mRemoteTraceback\u001b[0m                           Traceback (most recent call last)",
      "\u001b[0;31mRemoteTraceback\u001b[0m: \n\"\"\"\nTraceback (most recent call last):\n  File \"/home/alexander.hickey/anaconda3/envs/Python36/lib/python3.6/multiprocessing/pool.py\", line 119, in worker\n    result = (True, func(*args, **kwds))\n  File \"/home/alexander.hickey/anaconda3/envs/Python36/lib/python3.6/multiprocessing/pool.py\", line 44, in mapstar\n    return list(map(*args))\nTypeError: f() missing 1 required positional argument: 'y'\n\"\"\"",
      "\nThe above exception was the direct cause of the following exception:\n",
      "\u001b[0;31mTypeError\u001b[0m                                 Traceback (most recent call last)",
      "\u001b[0;32m<ipython-input-19-0677463c604d>\u001b[0m in \u001b[0;36m<module>\u001b[0;34m\u001b[0m\n\u001b[1;32m     11\u001b[0m \u001b[0;34m\u001b[0m\u001b[0m\n\u001b[1;32m     12\u001b[0m         \u001b[0;32mwith\u001b[0m \u001b[0mPool\u001b[0m\u001b[0;34m(\u001b[0m\u001b[0mj\u001b[0m\u001b[0;34m)\u001b[0m \u001b[0;32mas\u001b[0m \u001b[0mp\u001b[0m\u001b[0;34m:\u001b[0m\u001b[0;34m\u001b[0m\u001b[0;34m\u001b[0m\u001b[0m\n\u001b[0;32m---> 13\u001b[0;31m             \u001b[0mget_ipython\u001b[0m\u001b[0;34m(\u001b[0m\u001b[0;34m)\u001b[0m\u001b[0;34m.\u001b[0m\u001b[0mrun_line_magic\u001b[0m\u001b[0;34m(\u001b[0m\u001b[0;34m'timeit'\u001b[0m\u001b[0;34m,\u001b[0m \u001b[0;34m'p.map(f, [(1,3), (2,3)])'\u001b[0m\u001b[0;34m)\u001b[0m\u001b[0;34m\u001b[0m\u001b[0;34m\u001b[0m\u001b[0m\n\u001b[0m",
      "\u001b[0;32m~/anaconda3/envs/Python36/lib/python3.6/site-packages/IPython/core/interactiveshell.py\u001b[0m in \u001b[0;36mrun_line_magic\u001b[0;34m(self, magic_name, line, _stack_depth)\u001b[0m\n\u001b[1;32m   2305\u001b[0m                 \u001b[0mkwargs\u001b[0m\u001b[0;34m[\u001b[0m\u001b[0;34m'local_ns'\u001b[0m\u001b[0;34m]\u001b[0m \u001b[0;34m=\u001b[0m \u001b[0msys\u001b[0m\u001b[0;34m.\u001b[0m\u001b[0m_getframe\u001b[0m\u001b[0;34m(\u001b[0m\u001b[0mstack_depth\u001b[0m\u001b[0;34m)\u001b[0m\u001b[0;34m.\u001b[0m\u001b[0mf_locals\u001b[0m\u001b[0;34m\u001b[0m\u001b[0;34m\u001b[0m\u001b[0m\n\u001b[1;32m   2306\u001b[0m             \u001b[0;32mwith\u001b[0m \u001b[0mself\u001b[0m\u001b[0;34m.\u001b[0m\u001b[0mbuiltin_trap\u001b[0m\u001b[0;34m:\u001b[0m\u001b[0;34m\u001b[0m\u001b[0;34m\u001b[0m\u001b[0m\n\u001b[0;32m-> 2307\u001b[0;31m                 \u001b[0mresult\u001b[0m \u001b[0;34m=\u001b[0m \u001b[0mfn\u001b[0m\u001b[0;34m(\u001b[0m\u001b[0;34m*\u001b[0m\u001b[0margs\u001b[0m\u001b[0;34m,\u001b[0m \u001b[0;34m**\u001b[0m\u001b[0mkwargs\u001b[0m\u001b[0;34m)\u001b[0m\u001b[0;34m\u001b[0m\u001b[0;34m\u001b[0m\u001b[0m\n\u001b[0m\u001b[1;32m   2308\u001b[0m             \u001b[0;32mreturn\u001b[0m \u001b[0mresult\u001b[0m\u001b[0;34m\u001b[0m\u001b[0;34m\u001b[0m\u001b[0m\n\u001b[1;32m   2309\u001b[0m \u001b[0;34m\u001b[0m\u001b[0m\n",
      "\u001b[0;32m</home/alexander.hickey/anaconda3/envs/Python36/lib/python3.6/site-packages/decorator.py:decorator-gen-60>\u001b[0m in \u001b[0;36mtimeit\u001b[0;34m(self, line, cell, local_ns)\u001b[0m\n",
      "\u001b[0;32m~/anaconda3/envs/Python36/lib/python3.6/site-packages/IPython/core/magic.py\u001b[0m in \u001b[0;36m<lambda>\u001b[0;34m(f, *a, **k)\u001b[0m\n\u001b[1;32m    185\u001b[0m     \u001b[0;31m# but it's overkill for just that one bit of state.\u001b[0m\u001b[0;34m\u001b[0m\u001b[0;34m\u001b[0m\u001b[0;34m\u001b[0m\u001b[0m\n\u001b[1;32m    186\u001b[0m     \u001b[0;32mdef\u001b[0m \u001b[0mmagic_deco\u001b[0m\u001b[0;34m(\u001b[0m\u001b[0marg\u001b[0m\u001b[0;34m)\u001b[0m\u001b[0;34m:\u001b[0m\u001b[0;34m\u001b[0m\u001b[0;34m\u001b[0m\u001b[0m\n\u001b[0;32m--> 187\u001b[0;31m         \u001b[0mcall\u001b[0m \u001b[0;34m=\u001b[0m \u001b[0;32mlambda\u001b[0m \u001b[0mf\u001b[0m\u001b[0;34m,\u001b[0m \u001b[0;34m*\u001b[0m\u001b[0ma\u001b[0m\u001b[0;34m,\u001b[0m \u001b[0;34m**\u001b[0m\u001b[0mk\u001b[0m\u001b[0;34m:\u001b[0m \u001b[0mf\u001b[0m\u001b[0;34m(\u001b[0m\u001b[0;34m*\u001b[0m\u001b[0ma\u001b[0m\u001b[0;34m,\u001b[0m \u001b[0;34m**\u001b[0m\u001b[0mk\u001b[0m\u001b[0;34m)\u001b[0m\u001b[0;34m\u001b[0m\u001b[0;34m\u001b[0m\u001b[0m\n\u001b[0m\u001b[1;32m    188\u001b[0m \u001b[0;34m\u001b[0m\u001b[0m\n\u001b[1;32m    189\u001b[0m         \u001b[0;32mif\u001b[0m \u001b[0mcallable\u001b[0m\u001b[0;34m(\u001b[0m\u001b[0marg\u001b[0m\u001b[0;34m)\u001b[0m\u001b[0;34m:\u001b[0m\u001b[0;34m\u001b[0m\u001b[0;34m\u001b[0m\u001b[0m\n",
      "\u001b[0;32m~/anaconda3/envs/Python36/lib/python3.6/site-packages/IPython/core/magics/execution.py\u001b[0m in \u001b[0;36mtimeit\u001b[0;34m(self, line, cell, local_ns)\u001b[0m\n\u001b[1;32m   1145\u001b[0m             \u001b[0;32mfor\u001b[0m \u001b[0mindex\u001b[0m \u001b[0;32min\u001b[0m \u001b[0mrange\u001b[0m\u001b[0;34m(\u001b[0m\u001b[0;36m0\u001b[0m\u001b[0;34m,\u001b[0m \u001b[0;36m10\u001b[0m\u001b[0;34m)\u001b[0m\u001b[0;34m:\u001b[0m\u001b[0;34m\u001b[0m\u001b[0;34m\u001b[0m\u001b[0m\n\u001b[1;32m   1146\u001b[0m                 \u001b[0mnumber\u001b[0m \u001b[0;34m=\u001b[0m \u001b[0;36m10\u001b[0m \u001b[0;34m**\u001b[0m \u001b[0mindex\u001b[0m\u001b[0;34m\u001b[0m\u001b[0;34m\u001b[0m\u001b[0m\n\u001b[0;32m-> 1147\u001b[0;31m                 \u001b[0mtime_number\u001b[0m \u001b[0;34m=\u001b[0m \u001b[0mtimer\u001b[0m\u001b[0;34m.\u001b[0m\u001b[0mtimeit\u001b[0m\u001b[0;34m(\u001b[0m\u001b[0mnumber\u001b[0m\u001b[0;34m)\u001b[0m\u001b[0;34m\u001b[0m\u001b[0;34m\u001b[0m\u001b[0m\n\u001b[0m\u001b[1;32m   1148\u001b[0m                 \u001b[0;32mif\u001b[0m \u001b[0mtime_number\u001b[0m \u001b[0;34m>=\u001b[0m \u001b[0;36m0.2\u001b[0m\u001b[0;34m:\u001b[0m\u001b[0;34m\u001b[0m\u001b[0;34m\u001b[0m\u001b[0m\n\u001b[1;32m   1149\u001b[0m                     \u001b[0;32mbreak\u001b[0m\u001b[0;34m\u001b[0m\u001b[0;34m\u001b[0m\u001b[0m\n",
      "\u001b[0;32m~/anaconda3/envs/Python36/lib/python3.6/site-packages/IPython/core/magics/execution.py\u001b[0m in \u001b[0;36mtimeit\u001b[0;34m(self, number)\u001b[0m\n\u001b[1;32m    159\u001b[0m         \u001b[0mgc\u001b[0m\u001b[0;34m.\u001b[0m\u001b[0mdisable\u001b[0m\u001b[0;34m(\u001b[0m\u001b[0;34m)\u001b[0m\u001b[0;34m\u001b[0m\u001b[0;34m\u001b[0m\u001b[0m\n\u001b[1;32m    160\u001b[0m         \u001b[0;32mtry\u001b[0m\u001b[0;34m:\u001b[0m\u001b[0;34m\u001b[0m\u001b[0;34m\u001b[0m\u001b[0m\n\u001b[0;32m--> 161\u001b[0;31m             \u001b[0mtiming\u001b[0m \u001b[0;34m=\u001b[0m \u001b[0mself\u001b[0m\u001b[0;34m.\u001b[0m\u001b[0minner\u001b[0m\u001b[0;34m(\u001b[0m\u001b[0mit\u001b[0m\u001b[0;34m,\u001b[0m \u001b[0mself\u001b[0m\u001b[0;34m.\u001b[0m\u001b[0mtimer\u001b[0m\u001b[0;34m)\u001b[0m\u001b[0;34m\u001b[0m\u001b[0;34m\u001b[0m\u001b[0m\n\u001b[0m\u001b[1;32m    162\u001b[0m         \u001b[0;32mfinally\u001b[0m\u001b[0;34m:\u001b[0m\u001b[0;34m\u001b[0m\u001b[0;34m\u001b[0m\u001b[0m\n\u001b[1;32m    163\u001b[0m             \u001b[0;32mif\u001b[0m \u001b[0mgcold\u001b[0m\u001b[0;34m:\u001b[0m\u001b[0;34m\u001b[0m\u001b[0;34m\u001b[0m\u001b[0m\n",
      "\u001b[0;32m<magic-timeit>\u001b[0m in \u001b[0;36minner\u001b[0;34m(_it, _timer)\u001b[0m\n",
      "\u001b[0;32m~/anaconda3/envs/Python36/lib/python3.6/multiprocessing/pool.py\u001b[0m in \u001b[0;36mmap\u001b[0;34m(self, func, iterable, chunksize)\u001b[0m\n\u001b[1;32m    264\u001b[0m         \u001b[0;32min\u001b[0m \u001b[0ma\u001b[0m \u001b[0mlist\u001b[0m \u001b[0mthat\u001b[0m \u001b[0;32mis\u001b[0m \u001b[0mreturned\u001b[0m\u001b[0;34m.\u001b[0m\u001b[0;34m\u001b[0m\u001b[0;34m\u001b[0m\u001b[0m\n\u001b[1;32m    265\u001b[0m         '''\n\u001b[0;32m--> 266\u001b[0;31m         \u001b[0;32mreturn\u001b[0m \u001b[0mself\u001b[0m\u001b[0;34m.\u001b[0m\u001b[0m_map_async\u001b[0m\u001b[0;34m(\u001b[0m\u001b[0mfunc\u001b[0m\u001b[0;34m,\u001b[0m \u001b[0miterable\u001b[0m\u001b[0;34m,\u001b[0m \u001b[0mmapstar\u001b[0m\u001b[0;34m,\u001b[0m \u001b[0mchunksize\u001b[0m\u001b[0;34m)\u001b[0m\u001b[0;34m.\u001b[0m\u001b[0mget\u001b[0m\u001b[0;34m(\u001b[0m\u001b[0;34m)\u001b[0m\u001b[0;34m\u001b[0m\u001b[0;34m\u001b[0m\u001b[0m\n\u001b[0m\u001b[1;32m    267\u001b[0m \u001b[0;34m\u001b[0m\u001b[0m\n\u001b[1;32m    268\u001b[0m     \u001b[0;32mdef\u001b[0m \u001b[0mstarmap\u001b[0m\u001b[0;34m(\u001b[0m\u001b[0mself\u001b[0m\u001b[0;34m,\u001b[0m \u001b[0mfunc\u001b[0m\u001b[0;34m,\u001b[0m \u001b[0miterable\u001b[0m\u001b[0;34m,\u001b[0m \u001b[0mchunksize\u001b[0m\u001b[0;34m=\u001b[0m\u001b[0;32mNone\u001b[0m\u001b[0;34m)\u001b[0m\u001b[0;34m:\u001b[0m\u001b[0;34m\u001b[0m\u001b[0;34m\u001b[0m\u001b[0m\n",
      "\u001b[0;32m~/anaconda3/envs/Python36/lib/python3.6/multiprocessing/pool.py\u001b[0m in \u001b[0;36mget\u001b[0;34m(self, timeout)\u001b[0m\n\u001b[1;32m    642\u001b[0m             \u001b[0;32mreturn\u001b[0m \u001b[0mself\u001b[0m\u001b[0;34m.\u001b[0m\u001b[0m_value\u001b[0m\u001b[0;34m\u001b[0m\u001b[0;34m\u001b[0m\u001b[0m\n\u001b[1;32m    643\u001b[0m         \u001b[0;32melse\u001b[0m\u001b[0;34m:\u001b[0m\u001b[0;34m\u001b[0m\u001b[0;34m\u001b[0m\u001b[0m\n\u001b[0;32m--> 644\u001b[0;31m             \u001b[0;32mraise\u001b[0m \u001b[0mself\u001b[0m\u001b[0;34m.\u001b[0m\u001b[0m_value\u001b[0m\u001b[0;34m\u001b[0m\u001b[0;34m\u001b[0m\u001b[0m\n\u001b[0m\u001b[1;32m    645\u001b[0m \u001b[0;34m\u001b[0m\u001b[0m\n\u001b[1;32m    646\u001b[0m     \u001b[0;32mdef\u001b[0m \u001b[0m_set\u001b[0m\u001b[0;34m(\u001b[0m\u001b[0mself\u001b[0m\u001b[0;34m,\u001b[0m \u001b[0mi\u001b[0m\u001b[0;34m,\u001b[0m \u001b[0mobj\u001b[0m\u001b[0;34m)\u001b[0m\u001b[0;34m:\u001b[0m\u001b[0;34m\u001b[0m\u001b[0;34m\u001b[0m\u001b[0m\n",
      "\u001b[0;31mTypeError\u001b[0m: f() missing 1 required positional argument: 'y'"
     ]
    }
   ],
   "source": [
    "from multiprocessing import Pool\n",
    "import timeit\n",
    "\n",
    "def f(x,y):\n",
    "    #print(y)\n",
    "    \n",
    "    return time.sleep(.001)\n",
    "\n",
    "if __name__ == '__main__':\n",
    "    for j in range(1,7):\n",
    "        \n",
    "        with Pool(j) as p:\n",
    "            %timeit p.map(f, [(1,3), (2,3)])"
   ]
  },
  {
   "cell_type": "code",
   "execution_count": 61,
   "metadata": {},
   "outputs": [],
   "source": [
    "def create_model(nodes=[8,11,6]):\n",
    "    '''\n",
    "    This function creates a dense Keras model with connectivity:\n",
    "    3-nodes-3 where nodes represents the \"deep\" layers.\n",
    "    \n",
    "    Args:\n",
    "        nodes: List describing number of deep layers and number of nodes at\n",
    "               each layer. \n",
    "        \n",
    "    Return:\n",
    "        model: Dense Keras model with desired connectivity.\n",
    "    \n",
    "    '''\n",
    "    #Create model\n",
    "    model = Sequential()\n",
    "    \n",
    "    #Define input layer\n",
    "    model.add(Dense(nodes[0], input_dim=3, activation='relu'))\n",
    "    \n",
    "    #Define \"deep\" layers\n",
    "    for n in nodes[1:]:\n",
    "        \n",
    "        model.add(Dense(n, activation='relu'))\n",
    "    \n",
    "    #Define output layer\n",
    "    model.add(Dense(3, activation='linear')) #sigmoid'))\n",
    "\n",
    "    #Compile model\n",
    "    model.compile(loss='mean_squared_error', optimizer='adam')\n",
    "    \n",
    "    return model\n",
    "\n",
    "def train_model(model,xyz,epochs = 999,L=900,ndt=99):\n",
    "    '''\n",
    "    This function trains a given Keras model to shift a time series\n",
    "    forward by some timestep ndt.\n",
    "    \n",
    "    Args:\n",
    "        model: Keras model\n",
    "        ndt: Timestep to shift time series\n",
    "        xyz: 3D time series data\n",
    "        L: Length of training interval\n",
    "        epochs: Number of epochs to perform training\n",
    "        \n",
    "    Return:\n",
    "        model: Trained model\n",
    "    \n",
    "    '''\n",
    "    \n",
    "    history = model.fit(xyz[:L],xyz[ndt:L+ndt], epochs=epochs, batch_size=100, \n",
    "                        verbose=0)\n",
    "    \n",
    "    return model\n",
    "\n",
    "def mean_square(args):\n",
    "    '''\n",
    "    args = (nodes,epochs,xyz)\n",
    "    \n",
    "    '''\n",
    "    \n",
    "    vs, ndt, L = 5000, 99, 900\n",
    "    nodes,epochs,xyz = args\n",
    "    mod = create_model(nodes = nodes)\n",
    "    mod = train_model(mod,xyz,epochs = epochs)\n",
    "    \n",
    "    return np.sqrt( np.mean( (xyz[vs+ndt:vs+L+ndt,:]-mod.predict(xyz[vs:vs+L]) )**2))\n",
    "\n",
    "NCPU = psutil.cpu_count()"
   ]
  },
  {
   "cell_type": "code",
   "execution_count": 62,
   "metadata": {},
   "outputs": [],
   "source": [
    "def dfunc(state, t0, sigma=10.0, beta=8/3.0, rho=58.0):\n",
    "    '''\n",
    "    This returns the time derivative of the coordinates,\n",
    "    defined by the 3D Lorenz system:\n",
    "    dx/dt = sigma*(y-x)\n",
    "    dy/dt = x*(rho-z)-y\n",
    "    dz/dt = x*y-beta*z\n",
    "    \n",
    "    Args:\n",
    "        state: array of length 3, coordinates at time t0\n",
    "        t0: Time\n",
    "        sigma, beta, rho: Lorentz system parameters\n",
    "        \n",
    "    Return:\n",
    "        d/dt state: array, Time derivative of coordinates\n",
    "    \n",
    "    '''\n",
    "    \n",
    "    #Unpack state vector\n",
    "    x, y, z = state\n",
    "    \n",
    "    return np.array([ sigma*(y-x), x*(rho-z)-y, x*y-beta*z])\n",
    "\n",
    "#Define time interval of interest\n",
    "t0, tf, tstep = 0.0, 20.0, 9999\n",
    "tvals = np.linspace(t0, tf, tstep)\n",
    "\n",
    "#Set initial state set to [1,1,1]\n",
    "xyz_0 = np.ones(3)\n",
    "\n",
    "#Integrate Lorenz system over time interval\n",
    "xyz = scipy.integrate.odeint( dfunc, xyz_0, tvals )"
   ]
  },
  {
   "cell_type": "code",
   "execution_count": 65,
   "metadata": {},
   "outputs": [
    {
     "name": "stdout",
     "output_type": "stream",
     "text": [
      "[4.569310457814799, 4.983071838340053, 4.27387804341402, 5.17026945532112, 4.218257772388161]\n"
     ]
    }
   ],
   "source": [
    "num_layers = [[5,8,5],[5,8,8,5],[5,8,8,8,5],[5,8,8,8,8,5],[5,8,8,8,8,8,5]]\n",
    "epochs = 999\n",
    "n_lay = [[num_layers[j],epochs,xyz] for j in range(len(num_layers))]\n",
    "\n",
    "if __name__ == '__main__':\n",
    "    with Pool(NCPU) as p:\n",
    "        m_square = p.map(mean_square, n_lay)"
   ]
  },
  {
   "cell_type": "markdown",
   "metadata": {},
   "source": [
    "## Parallel python\n",
    "https://www.parallelpython.com/  \n",
    "\n",
    "### Figure out how to get this working on a single computer "
   ]
  },
  {
   "cell_type": "code",
   "execution_count": 20,
   "metadata": {},
   "outputs": [
    {
     "data": {
      "text/plain": [
       "4"
      ]
     },
     "execution_count": 20,
     "metadata": {},
     "output_type": "execute_result"
    }
   ],
   "source": [
    "psutil.cpu_count()"
   ]
  },
  {
   "cell_type": "markdown",
   "metadata": {},
   "source": [
    "### Figure out how to get this working on all of the ST026 computers "
   ]
  },
  {
   "cell_type": "code",
   "execution_count": null,
   "metadata": {},
   "outputs": [],
   "source": []
  },
  {
   "cell_type": "markdown",
   "metadata": {},
   "source": [
    "### Conclusion"
   ]
  },
  {
   "cell_type": "code",
   "execution_count": null,
   "metadata": {},
   "outputs": [],
   "source": []
  }
 ],
 "metadata": {
  "kernelspec": {
   "display_name": "Python 3",
   "language": "python",
   "name": "python3"
  },
  "language_info": {
   "codemirror_mode": {
    "name": "ipython",
    "version": 3
   },
   "file_extension": ".py",
   "mimetype": "text/x-python",
   "name": "python",
   "nbconvert_exporter": "python",
   "pygments_lexer": "ipython3",
   "version": "3.6.8"
  }
 },
 "nbformat": 4,
 "nbformat_minor": 2
}
