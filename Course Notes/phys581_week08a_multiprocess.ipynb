{
 "cells": [
  {
   "cell_type": "code",
   "execution_count": 1,
   "metadata": {},
   "outputs": [],
   "source": [
    "import sys, os\n",
    "import signal, subprocess\n",
    "import psutil"
   ]
  },
  {
   "cell_type": "markdown",
   "metadata": {},
   "source": [
    "## Readme:\n",
    "\n",
    "    https://www.linuxjournal.com/content/multiprocessing-python\n",
    "    http://python-notes.curiousefficiency.org/en/latest/python3/multicore_python.html   \n",
    "    https://opensource.com/article/17/4/grok-gil\n",
    "    https://scipy-cookbook.readthedocs.io/items/ParallelProgramming.html"
   ]
  },
  {
   "cell_type": "markdown",
   "metadata": {},
   "source": [
    "## psutil\n",
    "https://psutil.readthedocs.io/en/latest\n",
    "\n",
    "This python module is a cross-platform library for retrieving information on running processes and system utilization (CPU, memory, disks, network, sensors) in Python. It is useful mainly for system monitoring, profiling, limiting process resources and the management of running processes. It implements many functionalities offered by UNIX command line tools such as: ps, top, lsof, netstat, ifconfig, who, df, kill, free, nice, ionice, iostat, iotop, uptime, pidof, tty, taskset, pmap. psutil currently supports the following platforms:\n",
    "\n",
    " * Linux\n",
    " * Windows\n",
    " * macOS\n",
    " * FreeBSD, OpenBSD, NetBSD\n",
    " * Sun Solaris\n",
    " * AIX"
   ]
  },
  {
   "cell_type": "code",
   "execution_count": 8,
   "metadata": {},
   "outputs": [
    {
     "name": "stdout",
     "output_type": "stream",
     "text": [
      "scpustats(ctx_switches=1810919006, interrupts=412877218, soft_interrupts=231547186, syscalls=0) \n",
      "\n",
      "scputimes(user=148641.94, nice=1127.24, system=42798.97, idle=1094404.32, iowait=533.35, irq=0.0, softirq=566.64, steal=0.0, guest=0.0, guest_nice=0.0) \n",
      "\n",
      "scputimes(user=2.5, nice=0.0, system=0.5, idle=97.0, iowait=0.0, irq=0.0, softirq=0.0, steal=0.0, guest=0.0, guest_nice=0.0) \n",
      "\n",
      "number of physical(?) CPUs:  8 \n",
      "\n",
      "[scputimes(user=2.0, nice=0.0, system=0.0, idle=98.0, iowait=0.0, irq=0.0, softirq=0.0, steal=0.0, guest=0.0, guest_nice=0.0), scputimes(user=1.0, nice=0.0, system=0.0, idle=99.0, iowait=0.0, irq=0.0, softirq=0.0, steal=0.0, guest=0.0, guest_nice=0.0), scputimes(user=2.0, nice=0.0, system=0.0, idle=98.0, iowait=0.0, irq=0.0, softirq=0.0, steal=0.0, guest=0.0, guest_nice=0.0), scputimes(user=1.0, nice=0.0, system=0.0, idle=99.0, iowait=0.0, irq=0.0, softirq=0.0, steal=0.0, guest=0.0, guest_nice=0.0), scputimes(user=2.0, nice=0.0, system=1.0, idle=97.1, iowait=0.0, irq=0.0, softirq=0.0, steal=0.0, guest=0.0, guest_nice=0.0), scputimes(user=1.0, nice=0.0, system=0.0, idle=99.0, iowait=0.0, irq=0.0, softirq=0.0, steal=0.0, guest=0.0, guest_nice=0.0), scputimes(user=0.0, nice=0.0, system=1.0, idle=97.0, iowait=0.0, irq=0.0, softirq=0.0, steal=0.0, guest=0.0, guest_nice=0.0), scputimes(user=2.0, nice=0.0, system=0.0, idle=98.0, iowait=0.0, irq=0.0, softirq=0.0, steal=0.0, guest=0.0, guest_nice=0.0)] \n",
      "\n",
      "['/home/bjackel/anaconda3/lib/python3.6/site-packages/ipykernel_launcher.py', '-f', '/run/user/1000/jupyter/kernel-ab8a35a5-c57a-4710-a277-e9561708b266.json']\n"
     ]
    }
   ],
   "source": [
    "print( psutil.cpu_stats(), '\\n' )\n",
    "print( psutil.cpu_times(), '\\n' )\n",
    "print( psutil.cpu_times_percent(interval=1, percpu=False), '\\n' )\n",
    "print( 'number of physical(?) CPUs: ', psutil.cpu_count(), '\\n' )\n",
    "print( psutil.cpu_times_percent(interval=1, percpu=True), '\\n' )\n",
    "print(sys.argv)"
   ]
  },
  {
   "cell_type": "code",
   "execution_count": 50,
   "metadata": {},
   "outputs": [],
   "source": [
    "def cpu_idle(nloop=999):\n",
    "    \"\"\" simple example of signal handling\n",
    "    \"\"\"\n",
    "    cpu_idle.flag = nloop\n",
    "    \n",
    "    def handler(signum, frame):\n",
    "        print('Signal handler called with signal ',signum)\n",
    "        #signal.alarm(0)\n",
    "        cpu_idle.flag = 0\n",
    "        \n",
    "    signal.signal(signal.SIGINT, handler)\n",
    "\n",
    "    while cpu_idle.flag > 0:\n",
    "        cpu_idle.flag -= 1\n",
    "        cpu = psutil.cpu_times_percent(interval=1, percpu=True)\n",
    "        print('\\t'.join([str(c.idle) for c in cpu]))"
   ]
  },
  {
   "cell_type": "code",
   "execution_count": 51,
   "metadata": {},
   "outputs": [
    {
     "name": "stdout",
     "output_type": "stream",
     "text": [
      "3.45 s ± 32.9 ms per loop (mean ± std. dev. of 7 runs, 1 loop each)\n"
     ]
    }
   ],
   "source": [
    "# make a simple CPU intensive task\n",
    "#\n",
    "cmnd = '[i**2 for i in range(9876543)]'\n",
    "%timeit exec(cmnd)"
   ]
  },
  {
   "cell_type": "code",
   "execution_count": null,
   "metadata": {},
   "outputs": [],
   "source": [
    "# spawn a subprocess to execute the task\n",
    "#\n",
    "status = subprocess.check_output('python -c \"[i**2 for i in range(9876)]; print(True)\"')\n",
    "print('subprocess status: ', status)"
   ]
  },
  {
   "cell_type": "code",
   "execution_count": 11,
   "metadata": {},
   "outputs": [
    {
     "name": "stdout",
     "output_type": "stream",
     "text": [
      "0 97.0\t99.0\t99.0\t98.0\t98.0\t98.0\t0.0\t98.0 0\n",
      "1 99.0\t99.0\t99.0\t98.0\t99.0\t97.0\t12.0\t99.0 \n",
      "2 99.0\t99.0\t99.0\t98.0\t97.0\t98.0\t97.0\t98.0 \n",
      "3 99.0\t99.0\t99.0\t99.0\t97.0\t98.0\t96.0\t98.0 \n",
      "4 99.0\t100.0\t99.0\t99.0\t98.0\t98.0\t96.0\t99.0 \n"
     ]
    }
   ],
   "source": [
    "cmnd = 'python -c \"[i**2 for i in range(9876543)]; print(True)\"'\n",
    "cmnd = '/usr/bin/env python -c \"[i**2 for i in range(9876543)]; print(True)\"'\n",
    "\n",
    "\n",
    "def paralize(cmdlist, nwait=5, nicer=False):\n",
    "    \n",
    "    plist = []\n",
    "    for n, cmd in enumerate(cmdlist):\n",
    "        plist.append( subprocess.Popen(cmnd, shell=True) ) \n",
    "#        print( plist[-1].pid )\n",
    "#        if nicer and n >= psutil.cpu_count():\n",
    "#            print('nice: ', psutil.Process( plist[-1].pid ).nice(-10) ) # set priority not supported under Windows\n",
    "\n",
    "    for i in range(nwait):\n",
    "        cpu = psutil.cpu_times_percent(interval=1, percpu=True)\n",
    "        cpu = '\\t'.join([str(c.idle) for c in cpu])\n",
    "        active = ','.join( [str(n) for n,p in enumerate(plist) if p.poll() is None] )\n",
    "        print(i, cpu, active)\n",
    "        \n",
    "    #for p in plist:\n",
    "    #    print( psutil.Process(pid=p.pid) ).cpu_times()  # only works if process is alive...\n",
    "\n",
    "# test for single subprocess\n",
    "paralize([cmnd])"
   ]
  },
  {
   "cell_type": "code",
   "execution_count": 12,
   "metadata": {},
   "outputs": [
    {
     "name": "stdout",
     "output_type": "stream",
     "text": [
      "0 2.0\t96.0\t0.0\t0.0\t96.1\t97.0\t94.0\t98.0 0,1,2\n",
      "1 2.0\t96.1\t0.0\t0.0\t99.0\t98.0\t97.0\t99.0 \n",
      "2 99.0\t96.0\t97.0\t99.0\t96.0\t97.0\t95.0\t97.0 \n",
      "3 98.0\t96.0\t97.0\t98.0\t97.0\t97.0\t91.0\t96.0 \n",
      "4 98.0\t99.0\t100.0\t98.0\t98.0\t97.0\t96.0\t96.0 \n",
      "5 98.0\t98.0\t99.0\t98.0\t97.0\t98.0\t96.0\t97.0 \n",
      "6 97.0\t98.0\t96.0\t98.0\t96.0\t97.0\t96.0\t97.0 \n"
     ]
    }
   ],
   "source": [
    "# run three subprocesses in parallel\n",
    "#\n",
    "paralize([cmnd for i in range(3)], nwait=5)"
   ]
  },
  {
   "cell_type": "code",
   "execution_count": 13,
   "metadata": {},
   "outputs": [
    {
     "name": "stdout",
     "output_type": "stream",
     "text": [
      "0 0.0\t0.0\t0.0\t0.0\t0.0\t0.0\t0.0\t0.0 0,1,2,3,4,5,6,7\n",
      "1 0.0\t0.0\t0.0\t0.0\t0.0\t0.0\t0.0\t0.0 0,1,2,3,4,5,6,7\n",
      "2 0.0\t0.0\t0.0\t0.0\t0.0\t0.0\t0.0\t0.0 0,1,2,3,4,5,6,7\n",
      "3 89.0\t90.0\t82.0\t86.1\t87.0\t81.0\t82.0\t83.0 \n",
      "4 97.0\t98.0\t98.0\t99.0\t98.0\t98.0\t97.0\t99.0 \n",
      "5 96.0\t97.0\t92.0\t90.2\t95.0\t78.0\t94.0\t98.0 \n",
      "6 96.0\t97.0\t99.0\t96.0\t97.0\t89.0\t95.0\t94.0 \n",
      "7 83.0\t90.0\t89.0\t87.0\t90.0\t90.0\t84.0\t69.0 \n",
      "8 75.0\t99.0\t97.0\t96.1\t96.0\t96.0\t97.0\t98.0 \n",
      "9 94.0\t94.0\t95.0\t96.0\t92.0\t93.0\t94.0\t94.0 \n"
     ]
    }
   ],
   "source": [
    "# run one process for each CPU\n",
    "#\n",
    "paralize([cmnd for i in range(8)], nwait=10)"
   ]
  },
  {
   "cell_type": "code",
   "execution_count": 14,
   "metadata": {},
   "outputs": [
    {
     "name": "stdout",
     "output_type": "stream",
     "text": [
      "0 0.0\t0.0\t0.0\t0.0\t0.0\t0.0\t0.0\t0.0 0,1,2,3,4,5,6,7,8,9,10,11\n",
      "1 0.0\t0.0\t0.0\t0.0\t0.0\t0.0\t0.0\t0.0 0,1,2,3,4,5,6,7,8,9,10,11\n",
      "2 0.0\t0.0\t0.0\t0.0\t0.0\t0.0\t0.0\t0.0 0,1,2,3,4,5,6,7,8,9,10,11\n",
      "3 0.0\t0.0\t0.0\t0.0\t0.0\t0.0\t0.0\t0.0 0,1,2,3,4,5,6,7,8,9,10,11\n",
      "4 24.0\t15.8\t29.0\t23.0\t13.9\t27.0\t29.0\t27.0 \n",
      "5 93.1\t94.0\t95.0\t93.0\t95.0\t93.0\t92.0\t91.0 \n",
      "6 88.0\t93.0\t95.0\t92.1\t93.0\t95.0\t91.0\t89.0 \n",
      "7 95.0\t89.0\t97.0\t97.0\t94.0\t94.1\t95.0\t92.0 \n",
      "8 97.0\t98.0\t99.0\t99.0\t97.0\t98.0\t97.0\t97.0 \n",
      "9 98.0\t100.0\t99.0\t97.0\t99.0\t99.0\t97.0\t99.0 \n"
     ]
    }
   ],
   "source": [
    "# oversubscribing by 50% takes slightly longer\n",
    "#\n",
    "paralize([cmnd for i in range(12)], nwait=10)"
   ]
  },
  {
   "cell_type": "code",
   "execution_count": 15,
   "metadata": {},
   "outputs": [
    {
     "name": "stdout",
     "output_type": "stream",
     "text": [
      "0 0.0\t0.0\t0.0\t0.0\t0.0\t0.0\t0.0\t0.0 0,1,2,3,4,5,6,7,8,9,10,11,12,13,14,15,16,17,18,19,20,21,22,23\n",
      "1 0.0\t0.0\t0.0\t0.0\t0.0\t0.0\t0.0\t0.0 0,1,2,3,4,5,6,7,8,9,10,11,12,13,14,15,16,17,18,19,20,21,22,23\n",
      "2 0.0\t0.0\t0.0\t0.0\t0.0\t0.0\t0.0\t0.0 0,1,2,3,4,5,6,7,8,9,10,11,12,13,14,15,16,17,18,19,20,21,22,23\n",
      "3 0.0\t0.0\t0.0\t0.0\t0.0\t0.0\t0.0\t0.0 0,1,2,3,4,5,6,7,8,9,10,11,12,13,14,15,16,17,18,19,20,21,22,23\n",
      "4 0.0\t0.0\t0.0\t0.0\t0.0\t0.0\t0.0\t0.0 0,1,2,3,4,5,6,7,8,9,10,11,12,13,14,15,16,17,18,19,20,21,22,23\n",
      "5 0.0\t0.0\t0.0\t0.0\t0.0\t0.0\t0.0\t0.0 0,1,2,3,4,5,6,7,8,9,10,11,12,13,14,15,16,17,18,19,20,21,22,23\n",
      "6 0.0\t0.0\t0.0\t0.0\t0.0\t0.0\t0.0\t0.0 0,1,2,3,4,5,6,7,8,9,10,11,12,13,14,15,16,17,18,19,20,21,22,23\n",
      "7 0.0\t0.0\t0.0\t0.0\t0.0\t0.0\t0.0\t0.0 0,1,2,3,4,5,6,7,8,9,10,11,12,13,14,15,16,17,18,19,20,21,22,23\n",
      "8 0.0\t0.0\t0.0\t0.0\t1.0\t0.0\t0.0\t0.0 7,12,15,17,20,21,22,23\n",
      "9 82.0\t84.0\t89.0\t88.0\t92.0\t84.0\t86.1\t93.0 \n",
      "10 99.0\t99.0\t99.0\t99.0\t97.0\t97.0\t97.0\t98.0 \n",
      "11 99.0\t100.0\t99.0\t98.0\t98.0\t97.0\t95.0\t98.0 \n",
      "12 98.0\t99.0\t98.0\t99.0\t99.0\t99.0\t97.0\t99.0 \n",
      "13 92.0\t92.0\t91.0\t89.0\t93.0\t90.0\t92.0\t88.0 \n",
      "14 91.0\t85.1\t84.0\t94.0\t89.0\t92.0\t81.0\t91.1 \n"
     ]
    }
   ],
   "source": [
    "paralize([cmnd for i in range(24)], nwait=15)"
   ]
  },
  {
   "cell_type": "markdown",
   "metadata": {},
   "source": [
    "#### Task: determine scaling efficiency\n",
    "Gather estimates of computation as a function of number of processes, plot, and analyze.\n",
    "\n",
    "Ideally we would have a perfectly linear relationship up to the number of CPUs and constant thereafter.  In practice the slope will be less than one and may saturate earlier."
   ]
  },
  {
   "cell_type": "markdown",
   "metadata": {},
   "source": [
    "## Multiprocessing\n",
    "https://docs.python.org/3/library/multiprocessing.html?highlight=multiprocessing#module-multiprocessing\n",
    "\n",
    "The multiprocessing package offers both local and remote concurrency, effectively side-stepping the Global Interpreter Lock by using subprocesses instead of threads. Due to this, the multiprocessing module allows the programmer to fully leverage multiple processors on a given machine. It runs on both Unix and Windows.\n",
    "\n",
    "    from multiprocessing import Pool\n",
    "\n",
    "    def f(x):\n",
    "        return x*x\n",
    "\n",
    "    if __name__ == '__main__':\n",
    "        with Pool(5) as p:\n",
    "            print(p.map(f, [1, 2, 3]))\n",
    "    will print to standard output\n",
    "\n",
    "    [1, 4, 9]\n",
    "    \n",
    "### Task: Use the multiprocessing package to speed up hyperparameter optimization.    "
   ]
  },
  {
   "cell_type": "code",
   "execution_count": null,
   "metadata": {},
   "outputs": [],
   "source": []
  },
  {
   "cell_type": "markdown",
   "metadata": {},
   "source": [
    "## Parallel python\n",
    "https://www.parallelpython.com/       \n",
    "\n",
    "### Figure out how to get this working on a single computer \n",
    "\n",
    "### Figure out how to get this working on all of the ST026 computers "
   ]
  },
  {
   "cell_type": "code",
   "execution_count": null,
   "metadata": {},
   "outputs": [],
   "source": []
  }
 ],
 "metadata": {
  "kernelspec": {
   "display_name": "Python 3",
   "language": "python",
   "name": "python3"
  },
  "language_info": {
   "codemirror_mode": {
    "name": "ipython",
    "version": 3
   },
   "file_extension": ".py",
   "mimetype": "text/x-python",
   "name": "python",
   "nbconvert_exporter": "python",
   "pygments_lexer": "ipython3",
   "version": "3.6.8"
  }
 },
 "nbformat": 4,
 "nbformat_minor": 2
}
