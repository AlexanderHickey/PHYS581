{
 "cells": [
  {
   "cell_type": "markdown",
   "metadata": {},
   "source": []
  },
  {
   "cell_type": "markdown",
   "metadata": {},
   "source": [
    "## Ocean Optics USB2000+ spectrometer\n",
    "\n",
    "https://oceanoptics.com/support/software-downloads/\n",
    "The vendor has a \"software-downloads\" page with links to a variety of firmware, drivers, and utilities.  Some of it requires passwords to access, while other items are explicitly labeled as open source.\n",
    "\n",
    "### SeaBreeze\n",
    "\n",
    "https://sourceforge.net/projects/seabreeze\n",
    "The \"SeaBreeze\" device driver source code is available from Source Forge.\n",
    "\n",
    "SeaBreeze is a device driver library that provides an interface to select Ocean Optics spectrometers. It is written in C/C++ and builds and runs on Windows (XP/7/8), MacOSX, and Linux (x86/x64/ARM).\n",
    "\n",
    "Features\n",
    " *USB support for Ocean Optics STS, USB2000+, QEPro, Maya-LSL, Ventana, NIRQuest and more!\n",
    " *Builds and runs on Windows (XP/7/8), MacOS, and Linux (x86/x64/ARM)\n",
    " \n",
    "<pre>\n",
    "#Sadly, the \"official\"(?) SeaBreeze c library does not compile under Ubuntu 18 kernal 4.15.0-36-generic.\n",
    "#\n",
    "The problem appears to be the use of deprecated C++ functionality\n",
    "\n",
    "ContinuousStrobeProtocolInterface.h:38,\n",
    "                 from ContinuousStrobeProtocolInterface.cpp:31:\n",
    "../../../../../include/common/buses/TransferHelper.h:51:13: error: dynamic exception specifications are deprecated in C++11 [-Werror=deprecated]\n",
    "             throw (BusTransferException) = 0;\n",
    "\n",
    "After fiddling around for a while I was unable to get things working\n",
    "\n",
    "\n",
    "bjackel@jackel-work:~/Dropbox/data/seabreeze/seabreeze-3.0.11/SeaBreeze$ pwd && make\n",
    "/home/bjackel/Dropbox/data/seabreeze/seabreeze-3.0.11/SeaBreeze\n",
    "mkdir -p ./lib\n",
    "flags =  -L/usr/lib -shared\n",
    "make -C src\n",
    "make[1]: Entering directory '/home/bjackel/Dropbox/data/seabreeze/seabreeze-3.0.11/SeaBreeze/src'\n",
    "make[2]: Entering directory '/home/bjackel/Dropbox/data/seabreeze/seabreeze-3.0.11/SeaBreeze/src/api'\n",
    "make[3]: Entering directory '/home/bjackel/Dropbox/data/seabreeze/seabreeze-3.0.11/SeaBreeze/src/api/seabreezeapi'\n",
    "make[3]: Leaving directory '/home/bjackel/Dropbox/data/seabreeze/seabreeze-3.0.11/SeaBreeze/src/api/seabreezeapi'\n",
    "make[2]: Leaving directory '/home/bjackel/Dropbox/data/seabreeze/seabreeze-3.0.11/SeaBreeze/src/api'\n",
    "make[2]: Entering directory '/home/bjackel/Dropbox/data/seabreeze/seabreeze-3.0.11/SeaBreeze/src/native'\n",
    "make[3]: Entering directory '/home/bjackel/Dropbox/data/seabreeze/seabreeze-3.0.11/SeaBreeze/src/native/network''\n",
    "...\n",
    "make[5]: Entering directory '/home/bjackel/Dropbox/data/seabreeze/seabreeze-3.0.11/SeaBreeze/src/vendors/OceanOptics/protocols/interfaces'\n",
    "building ContinuousStrobeProtocolInterface.o\n",
    "In file included from ../../../../../include/common/buses/Bus.h:41:0,\n",
    "                 from ../../../../../include/vendors/OceanOptics/protocols/interfaces/ContinuousStrobeProtocolInterface.h:38,\n",
    "                 from ContinuousStrobeProtocolInterface.cpp:31:\n",
    "../../../../../include/common/buses/TransferHelper.h:51:13: error: dynamic exception specifications are deprecated in C++11 [-Werror=deprecated]\n",
    "             throw (BusTransferException) = 0;\n",
    "             ^~~~~\n",
    "../../../../../include/common/buses/TransferHelper.h:53:13: error: dynamic exception specifications are deprecated in C++11 [-Werror=deprecated]\n",
    "             throw (BusTransferException) = 0;\n",
    "... \n",
    "cc1plus: all warnings being treated as errors\n",
    "../../../../../common.mk:130: recipe for target 'ContinuousStrobeProtocolInterface.o' failed\n",
    "make[5]: *** [ContinuousStrobeProtocolInterface.o] Error 1\n",
    "make[5]: Leaving directory '/home/bjackel/Dropbox/data/seabreeze/seabreeze-3.0.11/SeaBreeze/src/vendors/OceanOptics/protocols/interfaces'\n",
    "../../../../common.mk:141: recipe for target 'subdirs' failed\n",
    "make[4]: *** [subdirs] Error 2\n",
    "make[4]: Leaving directory '/home/bjackel/Dropbox/data/seabreeze/seabreeze-3.0.11/SeaBreeze/src/vendors/OceanOptics/protocols'\n",
    "../../../common.mk:141: recipe for target 'subdirs' failed\n",
    "make[3]: *** [subdirs] Error 2\n",
    "make[3]: Leaving directory '/home/bjackel/Dropbox/data/seabreeze/seabreeze-3.0.11/SeaBreeze/src/vendors/OceanOptics'\n",
    "../../common.mk:141: recipe for target 'subdirs' failed\n",
    "make[2]: *** [subdirs] Error 2\n",
    "make[2]: Leaving directory '/home/bjackel/Dropbox/data/seabreeze/seabreeze-3.0.11/SeaBreeze/src/vendors'\n",
    "../common.mk:141: recipe for target 'subdirs' failed\n",
    "make[1]: *** [subdirs] Error 2\n",
    "make[1]: Leaving directory '/home/bjackel/Dropbox/data/seabreeze/seabreeze-3.0.11/SeaBreeze/src'\n",
    "Makefile:28: recipe for target 'lib/libseabreeze.so' failed\n",
    "make: *** [lib/libseabreeze.so] Error 2\n",
    "bjackel@jackel-work:~/Dropbox/data/seabreeze/seabreeze-3.0.11/SeaBreeze$\n",
    "</pre>"
   ]
  },
  {
   "cell_type": "markdown",
   "metadata": {},
   "source": [
    "If I had been able to compile the source code then I could have used the following API (Application Programming Interface)\n",
    "\n",
    "### https://oceanoptics.com/api/seabreeze/_sea_breeze_a_p_i_8h_source.html\n",
    "\n",
    "SeaBreeze is a minimalistic, multi-platform (Windows, Linux, MacOS) device driver for Ocean Optics spectrometers, designed specifically for embedded applications needing to run in resource-constrained hardware environments. SeaBreeze provides a fully working and tested REFERENCE IMPLEMENTATION of the Ocean Optics USB interface, demonstrating how Ocean Optics spectrometers can be commanded and controlled from C/C++. It is provided with full C/C++ source code so that customers can customize and extend it to support exactly those features and functions they require.\n",
    "\n",
    "Unlike the larger OmniDriver/SPAM driver library, SeaBreeze itself does not contain advanced spectroscopic processing and manipulation, but full sample code is included showing how these functions can be implemented in client applications using C++, C#, and a variety of other languages.\n",
    "\n",
    "License\n",
    "SeaBreeze is licensed under the MIT License. Additional information may be found in the \"LICENSE\" file which should accompany this source distribution.\n",
    "\n",
    "(Also available at http://opensource.org/licenses/MIT)\n",
    "\n",
    "Application Programming Interfaces (APIs)\n",
    "SeaBreeze provides two distinct interfaces to control spectrometers. You are free to use and extend either interface, but note that most new development and support from Ocean Optics will focus on the newer SeaBreezeAPI interface, in preference to the older legacy SeaBreezeWrapper interface.\n",
    "\n",
    "SeaBreeze 2.0: SeaBreezeAPI (C++ class) or SeaBreezeAPI.h (C functions)\n",
    "SeaBreeze 1.0: SeaBreezeWrapper (C++ class) or SeaBreezeWrapper.h (C functions)\n",
    "Note that detailed documentation for the C++ methods can be found in the corresponding C functions.\n",
    "\n",
    "Regrettably, at writing the SeaBreezeAPI (2.0) can only be used from a full SeaBreeze source distribution. Its headers are not designed in such a way that SeaBreezeAPI can be called without access to the full SeaBreeze include tree, which currently is not provided through the binary installers.\n",
    "\n",
    "#### Linux\n",
    "\n",
    "Dependencies\n",
    "\n",
    "    libusb-dev 0.1\n",
    "    gcc\n",
    "    g++\n",
    "\n",
    "To compile SeaBreeze, simply run 'make' on the command line of a POSIX system. SeaBreeze is a C++ driver libary with a simplified C interface. This will build with a combination of g++ and gcc. At the moment, only Linux is fully supported, and requires at least a 2.4.20 kernel for USB support.\n",
    "\n",
    "Building SeaBreeze requires that libusb-0.1 is installed (with its shared libraries in /usr/lib and its header files in /usr/include (e.g. usb.h)). It is also recommended that the target system have the Ocean Optics rules file for udev (10-oceanoptics.rules) so that ordinary users can access the devices. This is likely the problem if root can connect to devices but nobody else can.\n",
    "\n",
    "It is necessary to put libseabreeze.so into your library path to run any programs against this driver. It should suffice to do this within the SeaBreeze root directory (where this README.txt is) for testing:\n",
    "\n",
    "    $ export LD_LIBRARY_PATH=\"$PWD/lib\"\n",
    "    \n",
    "Alternately, libseabreeze.so could be installed into a system library directory like /usr/local/lib that ld.so knows about.\n",
    "\n",
    "Test programs in the 'test' directory should be built alongside SeaBreeze and can be used as starting points for new development. As long as the LD_LIBRARY_PATH above is properly defined, these should work. If they do not, then they may need to be updated to reflect the current state of the driver API."
   ]
  },
  {
   "cell_type": "markdown",
   "metadata": {},
   "source": [
    "## python-seabreeze\n",
    "\n",
    "Someone with better c++ skills has assembled a Python interface to the SeaBreeze library\n",
    "\n",
    "    https://github.com/ap--/python-seabreeze\n",
    "\n",
    "and made it available via the anaconda package framework\n",
    "\n",
    "    conda install -c poehlmann python-seabreeze"
   ]
  },
  {
   "cell_type": "markdown",
   "metadata": {},
   "source": [
    "### 10-oceanoptics.rules\n",
    "\n",
    "Get from here: https://github.com/ap--/python-seabreeze/blob/master/misc/10-oceanoptics.rules\n",
    "\n",
    "    SUBSYSTEM!=\"usb|usb_device\", ACTION!=\"add\", GOTO=\"oceanoptics_rules_end\"\n",
    "    ...\n",
    "    #Ocean Optics Inc. USB2000 spectrometer \n",
    "    ATTR{idVendor}==\"2457\", ATTR{idProduct}==\"1002\", SYMLINK+=\"usb2000-%n\", GROUP=\"plugdev\" \n",
    "    #Ocean Optics Inc. USB2000+ spectrometer \n",
    "    ATTR{idVendor}==\"2457\", ATTR{idProduct}==\"101e\", SYMLINK+=\"usb2000+-%n\", GROUP=\"plugdev\"\n",
    "    ...\n",
    "    LABEL=\"oceanoptics_rules_end\"\n",
    "\n",
    "and install\n",
    "\n",
    "### cp 10oceanoptics.rules /etc/udev/rules.d\n",
    "### sudo udevadm control --reload-rules"
   ]
  },
  {
   "cell_type": "code",
   "execution_count": 2,
   "metadata": {},
   "outputs": [
    {
     "ename": "SeaBreezeError",
     "evalue": "No unopened device found.",
     "output_type": "error",
     "traceback": [
      "\u001b[0;31m---------------------------------------------------------------------------\u001b[0m",
      "\u001b[0;31mSeaBreezeError\u001b[0m                            Traceback (most recent call last)",
      "\u001b[0;32m<ipython-input-2-2eef5d102abb>\u001b[0m in \u001b[0;36m<module>\u001b[0;34m\u001b[0m\n\u001b[1;32m      1\u001b[0m \u001b[0;32mimport\u001b[0m \u001b[0mseabreeze\u001b[0m\u001b[0;34m.\u001b[0m\u001b[0mspectrometers\u001b[0m \u001b[0;32mas\u001b[0m \u001b[0msb\u001b[0m\u001b[0;34m\u001b[0m\u001b[0;34m\u001b[0m\u001b[0m\n\u001b[0;32m----> 2\u001b[0;31m \u001b[0mspec\u001b[0m \u001b[0;34m=\u001b[0m \u001b[0msb\u001b[0m\u001b[0;34m.\u001b[0m\u001b[0mSpectrometer\u001b[0m\u001b[0;34m.\u001b[0m\u001b[0mfrom_serial_number\u001b[0m\u001b[0;34m(\u001b[0m\u001b[0;34m)\u001b[0m\u001b[0;34m\u001b[0m\u001b[0;34m\u001b[0m\u001b[0m\n\u001b[0m\u001b[1;32m      3\u001b[0m \u001b[0mprint\u001b[0m\u001b[0;34m(\u001b[0m\u001b[0mspec\u001b[0m\u001b[0;34m)\u001b[0m\u001b[0;34m\u001b[0m\u001b[0;34m\u001b[0m\u001b[0m\n",
      "\u001b[0;32m~/anaconda3/envs/Python36/lib/python3.6/site-packages/seabreeze/spectrometers.py\u001b[0m in \u001b[0;36mfrom_serial_number\u001b[0;34m(cls, serial)\u001b[0m\n\u001b[1;32m     69\u001b[0m                     \u001b[0;32mreturn\u001b[0m \u001b[0mcls\u001b[0m\u001b[0;34m(\u001b[0m\u001b[0mdev\u001b[0m\u001b[0;34m)\u001b[0m\u001b[0;34m\u001b[0m\u001b[0;34m\u001b[0m\u001b[0m\n\u001b[1;32m     70\u001b[0m             \u001b[0;32melse\u001b[0m\u001b[0;34m:\u001b[0m\u001b[0;34m\u001b[0m\u001b[0;34m\u001b[0m\u001b[0m\n\u001b[0;32m---> 71\u001b[0;31m                 \u001b[0;32mraise\u001b[0m \u001b[0mSeaBreezeError\u001b[0m\u001b[0;34m(\u001b[0m\u001b[0;34m\"No unopened device found.\"\u001b[0m\u001b[0;34m)\u001b[0m\u001b[0;34m\u001b[0m\u001b[0;34m\u001b[0m\u001b[0m\n\u001b[0m\u001b[1;32m     72\u001b[0m         \u001b[0;32melse\u001b[0m\u001b[0;34m:\u001b[0m  \u001b[0;31m# pick spectrometer with correct serial\u001b[0m\u001b[0;34m\u001b[0m\u001b[0;34m\u001b[0m\u001b[0m\n\u001b[1;32m     73\u001b[0m             \u001b[0;32mfor\u001b[0m \u001b[0mdev\u001b[0m \u001b[0;32min\u001b[0m \u001b[0mlib\u001b[0m\u001b[0;34m.\u001b[0m\u001b[0mdevice_list_devices\u001b[0m\u001b[0;34m(\u001b[0m\u001b[0;34m)\u001b[0m\u001b[0;34m:\u001b[0m\u001b[0;34m\u001b[0m\u001b[0;34m\u001b[0m\u001b[0m\n",
      "\u001b[0;31mSeaBreezeError\u001b[0m: No unopened device found."
     ]
    }
   ],
   "source": [
    "import seabreeze.spectrometers as sb\n",
    "spec = sb.Spectrometer.from_serial_number()\n",
    "print(spec)"
   ]
  },
  {
   "cell_type": "code",
   "execution_count": 17,
   "metadata": {},
   "outputs": [
    {
     "data": {
      "text/plain": [
       "array([1.69905556e+01, 2.96291017e+04, 3.25247778e+02, ...,\n",
       "       3.61656111e+02, 4.56317778e+02, 4.02918889e+02])"
      ]
     },
     "execution_count": 17,
     "metadata": {},
     "output_type": "execute_result"
    }
   ],
   "source": [
    "spec.integration_time_micros(20000)\n",
    "spec.wavelengths()\n",
    "#array([  340.32581   ,   340.70321186,   341.08058305, ...,  1024.84940994,\n",
    "#        1025.1300678 ,  1025.4106617 ])\n",
    "spec.intensities()"
   ]
  },
  {
   "cell_type": "markdown",
   "metadata": {},
   "source": [
    "\n",
    "## debugging linux USB \n",
    "\n",
    "### ls -al /etc/udev/rules.d\n",
    "\n",
    "    -rw-r--r-- 1 root root  3386 Nov 12 13:02 10-oceanoptics.rules\n",
    "    -rw-r--r-- 1 root root 58549 Jun  4  2018 70-snap.core.rules"
   ]
  },
  {
   "cell_type": "markdown",
   "metadata": {},
   "source": [
    "Plug in USB and check for hardware messages\n",
    "\n",
    "### dmesg | tail\n",
    "\n",
    "    [2567838.968588] usb 1-5: new high-speed USB device number 31 using xhci_hcd\n",
    "    [2567843.186569] usb 1-5: device descriptor read/8, error -71\n",
    "    [2567843.312755] usb 1-5: device descriptor read/8, error -71\n",
    "    [2567843.420649] usb usb1-port5: unable to enumerate USB device\n",
    "    [2567847.780637] usb 1-5: new high-speed USB device number 32 using xhci_hcd\n",
    "    [2567847.940661] usb 1-5: New USB device found, idVendor=2457, idProduct=101e\n",
    "    [2567847.940667] usb 1-5: New USB device strings: Mfr=1, Product=2, SerialNumber=0\n",
    "    [2567847.940671] usb 1-5: Product: Ocean Optics USB2000+\n",
    "    [2567847.940675] usb 1-5: Manufacturer: USB2000+ 1.04.0 \n"
   ]
  },
  {
   "cell_type": "markdown",
   "metadata": {},
   "source": [
    "### ls -al /dev/usb2000*\n",
    "       lrwxrwxrwx 1 root root 15 Jan 28 15:14 /dev/usb2000+-5 -> bus/usb/001/032\n",
    "        \n",
    "### ls -al /dev/bus/usb/001/032\n",
    "       crw-rw---- 1 root plugdev 189, 31 Jan 28 15:14 /dev/bus/usb/001/032"
   ]
  },
  {
   "cell_type": "markdown",
   "metadata": {},
   "source": [
    "\n"
   ]
  },
  {
   "cell_type": "raw",
   "metadata": {},
   "source": [
    "Confirm that I am in `plugdev` group\n",
    "\n",
    "### groups\n",
    "bjackel adm cdrom sudo dip plugdev lpadmin sambashare"
   ]
  },
  {
   "cell_type": "markdown",
   "metadata": {},
   "source": [
    "### lsusb\n",
    "\n",
    "    Bus 004 Device 001: ID 1d6b:0003 Linux Foundation 3.0 root hub\n",
    "    Bus 003 Device 001: ID 1d6b:0002 Linux Foundation 2.0 root hub\n",
    "    Bus 002 Device 004: ID 0451:8040 Texas Instruments, Inc. \n",
    "    Bus 002 Device 001: ID 1d6b:0003 Linux Foundation 3.0 root hub\n",
    "    Bus 001 Device 008: ID 0424:2507 Standard Microsystems Corp. hub\n",
    "    Bus 001 Device 007: ID 046d:c077 Logitech, Inc. M105 Optical Mouse\n",
    "    Bus 001 Device 006: ID 0451:8042 Texas Instruments, Inc. Hub\n",
    "    Bus 001 Device 032: ID 2457:101e  \n",
    "    Bus 001 Device 003: ID 046d:c517 Logitech, Inc. LX710 Cordless Desktop Laser\n",
    "    Bus 001 Device 001: ID 1d6b:0002 Linux Foundation 2.0 root hub\n"
   ]
  },
  {
   "cell_type": "markdown",
   "metadata": {},
   "source": [
    "### usb-devices\n",
    "    \n",
    "     T:  Bus=01 Lev=01 Prnt=01 Port=04 Cnt=02 Dev#= 32 Spd=480 MxCh= 0\n",
    "     D:  Ver= 2.00 Cls=00(>ifc ) Sub=00 Prot=00 MxPS=64 #Cfgs=  1\n",
    "     P:  Vendor=2457 ProdID=101e Rev=00.02\n",
    "     S:  Manufacturer=USB2000+ 1.04.0 \n",
    "     S:  Product=Ocean Optics USB2000+\n",
    "     C:  #Ifs= 1 Cfg#= 1 Atr=80 MxPwr=400mA\n",
    "     I:  If#= 0 Alt= 0 #EPs= 4 Cls=ff(vend.) Sub=00 Prot=00 Driver=(none)"
   ]
  },
  {
   "cell_type": "markdown",
   "metadata": {},
   "source": [
    "## ctypes\n",
    "\n",
    "Calling functions in a shared library object."
   ]
  },
  {
   "cell_type": "code",
   "execution_count": 5,
   "metadata": {},
   "outputs": [
    {
     "name": "stdout",
     "output_type": "stream",
     "text": [
      "00000000002ccf73 T sbapi_acquisition_delay_get_delay_increment_microseconds\r\n",
      "00000000002ccfb4 T sbapi_acquisition_delay_get_delay_maximum_microseconds\r\n",
      "00000000002ccf32 T sbapi_acquisition_delay_get_delay_microseconds\r\n",
      "00000000002ccff5 T sbapi_acquisition_delay_get_delay_minimum_microseconds\r\n",
      "00000000002ccee9 T sbapi_acquisition_delay_set_delay_microseconds\r\n",
      "00000000002c988f T sbapi_add_RS232_device_location\r\n",
      "00000000002c9852 T sbapi_add_TCPIPv4_device_location\r\n",
      "00000000002ca3d2 T sbapi_binning_get_default_pixel_binning_factor\r\n",
      "00000000002ca413 T sbapi_binning_get_max_pixel_binning_factor\r\n",
      "00000000002ca305 T sbapi_binning_get_pixel_binning_factor\r\n",
      "00000000002ca391 T sbapi_binning_reset_default_pixel_binning_factor\r\n",
      "00000000002ca346 T sbapi_binning_set_default_pixel_binning_factor\r\n",
      "00000000002ca2ba T sbapi_binning_set_pixel_binning_factor\r\n",
      "00000000002c998e T sbapi_close_device\r\n",
      "00000000002ca942 T sbapi_continuous_strobe_set_continuous_strobe_enable\r\n",
      "00000000002ca993 T sbapi_continuous_strobe_set_continuous_strobe_period_micros\r\n",
      "00000000002ccaf6 T sbapi_data_buffer_clear\r\n",
      "00000000002ccbc0 T sbapi_data_buffer_get_buffer_capacity\r\n",
      "00000000002ccc01 T sbapi_data_buffer_get_buffer_capacity_maximum\r\n",
      "00000000002ccc42 T sbapi_data_buffer_get_buffer_capacity_minimum\r\n",
      "00000000002ccb7f T sbapi_data_buffer_get_number_of_elements\r\n",
      "00000000002ccb37 T sbapi_data_buffer_remove_oldest_spectra\r\n",
      "00000000002ccc83 T sbapi_data_buffer_set_buffer_capacity\r\n",
      "00000000002cb3d3 T sbapi_dhcp_server_get_address\r\n",
      "00000000002cb49a T sbapi_dhcp_server_get_enable_state\r\n",
      "00000000002cb435 T sbapi_dhcp_server_set_address\r\n",
      "00000000002cb4e5 T sbapi_dhcp_server_set_enable_state\r\n",
      "00000000002caa60 T sbapi_eeprom_read_slot\r\n",
      "00000000002cadf3 T sbapi_ethernet_configuration_get_gbe_enable_status\r\n",
      "00000000002cad4d T sbapi_ethernet_configuration_get_mac_address\r\n",
      "00000000002cae3e T sbapi_ethernet_configuration_set_gbe_enable_status\r\n",
      "00000000002cada0 T sbapi_ethernet_configuration_set_mac_address\r\n",
      "00000000002ccd50 T sbapi_fast_buffer_get_buffering_enable\r\n",
      "00000000002ccddc T sbapi_fast_buffer_get_consecutive_sample_count\r\n",
      "00000000002ccd91 T sbapi_fast_buffer_set_buffering_enable\r\n",
      "00000000002cce1d T sbapi_fast_buffer_set_consecutive_sample_count\r\n",
      "00000000002ccea1 T sbapi_get_acquisition_delay_features\r\n",
      "00000000002ca8fa T sbapi_get_continuous_strobe_features\r\n",
      "00000000002ccaae T sbapi_get_data_buffer_features\r\n",
      "00000000002c991c T sbapi_get_device_ids\r\n",
      "00000000002c9a4b T sbapi_get_device_type\r\n",
      "00000000002c9ad2 T sbapi_get_device_usb_endpoint_primary_in\r\n",
      "00000000002c9a91 T sbapi_get_device_usb_endpoint_primary_out\r\n",
      "00000000002c9b54 T sbapi_get_device_usb_endpoint_secondary_in\r\n",
      "00000000002c9b95 T sbapi_get_device_usb_endpoint_secondary_in2\r\n",
      "00000000002c9b13 T sbapi_get_device_usb_endpoint_secondary_out\r\n",
      "00000000002cb38b T sbapi_get_dhcp_server_features\r\n",
      "00000000002caa18 T sbapi_get_eeprom_features\r\n",
      "00000000002c99c8 T sbapi_get_error_string\r\n",
      "00000000002cad05 T sbapi_get_ethernet_configuration_features\r\n",
      "00000000002ccd08 T sbapi_get_fast_buffer_features\r\n",
      "00000000002cbaa1 T sbapi_get_gpio_features\r\n",
      "00000000002cd072 T sbapi_get_i2c_master_features\r\n",
      "00000000002cc2e3 T sbapi_get_introspection_features\r\n",
      "00000000002cb04c T sbapi_get_ipv4_features\r\n",
      "00000000002caafb T sbapi_get_irrad_cal_features\r\n",
      "00000000002ca825 T sbapi_get_lamp_features\r\n",
      "00000000002ca565 T sbapi_get_light_source_features\r\n",
      "00000000002caed0 T sbapi_get_multicast_features\r\n",
      "00000000002cb577 T sbapi_get_network_configuration_features\r\n",
      "00000000002cc09e T sbapi_get_nonlinearity_coeffs_features\r\n",
      "00000000002cce65 T sbapi_get_number_of_acquisition_delay_features\r\n",
      "00000000002ca8be T sbapi_get_number_of_continuous_strobe_features\r\n",
      "00000000002cca72 T sbapi_get_number_of_data_buffer_features\r\n",
      "00000000002c98f2 T sbapi_get_number_of_device_ids\r\n",
      "00000000002cb34f T sbapi_get_number_of_dhcp_server_features\r\n",
      "00000000002ca9dc T sbapi_get_number_of_eeprom_features\r\n",
      "00000000002cacc9 T sbapi_get_number_of_ethernet_configuration_features\r\n",
      "00000000002ccccc T sbapi_get_number_of_fast_buffer_features\r\n",
      "00000000002cba65 T sbapi_get_number_of_gpio_features\r\n",
      "00000000002cd036 T sbapi_get_number_of_i2c_master_features\r\n",
      "00000000002cc2a7 T sbapi_get_number_of_introspection_features\r\n",
      "00000000002cb010 T sbapi_get_number_of_ipv4_features\r\n",
      "00000000002caabf T sbapi_get_number_of_irrad_cal_features\r\n",
      "00000000002ca7e9 T sbapi_get_number_of_lamp_features\r\n",
      "00000000002ca529 T sbapi_get_number_of_light_source_features\r\n",
      "00000000002cae94 T sbapi_get_number_of_multicast_features\r\n",
      "00000000002cb53b T sbapi_get_number_of_network_configuration_features\r\n",
      "00000000002cc062 T sbapi_get_number_of_nonlinearity_coeffs_features\r\n",
      "00000000002cc565 T sbapi_get_number_of_optical_bench_features\r\n",
      "00000000002ca236 T sbapi_get_number_of_pixel_binning_features\r\n",
      "00000000002c9bd6 T sbapi_get_number_of_raw_usb_bus_access_features\r\n",
      "00000000002cc45f T sbapi_get_number_of_revision_features\r\n",
      "00000000002c9d18 T sbapi_get_number_of_serial_number_features\r\n",
      "00000000002ca454 T sbapi_get_number_of_shutter_features\r\n",
      "00000000002c9e26 T sbapi_get_number_of_spectrometer_features\r\n",
      "00000000002cc800 T sbapi_get_number_of_spectrum_processing_features\r\n",
      "00000000002cc99d T sbapi_get_number_of_stray_light_coeffs_features\r\n",
      "00000000002cc137 T sbapi_get_number_of_temperature_features\r\n",
      "00000000002cbeec T sbapi_get_number_of_thermo_electric_features\r\n",
      "00000000002cb782 T sbapi_get_number_of_wifi_configuration_features\r\n",
      "00000000002cc5a1 T sbapi_get_optical_bench_features\r\n",
      "00000000002ca272 T sbapi_get_pixel_binning_features\r\n",
      "00000000002c9c10 T sbapi_get_raw_usb_bus_access_features\r\n",
      "00000000002cc49b T sbapi_get_revision_features\r\n",
      "00000000002c9d98 T sbapi_get_serial_number\r\n",
      "00000000002c9d52 T sbapi_get_serial_number_features\r\n",
      "00000000002c9de7 T sbapi_get_serial_number_maximum_length\r\n",
      "00000000002ca490 T sbapi_get_shutter_features\r\n",
      "00000000002c9e62 T sbapi_get_spectrometer_features\r\n",
      "00000000002cc83c T sbapi_get_spectrum_processing_features\r\n",
      "00000000002cc9d9 T sbapi_get_stray_light_coeffs_features\r\n",
      "00000000002cc173 T sbapi_get_temperature_features\r\n",
      "00000000002cbf28 T sbapi_get_thermo_electric_features\r\n",
      "00000000002cb7be T sbapi_get_wifi_configuration_features\r\n",
      "00000000002cbc8d T sbapi_gpio_extension_get_available_modes\r\n",
      "00000000002cbcf2 T sbapi_gpio_extension_get_current_mode\r\n",
      "00000000002cbc4c T sbapi_gpio_extension_get_number_of_pins\r\n",
      "00000000002cbda4 T sbapi_gpio_extension_get_output_vector\r\n",
      "00000000002cbe35 T sbapi_gpio_extension_get_value\r\n",
      "00000000002cbd3d T sbapi_gpio_extension_set_mode\r\n",
      "00000000002cbde5 T sbapi_gpio_extension_set_output_vector\r\n",
      "00000000002cbe90 T sbapi_gpio_extension_set_value\r\n",
      "00000000002cbae9 T sbapi_gpio_get_number_of_pins\r\n",
      "00000000002cbb2a T sbapi_gpio_get_output_enable_vector\r\n",
      "00000000002cbbbb T sbapi_gpio_get_value_vector\r\n",
      "00000000002cbb6b T sbapi_gpio_set_output_enable_vector\r\n",
      "00000000002cbbfc T sbapi_gpio_set_value_vector\r\n",
      "00000000002cd0ba T sbapi_i2c_master_get_number_of_buses\r\n",
      "00000000002cd0fb T sbapi_i2c_master_read_bus\r\n",
      "00000000002c983c T sbapi_initialize\r\n",
      "00000000002cc36c T sbapi_introspection_active_pixel_ranges_get\r\n",
      "00000000002cc3bd T sbapi_introspection_electric_dark_pixel_ranges_get\r\n",
      "00000000002cc32b T sbapi_introspection_number_of_pixels_get\r\n",
      "00000000002cc40e T sbapi_introspection_optical_dark_pixel_ranges_get\r\n",
      "00000000002cb294 T sbapi_ipv4_add_address\r\n",
      "00000000002cb2f9 T sbapi_ipv4_delete_address\r\n",
      "00000000002cb180 T sbapi_ipv4_get_address\r\n",
      "00000000002cb1ee T sbapi_ipv4_get_default_gateway_address\r\n",
      "00000000002cb094 T sbapi_ipv4_get_dhcp_enable_state\r\n",
      "00000000002cb135 T sbapi_ipv4_get_number_of_addresses\r\n",
      "00000000002cb241 T sbapi_ipv4_set_default_gateway_address\r\n",
      "00000000002cb0df T sbapi_ipv4_set_dhcp_enable_state\r\n",
      "00000000002cabe5 T sbapi_irrad_calibration_has_collection_area\r\n",
      "00000000002cab43 T sbapi_irrad_calibration_read\r\n",
      "00000000002cac26 T sbapi_irrad_calibration_read_collection_area\r\n",
      "00000000002cab94 T sbapi_irrad_calibration_write\r\n",
      "00000000002cac77 T sbapi_irrad_calibration_write_collection_area\r\n",
      "00000000002ca86d T sbapi_lamp_set_lamp_enable\r\n",
      "00000000002ca5ad T sbapi_light_source_get_count\r\n",
      "00000000002ca734 T sbapi_light_source_get_intensity\r\n",
      "00000000002ca5ee T sbapi_light_source_has_enable\r\n",
      "00000000002ca6e5 T sbapi_light_source_has_variable_intensity\r\n",
      "00000000002ca63d T sbapi_light_source_is_enabled\r\n",
      "00000000002ca68c T sbapi_light_source_set_enable\r\n",
      "00000000002ca78e T sbapi_light_source_set_intensity\r\n",
      "00000000002caf18 T sbapi_multicast_get_enable_state\r\n",
      "00000000002cafd5 T sbapi_multicast_get_group_address\r\n",
      "00000000002cafb9 T sbapi_multicast_get_group_port\r\n",
      "00000000002caf63 T sbapi_multicast_set_enable_state\r\n",
      "00000000002cb600 T sbapi_network_configuration_get_interface_connection_type\r\n",
      "00000000002cb5bf T sbapi_network_configuration_get_interface_count\r\n",
      "00000000002cb696 T sbapi_network_configuration_get_interface_enable_status\r\n",
      "00000000002cb64b T sbapi_network_configuration_run_interface_self_test\r\n",
      "00000000002cb737 T sbapi_network_configuration_save_interface_settings\r\n",
      "00000000002cb6e1 T sbapi_network_configuration_set_interface_enable_status\r\n",
      "00000000002cc0e6 T sbapi_nonlinearity_coeffs_get\r\n",
      "00000000002c9954 T sbapi_open_device\r\n",
      "00000000002cc70d T sbapi_optical_bench_get_coating\r\n",
      "00000000002cc5e9 T sbapi_optical_bench_get_fiber_diameter_microns\r\n",
      "00000000002cc75e T sbapi_optical_bench_get_filter\r\n",
      "00000000002cc7af T sbapi_optical_bench_get_grating\r\n",
      "00000000002cc66b T sbapi_optical_bench_get_id\r\n",
      "00000000002cc6bc T sbapi_optical_bench_get_serial_number\r\n",
      "00000000002cc62a T sbapi_optical_bench_get_slit_width_microns\r\n",
      "00000000002c98cc T sbapi_probe_devices\r\n",
      "00000000002c9c56 T sbapi_raw_usb_bus_access_read\r\n",
      "00000000002c9cb7 T sbapi_raw_usb_bus_access_write\r\n",
      "00000000002cc524 T sbapi_revision_firmware_get\r\n",
      "00000000002cc4e3 T sbapi_revision_hardware_get\r\n",
      "00000000002c9847 T sbapi_shutdown\r\n",
      "00000000002ca4d8 T sbapi_shutter_set_shutter_open\r\n",
      "00000000002ca1a4 T sbapi_spectrometer_get_electric_dark_pixel_count\r\n",
      "00000000002ca1e5 T sbapi_spectrometer_get_electric_dark_pixel_indices\r\n",
      "00000000002c9fcf T sbapi_spectrometer_get_fast_buffer_spectrum\r\n",
      "00000000002ca080 T sbapi_spectrometer_get_formatted_spectrum\r\n",
      "00000000002ca112 T sbapi_spectrometer_get_formatted_spectrum_length\r\n",
      "00000000002c9f7c T sbapi_spectrometer_get_maximum_intensity\r\n",
      "00000000002c9f3b T sbapi_spectrometer_get_minimum_integration_time_micros\r\n",
      "00000000002ca02f T sbapi_spectrometer_get_unformatted_spectrum\r\n",
      "00000000002ca0d1 T sbapi_spectrometer_get_unformatted_spectrum_length\r\n",
      "00000000002ca153 T sbapi_spectrometer_get_wavelengths\r\n",
      "00000000002c9ef2 T sbapi_spectrometer_set_integration_time_micros\r\n",
      "00000000002c9eaa T sbapi_spectrometer_set_trigger_mode\r\n",
      "00000000002cc8c5 T sbapi_spectrum_processing_boxcar_width_get\r\n",
      "00000000002cc952 T sbapi_spectrum_processing_boxcar_width_set\r\n",
      "00000000002cc884 T sbapi_spectrum_processing_scans_to_average_get\r\n",
      "00000000002cc906 T sbapi_spectrum_processing_scans_to_average_set\r\n",
      "00000000002cca21 T sbapi_stray_light_coeffs_get\r\n",
      "00000000002cbf70 T sbapi_tec_read_temperature_degrees_C\r\n",
      "00000000002cc017 T sbapi_tec_set_enable\r\n",
      "00000000002cbfc3 T sbapi_tec_set_temperature_setpoint_degrees_C\r\n",
      "00000000002cc1bb T sbapi_temperature_count_get\r\n",
      "00000000002cc1fc T sbapi_temperature_get\r\n",
      "00000000002cc256 T sbapi_temperature_get_all\r\n",
      "00000000002cb806 T sbapi_wifi_configuration_get_mode\r\n",
      "00000000002cb8a7 T sbapi_wifi_configuration_get_security_type\r\n",
      "00000000002cb948 T sbapi_wifi_configuration_get_ssid\r\n",
      "00000000002cb851 T sbapi_wifi_configuration_set_mode\r\n",
      "00000000002cba00 T sbapi_wifi_configuration_set_pass_phrase\r\n",
      "00000000002cb8f2 T sbapi_wifi_configuration_set_security_type\r\n",
      "00000000002cb99b T sbapi_wifi_configuration_set_ssid\r\n",
      "000000000020ddda W _Z19__sbapi_getFeaturesIN9seabreeze20gpioFeatureInterfaceEEPSt6vectorIPT_SaIS4_EEPNS0_6DeviceE\r\n",
      "000000000020aa22 W _Z19__sbapi_getFeaturesIN9seabreeze20IPv4FeatureInterfaceEEPSt6vectorIPT_SaIS4_EEPNS0_6DeviceE\r\n",
      "000000000020bed2 W _Z19__sbapi_getFeaturesIN9seabreeze23ShutterFeatureInterfaceEEPSt6vectorIPT_SaIS4_EEPNS0_6DeviceE\r\n",
      "000000000020a260 W _Z19__sbapi_getFeaturesIN9seabreeze24IrradCalFeatureInterfaceEEPSt6vectorIPT_SaIS4_EEPNS0_6DeviceE\r\n",
      "000000000020c92a W _Z19__sbapi_getFeaturesIN9seabreeze24RevisionFeatureInterfaceEEPSt6vectorIPT_SaIS4_EEPNS0_6DeviceE\r\n",
      "000000000020e070 W _Z19__sbapi_getFeaturesIN9seabreeze25i2cMasterFeatureInterfaceEEPSt6vectorIPT_SaIS4_EEPNS0_6DeviceE\r\n",
      "000000000020a78c W _Z19__sbapi_getFeaturesIN9seabreeze25MulticastFeatureInterfaceEEPSt6vectorIPT_SaIS4_EEPNS0_6DeviceE\r\n",
      "000000000020d618 W _Z19__sbapi_getFeaturesIN9seabreeze26DataBufferFeatureInterfaceEEPSt6vectorIPT_SaIS4_EEPNS0_6DeviceE\r\n",
      "000000000020af4e W _Z19__sbapi_getFeaturesIN9seabreeze26DHCPServerFeatureInterfaceEEPSt6vectorIPT_SaIS4_EEPNS0_6DeviceE\r\n",
      "000000000020b47a W _Z19__sbapi_getFeaturesIN9seabreeze26EEPROMSlotFeatureInterfaceEEPSt6vectorIPT_SaIS4_EEPNS0_6DeviceE\r\n",
      "000000000020d8ae W _Z19__sbapi_getFeaturesIN9seabreeze26FastBufferFeatureInterfaceEEPSt6vectorIPT_SaIS4_EEPNS0_6DeviceE\r\n",
      "000000000020b9a6 W _Z19__sbapi_getFeaturesIN9seabreeze26StrobeLampFeatureInterfaceEEPSt6vectorIPT_SaIS4_EEPNS0_6DeviceE\r\n",
      "000000000020b710 W _Z19__sbapi_getFeaturesIN9seabreeze27LightSourceFeatureInterfaceEEPSt6vectorIPT_SaIS4_EEPNS0_6DeviceE\r\n",
      "000000000020c3fe W _Z19__sbapi_getFeaturesIN9seabreeze27TemperatureFeatureInterfaceEEPSt6vectorIPT_SaIS4_EEPNS0_6DeviceE\r\n",
      "000000000020cbc0 W _Z19__sbapi_getFeaturesIN9seabreeze28OpticalBenchFeatureInterfaceEEPSt6vectorIPT_SaIS4_EEPNS0_6DeviceE\r\n",
      "000000000020d382 W _Z19__sbapi_getFeaturesIN9seabreeze28PixelBinningFeatureInterfaceEEPSt6vectorIPT_SaIS4_EEPNS0_6DeviceE\r\n",
      "0000000000209a9e W _Z19__sbapi_getFeaturesIN9seabreeze28SerialNumberFeatureInterfaceEEPSt6vectorIPT_SaIS4_EEPNS0_6DeviceE\r\n",
      "000000000020c694 W _Z19__sbapi_getFeaturesIN9seabreeze29IntrospectionFeatureInterfaceEEPSt6vectorIPT_SaIS4_EEPNS0_6DeviceE\r\n",
      "0000000000209fca W _Z19__sbapi_getFeaturesIN9seabreeze30ThermoElectricFeatureInterfaceEEPSt6vectorIPT_SaIS4_EEPNS0_6DeviceE\r\n",
      "0000000000209d34 W _Z19__sbapi_getFeaturesIN9seabreeze31OOISpectrometerFeatureInterfaceEEPSt6vectorIPT_SaIS4_EEPNS0_6DeviceE\r\n",
      "00000000002095ae W _Z19__sbapi_getFeaturesIN9seabreeze31RawUSBBusAccessFeatureInterfaceEEPSt6vectorIPT_SaIS4_EEPNS0_6DeviceE\r\n",
      "000000000020db44 W _Z19__sbapi_getFeaturesIN9seabreeze32AcquisitionDelayFeatureInterfaceEEPSt6vectorIPT_SaIS4_EEPNS0_6DeviceE\r\n",
      "000000000020bc3c W _Z19__sbapi_getFeaturesIN9seabreeze32ContinuousStrobeFeatureInterfaceEEPSt6vectorIPT_SaIS4_EEPNS0_6DeviceE\r\n",
      "000000000020d0ec W _Z19__sbapi_getFeaturesIN9seabreeze32StrayLightCoeffsFeatureInterfaceEEPSt6vectorIPT_SaIS4_EEPNS0_6DeviceE\r\n",
      "000000000020acb8 W _Z19__sbapi_getFeaturesIN9seabreeze33WifiConfigurationFeatureInterfaceEEPSt6vectorIPT_SaIS4_EEPNS0_6DeviceE\r\n",
      "000000000020c168 W _Z19__sbapi_getFeaturesIN9seabreeze34NonlinearityCoeffsFeatureInterfaceEEPSt6vectorIPT_SaIS4_EEPNS0_6DeviceE\r\n",
      "000000000020ce56 W _Z19__sbapi_getFeaturesIN9seabreeze34SpectrumProcessingFeatureInterfaceEEPSt6vectorIPT_SaIS4_EEPNS0_6DeviceE\r\n",
      "000000000020b1e4 W _Z19__sbapi_getFeaturesIN9seabreeze36NetworkConfigurationFeatureInterfaceEEPSt6vectorIPT_SaIS4_EEPNS0_6DeviceE\r\n",
      "000000000020a4f6 W _Z19__sbapi_getFeaturesIN9seabreeze37EthernetConfigurationFeatureInterfaceEEPSt6vectorIPT_SaIS4_EEPNS0_6DeviceE\r\n",
      "00000000002cd171 T _Z26sbapi_i2c_master_write_busllPihhPht\r\n"
     ]
    }
   ],
   "source": [
    "import ctypes\n",
    "import numpy as np\n",
    "import matplotlib.pyplot as plt\n",
    "\n",
    "# use the shared object library from python-seabreeze \n",
    "# because I was unable to compile it myself.\n",
    "#\n",
    "dllfile = '/home/alexander.hickey/anaconda3/lib/libseabreeze.so'\n",
    "!nm '/home/alexander.hickey/anaconda3/lib/libseabreeze.so' | grep sbapi\n"
   ]
  },
  {
   "cell_type": "code",
   "execution_count": 6,
   "metadata": {},
   "outputs": [
    {
     "name": "stdout",
     "output_type": "stream",
     "text": [
      "# of devices  0\n"
     ]
    }
   ],
   "source": [
    "#!/usr/bin/env python3\n",
    "# -*- coding: utf-8 -*-\n",
    "\"\"\"\n",
    "Created on Mon Nov 12 11:13:29 2018\n",
    "\n",
    "@author: bjackel\n",
    "\"\"\"\n",
    "\n",
    "DLL = ctypes.cdll.LoadLibrary( dllfile )\n",
    "#Out[53]: <CDLL '/home/bjackel/anaconda3/lib/libseabreeze.so', handle 564545109840 at 0x7fd807c68c88>\n",
    "DLL.sbapi_initialize()\n",
    "ndev = DLL.sbapi_probe_devices()\n",
    "print('# of devices ',ndev)\n",
    "\n"
   ]
  },
  {
   "cell_type": "code",
   "execution_count": 13,
   "metadata": {},
   "outputs": [
    {
     "name": "stdout",
     "output_type": "stream",
     "text": [
      "0 c_int(0)\n",
      "b'Success'\n",
      "nfeat 1 c_int(0)\n",
      "b'Success'\n",
      "feats 1 c_int(0)\n",
      "b'Success'\n"
     ]
    }
   ],
   "source": [
    "ids = (ctypes.c_long * 32)()\n",
    "status = DLL.sbapi_get_device_ids( ctypes.byref(ids), ctypes.c_ulong(32) )\n",
    "err = ctypes.c_int()\n",
    "\n",
    "print( DLL.sbapi_open_device( ids[0], ctypes.byref(err) ), err )\n",
    "DLL.sbapi_get_error_string.restype=ctypes.c_char_p\n",
    "print( DLL.sbapi_get_error_string( err ) )\n",
    "\n",
    "print('nfeat', DLL.sbapi_get_number_of_spectrometer_features( ids[0], ctypes.byref(err) ), err )\n",
    "print( DLL.sbapi_get_error_string( err ) )\n",
    "\n",
    "feats = (ctypes.c_long * 32)()\n",
    "print('feats', DLL.sbapi_get_spectrometer_features( ids[0], ctypes.byref(err), ctypes.byref(feats), 32 ), err )\n",
    "print( DLL.sbapi_get_error_string( err ) )"
   ]
  },
  {
   "cell_type": "code",
   "execution_count": 14,
   "metadata": {},
   "outputs": [
    {
     "name": "stdout",
     "output_type": "stream",
     "text": [
      "mintime 1000 c_int(0)\n",
      "time -45152112 c_int(0)\n",
      "length 4097 c_int(0)\n",
      "b'Success'\n",
      "nbuff 4097 c_int(0)\n",
      "b'Success'\n",
      "<__main__.c_char_Array_4097 object at 0x7fc3fd4f0f28>\n",
      "[36609 34561 53761 46593 47105 62721 48129 45569 17153]\n"
     ]
    },
    {
     "data": {
      "text/plain": [
       "[<matplotlib.lines.Line2D at 0x7fc3fd0bd390>]"
      ]
     },
     "execution_count": 14,
     "metadata": {},
     "output_type": "execute_result"
    },
    {
     "data": {
      "image/png": "[encoded data removed]",
      "text/plain": [
       "<Figure size 432x288 with 1 Axes>"
      ]
     },
     "metadata": {},
     "output_type": "display_data"
    }
   ],
   "source": [
    "print('mintime', DLL.sbapi_spectrometer_get_minimum_integration_time_micros( ids[0], feats[0], ctypes.byref(err) ), err )\n",
    "print('time', DLL.sbapi_spectrometer_set_integration_time_micros( ids[0], feats[0], ctypes.byref(err), ctypes.c_ulong(1000_000) ), err )\n",
    "\n",
    "nspect = DLL.sbapi_spectrometer_get_unformatted_spectrum_length( ids[0], feats[0], ctypes.byref(err) )\n",
    "print('length', nspect, err )\n",
    "print( DLL.sbapi_get_error_string( err ) )\n",
    "\n",
    "spect = (ctypes.c_char * nspect)()\n",
    "nbuff = DLL.sbapi_spectrometer_get_unformatted_spectrum( ids[0], feats[0], ctypes.byref(err), ctypes.byref(spect), nspect )\n",
    "print('nbuff', nbuff, err )\n",
    "print( DLL.sbapi_get_error_string( err ) )\n",
    "print(spect)\n",
    "\n",
    "rawbytes = np.frombuffer( spect.raw, dtype=np.uint8 )\n",
    "print( rawbytes[981:999].view(dtype=np.uint16) )\n",
    "\n",
    "#plt.clf()\n",
    "plt.plot( rawbytes[:-1:].view(dtype=np.uint16) )"
   ]
  },
  {
   "cell_type": "code",
   "execution_count": 15,
   "metadata": {},
   "outputs": [
    {
     "name": "stdout",
     "output_type": "stream",
     "text": [
      "-45152112 c_int(0)\n"
     ]
    },
    {
     "data": {
      "text/plain": [
       "611478728"
      ]
     },
     "execution_count": 15,
     "metadata": {},
     "output_type": "execute_result"
    }
   ],
   "source": [
    "print( DLL.sbapi_close_device( ids[0], ctypes.byref(err) ), err )\n",
    "DLL.sbapi_shutdown()"
   ]
  },
  {
   "cell_type": "markdown",
   "metadata": {},
   "source": [
    "## Widgets\n",
    "\n",
    "https://wiki.python.org/moin/GuiProgramming\n",
    "Python has a huge number of GUI frameworks (or toolkits) available for it, from TkInter (traditionally bundled with Python, using Tk) to a number of other cross-platform solutions, as well as bindings to platform-specific (also known as \"native\") technologies.\n",
    "\n",
    "\n",
    "#### tkinter\n",
    "Tkinter is Python's de-facto standard GUI (Graphical User Interface) package. It is a thin object-oriented layer on top of Tcl/Tk.\n",
    "\n",
    "Tkinter is not the only GuiProgramming toolkit for Python. It is however the most commonly used one. CameronLaird calls the yearly decision to keep TkInter \"one of the minor traditions of the Python world.\"\n",
    "\n",
    "#### PyQt\n",
    "PyQt is one of the most popular Python bindings for the Qt cross-platform C++ framework. PyQt developed by Riverbank Computing Limited. Qt itself is developed as part of the Qt Project. PyQt provides bindings for Qt 4 and Qt 5. PyQt is distributed under a choice of licences: GPL version 3 or a commercial license.\n",
    "\n",
    "#### wxPython\n",
    "wxPython is a cross-platform GUI toolkit for the Python programming language. It allows Python programmers to create programs with a robust, highly functional graphical user interface, simply and easily. It is implemented as a set of Python extension modules that wrap the GUI components of the popular wxWidgets cross platform library, which is written in C++.\n",
    "\n",
    "Like Python and wxWidgets, wxPython is Open Source, which means that it is free for anyone to use and the source code is available for anyone to look at and modify. And anyone can contribute fixes or enhancements to the project.\n",
    "\n",
    "wxPython is a cross-platform toolkit. This means that the same program will run on multiple platforms without modification. Currently Supported platforms are Microsoft Windows, Mac OS X and macOS, and Linux or other unix-like systems with GTK2 or GTK3 libraries. In most cases the native widgets are used on each platform to provide a 100% native look and feel for the application.\n",
    "\n",
    "Some examples:\n",
    "    https://www.reddit.com/r/Python/comments/3d9ge9/what_does_your_gui_look_like_post_your_screenshots/\n",
    "    http://i.imgur.com/1ZkKCXN.jpg\n",
    "    https://imgur.com/uNxTUcd\n",
    "    http://www.pyvmmonitor.com/images/main.png\n",
    "\n",
    "https://docs.python.org/3/library/tk.html\n",
    "http://thinkingtkinter.sourceforge.net/"
   ]
  },
  {
   "cell_type": "code",
   "execution_count": 15,
   "metadata": {},
   "outputs": [],
   "source": [
    "from tkinter import Tk ### (1)\n",
    "\n",
    "root = Tk()           ### (2)\n",
    "root.mainloop()       ### (3)"
   ]
  },
  {
   "cell_type": "code",
   "execution_count": null,
   "metadata": {},
   "outputs": [
    {
     "ename": "KeyboardInterrupt",
     "evalue": "",
     "output_type": "error",
     "traceback": [
      "\u001b[0;31m---------------------------------------------------------------------------\u001b[0m",
      "\u001b[0;31mKeyboardInterrupt\u001b[0m                         Traceback (most recent call last)",
      "\u001b[0;32m<ipython-input-17-0f185b3afcb5>\u001b[0m in \u001b[0;36m<module>\u001b[0;34m()\u001b[0m\n\u001b[1;32m      6\u001b[0m \u001b[0mmyContainer1\u001b[0m\u001b[0;34m.\u001b[0m\u001b[0mpack\u001b[0m\u001b[0;34m(\u001b[0m\u001b[0;34m)\u001b[0m         \u001b[0;31m### (2)\u001b[0m\u001b[0;34m\u001b[0m\u001b[0;34m\u001b[0m\u001b[0m\n\u001b[1;32m      7\u001b[0m \u001b[0;34m\u001b[0m\u001b[0m\n\u001b[0;32m----> 8\u001b[0;31m \u001b[0mroot\u001b[0m\u001b[0;34m.\u001b[0m\u001b[0mmainloop\u001b[0m\u001b[0;34m(\u001b[0m\u001b[0;34m)\u001b[0m\u001b[0;34m\u001b[0m\u001b[0;34m\u001b[0m\u001b[0m\n\u001b[0m",
      "\u001b[0;32m~/anaconda3/lib/python3.6/tkinter/__init__.py\u001b[0m in \u001b[0;36mmainloop\u001b[0;34m(self, n)\u001b[0m\n\u001b[1;32m   1281\u001b[0m     \u001b[0;32mdef\u001b[0m \u001b[0mmainloop\u001b[0m\u001b[0;34m(\u001b[0m\u001b[0mself\u001b[0m\u001b[0;34m,\u001b[0m \u001b[0mn\u001b[0m\u001b[0;34m=\u001b[0m\u001b[0;36m0\u001b[0m\u001b[0;34m)\u001b[0m\u001b[0;34m:\u001b[0m\u001b[0;34m\u001b[0m\u001b[0;34m\u001b[0m\u001b[0m\n\u001b[1;32m   1282\u001b[0m         \u001b[0;34m\"\"\"Call the mainloop of Tk.\"\"\"\u001b[0m\u001b[0;34m\u001b[0m\u001b[0;34m\u001b[0m\u001b[0m\n\u001b[0;32m-> 1283\u001b[0;31m         \u001b[0mself\u001b[0m\u001b[0;34m.\u001b[0m\u001b[0mtk\u001b[0m\u001b[0;34m.\u001b[0m\u001b[0mmainloop\u001b[0m\u001b[0;34m(\u001b[0m\u001b[0mn\u001b[0m\u001b[0;34m)\u001b[0m\u001b[0;34m\u001b[0m\u001b[0;34m\u001b[0m\u001b[0m\n\u001b[0m\u001b[1;32m   1284\u001b[0m     \u001b[0;32mdef\u001b[0m \u001b[0mquit\u001b[0m\u001b[0;34m(\u001b[0m\u001b[0mself\u001b[0m\u001b[0;34m)\u001b[0m\u001b[0;34m:\u001b[0m\u001b[0;34m\u001b[0m\u001b[0;34m\u001b[0m\u001b[0m\n\u001b[1;32m   1285\u001b[0m         \u001b[0;34m\"\"\"Quit the Tcl interpreter. All widgets will be destroyed.\"\"\"\u001b[0m\u001b[0;34m\u001b[0m\u001b[0;34m\u001b[0m\u001b[0m\n",
      "\u001b[0;31mKeyboardInterrupt\u001b[0m: "
     ]
    }
   ],
   "source": [
    "from tkinter import *\n",
    "\n",
    "root = Tk()\n",
    "\n",
    "myContainer1 = Frame(root)  ### (1)\n",
    "myContainer1.pack()         ### (2)\n",
    "\n",
    "root.mainloop()       "
   ]
  },
  {
   "cell_type": "code",
   "execution_count": null,
   "metadata": {},
   "outputs": [],
   "source": []
  }
 ],
 "metadata": {
  "kernelspec": {
   "display_name": "Python 3",
   "language": "python",
   "name": "python3"
  },
  "language_info": {
   "codemirror_mode": {
    "name": "ipython",
    "version": 3
   },
   "file_extension": ".py",
   "mimetype": "text/x-python",
   "name": "python",
   "nbconvert_exporter": "python",
   "pygments_lexer": "ipython3",
   "version": "3.6.8"
  }
 },
 "nbformat": 4,
 "nbformat_minor": 2
}
