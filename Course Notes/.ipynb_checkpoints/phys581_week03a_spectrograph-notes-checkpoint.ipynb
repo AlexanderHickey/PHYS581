{
 "cells": [
  {
   "cell_type": "markdown",
   "metadata": {},
   "source": []
  },
  {
   "cell_type": "markdown",
   "metadata": {},
   "source": [
    "## Ocean Optics USB2000+ spectrometer\n",
    "\n",
    "https://oceanoptics.com/support/software-downloads/\n",
    "The vendor has a \"software-downloads\" page with links to a variety of firmware, drivers, and utilities.  Some of it requires passwords to access, while other items are explicitly labeled as open source.\n",
    "\n",
    "### SeaBreeze\n",
    "\n",
    "https://sourceforge.net/projects/seabreeze\n",
    "The \"SeaBreeze\" device driver source code is available from Source Forge.\n",
    "\n",
    "SeaBreeze is a device driver library that provides an interface to select Ocean Optics spectrometers. It is written in C/C++ and builds and runs on Windows (XP/7/8), MacOSX, and Linux (x86/x64/ARM).\n",
    "\n",
    "Features\n",
    " *USB support for Ocean Optics STS, USB2000+, QEPro, Maya-LSL, Ventana, NIRQuest and more!\n",
    " *Builds and runs on Windows (XP/7/8), MacOS, and Linux (x86/x64/ARM)\n",
    " \n",
    "<pre>\n",
    "#Sadly, the \"official\"(?) SeaBreeze c library does not compile under Ubuntu 18 kernal 4.15.0-36-generic.\n",
    "#\n",
    "The problem appears to be the use of deprecated C++ functionality\n",
    "\n",
    "ContinuousStrobeProtocolInterface.h:38,\n",
    "                 from ContinuousStrobeProtocolInterface.cpp:31:\n",
    "../../../../../include/common/buses/TransferHelper.h:51:13: error: dynamic exception specifications are deprecated in C++11 [-Werror=deprecated]\n",
    "             throw (BusTransferException) = 0;\n",
    "\n",
    "After fiddling around for a while I was unable to get things working\n",
    "\n",
    "\n",
    "bjackel@jackel-work:~/Dropbox/data/seabreeze/seabreeze-3.0.11/SeaBreeze$ pwd && make\n",
    "/home/bjackel/Dropbox/data/seabreeze/seabreeze-3.0.11/SeaBreeze\n",
    "mkdir -p ./lib\n",
    "flags =  -L/usr/lib -shared\n",
    "make -C src\n",
    "make[1]: Entering directory '/home/bjackel/Dropbox/data/seabreeze/seabreeze-3.0.11/SeaBreeze/src'\n",
    "make[2]: Entering directory '/home/bjackel/Dropbox/data/seabreeze/seabreeze-3.0.11/SeaBreeze/src/api'\n",
    "make[3]: Entering directory '/home/bjackel/Dropbox/data/seabreeze/seabreeze-3.0.11/SeaBreeze/src/api/seabreezeapi'\n",
    "make[3]: Leaving directory '/home/bjackel/Dropbox/data/seabreeze/seabreeze-3.0.11/SeaBreeze/src/api/seabreezeapi'\n",
    "make[2]: Leaving directory '/home/bjackel/Dropbox/data/seabreeze/seabreeze-3.0.11/SeaBreeze/src/api'\n",
    "make[2]: Entering directory '/home/bjackel/Dropbox/data/seabreeze/seabreeze-3.0.11/SeaBreeze/src/native'\n",
    "make[3]: Entering directory '/home/bjackel/Dropbox/data/seabreeze/seabreeze-3.0.11/SeaBreeze/src/native/network''\n",
    "...\n",
    "make[5]: Entering directory '/home/bjackel/Dropbox/data/seabreeze/seabreeze-3.0.11/SeaBreeze/src/vendors/OceanOptics/protocols/interfaces'\n",
    "building ContinuousStrobeProtocolInterface.o\n",
    "In file included from ../../../../../include/common/buses/Bus.h:41:0,\n",
    "                 from ../../../../../include/vendors/OceanOptics/protocols/interfaces/ContinuousStrobeProtocolInterface.h:38,\n",
    "                 from ContinuousStrobeProtocolInterface.cpp:31:\n",
    "../../../../../include/common/buses/TransferHelper.h:51:13: error: dynamic exception specifications are deprecated in C++11 [-Werror=deprecated]\n",
    "             throw (BusTransferException) = 0;\n",
    "             ^~~~~\n",
    "../../../../../include/common/buses/TransferHelper.h:53:13: error: dynamic exception specifications are deprecated in C++11 [-Werror=deprecated]\n",
    "             throw (BusTransferException) = 0;\n",
    "... \n",
    "cc1plus: all warnings being treated as errors\n",
    "../../../../../common.mk:130: recipe for target 'ContinuousStrobeProtocolInterface.o' failed\n",
    "make[5]: *** [ContinuousStrobeProtocolInterface.o] Error 1\n",
    "make[5]: Leaving directory '/home/bjackel/Dropbox/data/seabreeze/seabreeze-3.0.11/SeaBreeze/src/vendors/OceanOptics/protocols/interfaces'\n",
    "../../../../common.mk:141: recipe for target 'subdirs' failed\n",
    "make[4]: *** [subdirs] Error 2\n",
    "make[4]: Leaving directory '/home/bjackel/Dropbox/data/seabreeze/seabreeze-3.0.11/SeaBreeze/src/vendors/OceanOptics/protocols'\n",
    "../../../common.mk:141: recipe for target 'subdirs' failed\n",
    "make[3]: *** [subdirs] Error 2\n",
    "make[3]: Leaving directory '/home/bjackel/Dropbox/data/seabreeze/seabreeze-3.0.11/SeaBreeze/src/vendors/OceanOptics'\n",
    "../../common.mk:141: recipe for target 'subdirs' failed\n",
    "make[2]: *** [subdirs] Error 2\n",
    "make[2]: Leaving directory '/home/bjackel/Dropbox/data/seabreeze/seabreeze-3.0.11/SeaBreeze/src/vendors'\n",
    "../common.mk:141: recipe for target 'subdirs' failed\n",
    "make[1]: *** [subdirs] Error 2\n",
    "make[1]: Leaving directory '/home/bjackel/Dropbox/data/seabreeze/seabreeze-3.0.11/SeaBreeze/src'\n",
    "Makefile:28: recipe for target 'lib/libseabreeze.so' failed\n",
    "make: *** [lib/libseabreeze.so] Error 2\n",
    "bjackel@jackel-work:~/Dropbox/data/seabreeze/seabreeze-3.0.11/SeaBreeze$\n",
    "</pre>"
   ]
  },
  {
   "cell_type": "markdown",
   "metadata": {},
   "source": [
    "If I had been able to compile the source code then I could have used the following API (Application Programming Interface)\n",
    "\n",
    "### https://oceanoptics.com/api/seabreeze/_sea_breeze_a_p_i_8h_source.html\n",
    "\n",
    "SeaBreeze is a minimalistic, multi-platform (Windows, Linux, MacOS) device driver for Ocean Optics spectrometers, designed specifically for embedded applications needing to run in resource-constrained hardware environments. SeaBreeze provides a fully working and tested REFERENCE IMPLEMENTATION of the Ocean Optics USB interface, demonstrating how Ocean Optics spectrometers can be commanded and controlled from C/C++. It is provided with full C/C++ source code so that customers can customize and extend it to support exactly those features and functions they require.\n",
    "\n",
    "Unlike the larger OmniDriver/SPAM driver library, SeaBreeze itself does not contain advanced spectroscopic processing and manipulation, but full sample code is included showing how these functions can be implemented in client applications using C++, C#, and a variety of other languages.\n",
    "\n",
    "License\n",
    "SeaBreeze is licensed under the MIT License. Additional information may be found in the \"LICENSE\" file which should accompany this source distribution.\n",
    "\n",
    "(Also available at http://opensource.org/licenses/MIT)\n",
    "\n",
    "Application Programming Interfaces (APIs)\n",
    "SeaBreeze provides two distinct interfaces to control spectrometers. You are free to use and extend either interface, but note that most new development and support from Ocean Optics will focus on the newer SeaBreezeAPI interface, in preference to the older legacy SeaBreezeWrapper interface.\n",
    "\n",
    "SeaBreeze 2.0: SeaBreezeAPI (C++ class) or SeaBreezeAPI.h (C functions)\n",
    "SeaBreeze 1.0: SeaBreezeWrapper (C++ class) or SeaBreezeWrapper.h (C functions)\n",
    "Note that detailed documentation for the C++ methods can be found in the corresponding C functions.\n",
    "\n",
    "Regrettably, at writing the SeaBreezeAPI (2.0) can only be used from a full SeaBreeze source distribution. Its headers are not designed in such a way that SeaBreezeAPI can be called without access to the full SeaBreeze include tree, which currently is not provided through the binary installers.\n",
    "\n",
    "#### Linux\n",
    "\n",
    "Dependencies\n",
    "\n",
    "    libusb-dev 0.1\n",
    "    gcc\n",
    "    g++\n",
    "\n",
    "To compile SeaBreeze, simply run 'make' on the command line of a POSIX system. SeaBreeze is a C++ driver libary with a simplified C interface. This will build with a combination of g++ and gcc. At the moment, only Linux is fully supported, and requires at least a 2.4.20 kernel for USB support.\n",
    "\n",
    "Building SeaBreeze requires that libusb-0.1 is installed (with its shared libraries in /usr/lib and its header files in /usr/include (e.g. usb.h)). It is also recommended that the target system have the Ocean Optics rules file for udev (10-oceanoptics.rules) so that ordinary users can access the devices. This is likely the problem if root can connect to devices but nobody else can.\n",
    "\n",
    "It is necessary to put libseabreeze.so into your library path to run any programs against this driver. It should suffice to do this within the SeaBreeze root directory (where this README.txt is) for testing:\n",
    "\n",
    "    $ export LD_LIBRARY_PATH=\"$PWD/lib\"\n",
    "    \n",
    "Alternately, libseabreeze.so could be installed into a system library directory like /usr/local/lib that ld.so knows about.\n",
    "\n",
    "Test programs in the 'test' directory should be built alongside SeaBreeze and can be used as starting points for new development. As long as the LD_LIBRARY_PATH above is properly defined, these should work. If they do not, then they may need to be updated to reflect the current state of the driver API."
   ]
  },
  {
   "cell_type": "markdown",
   "metadata": {},
   "source": [
    "## python-seabreeze\n",
    "\n",
    "Someone with better c++ skills has assembled a Python interface to the SeaBreeze library\n",
    "\n",
    "    https://github.com/ap--/python-seabreeze\n",
    "\n",
    "and made it available via the anaconda package framework\n",
    "\n",
    "    conda install -c poehlmann python-seabreeze"
   ]
  },
  {
   "cell_type": "markdown",
   "metadata": {},
   "source": [
    "### 10-oceanoptics.rules\n",
    "\n",
    "Get from here: https://github.com/ap--/python-seabreeze/blob/master/misc/10-oceanoptics.rules\n",
    "\n",
    "    SUBSYSTEM!=\"usb|usb_device\", ACTION!=\"add\", GOTO=\"oceanoptics_rules_end\"\n",
    "    ...\n",
    "    #Ocean Optics Inc. USB2000 spectrometer \n",
    "    ATTR{idVendor}==\"2457\", ATTR{idProduct}==\"1002\", SYMLINK+=\"usb2000-%n\", GROUP=\"plugdev\" \n",
    "    #Ocean Optics Inc. USB2000+ spectrometer \n",
    "    ATTR{idVendor}==\"2457\", ATTR{idProduct}==\"101e\", SYMLINK+=\"usb2000+-%n\", GROUP=\"plugdev\"\n",
    "    ...\n",
    "    LABEL=\"oceanoptics_rules_end\"\n",
    "\n",
    "and install\n",
    "\n",
    "### cp 10oceanoptics.rules /etc/udev/rules.d\n",
    "### sudo udevadm control --reload-rules"
   ]
  },
  {
   "cell_type": "code",
   "execution_count": 15,
   "metadata": {},
   "outputs": [
    {
     "name": "stdout",
     "output_type": "stream",
     "text": [
      "<Spectrometer USB2000PLUS:USB2+F05025>\n"
     ]
    }
   ],
   "source": [
    "import seabreeze.spectrometers as sb\n",
    "spec = sb.Spectrometer.from_serial_number()\n",
    "print(spec)\n",
    "spec.close()"
   ]
  },
  {
   "cell_type": "code",
   "execution_count": 11,
   "metadata": {},
   "outputs": [
    {
     "data": {
      "text/plain": [
       "array([1.69905556e+01, 3.10538811e+04, 1.26943722e+03, ...,\n",
       "       1.33982667e+03, 1.31070000e+03, 1.22574722e+03])"
      ]
     },
     "execution_count": 11,
     "metadata": {},
     "output_type": "execute_result"
    }
   ],
   "source": [
    "spec.integration_time_micros(20000)\n",
    "spec.wavelengths()\n",
    "#array([  340.32581   ,   340.70321186,   341.08058305, ...,  1024.84940994,\n",
    "#        1025.1300678 ,  1025.4106617 ])\n",
    "spec.intensities()"
   ]
  },
  {
   "cell_type": "markdown",
   "metadata": {},
   "source": [
    "\n",
    "## debugging linux USB \n",
    "\n",
    "### ls -al /etc/udev/rules.d\n",
    "\n",
    "    -rw-r--r-- 1 root root  3386 Nov 12 13:02 10-oceanoptics.rules\n",
    "    -rw-r--r-- 1 root root 58549 Jun  4  2018 70-snap.core.rules"
   ]
  },
  {
   "cell_type": "markdown",
   "metadata": {},
   "source": [
    "Plug in USB and check for hardware messages\n",
    "\n",
    "### dmesg | tail\n",
    "\n",
    "    [2567838.968588] usb 1-5: new high-speed USB device number 31 using xhci_hcd\n",
    "    [2567843.186569] usb 1-5: device descriptor read/8, error -71\n",
    "    [2567843.312755] usb 1-5: device descriptor read/8, error -71\n",
    "    [2567843.420649] usb usb1-port5: unable to enumerate USB device\n",
    "    [2567847.780637] usb 1-5: new high-speed USB device number 32 using xhci_hcd\n",
    "    [2567847.940661] usb 1-5: New USB device found, idVendor=2457, idProduct=101e\n",
    "    [2567847.940667] usb 1-5: New USB device strings: Mfr=1, Product=2, SerialNumber=0\n",
    "    [2567847.940671] usb 1-5: Product: Ocean Optics USB2000+\n",
    "    [2567847.940675] usb 1-5: Manufacturer: USB2000+ 1.04.0 \n"
   ]
  },
  {
   "cell_type": "markdown",
   "metadata": {},
   "source": [
    "### ls -al /dev/usb2000*\n",
    "       lrwxrwxrwx 1 root root 15 Jan 28 15:14 /dev/usb2000+-5 -> bus/usb/001/032\n",
    "        \n",
    "### ls -al /dev/bus/usb/001/032\n",
    "       crw-rw---- 1 root plugdev 189, 31 Jan 28 15:14 /dev/bus/usb/001/032"
   ]
  },
  {
   "cell_type": "markdown",
   "metadata": {},
   "source": [
    "\n"
   ]
  },
  {
   "cell_type": "raw",
   "metadata": {},
   "source": [
    "Confirm that I am in `plugdev` group\n",
    "\n",
    "### groups\n",
    "bjackel adm cdrom sudo dip plugdev lpadmin sambashare"
   ]
  },
  {
   "cell_type": "markdown",
   "metadata": {},
   "source": [
    "### lsusb\n",
    "\n",
    "    Bus 004 Device 001: ID 1d6b:0003 Linux Foundation 3.0 root hub\n",
    "    Bus 003 Device 001: ID 1d6b:0002 Linux Foundation 2.0 root hub\n",
    "    Bus 002 Device 004: ID 0451:8040 Texas Instruments, Inc. \n",
    "    Bus 002 Device 001: ID 1d6b:0003 Linux Foundation 3.0 root hub\n",
    "    Bus 001 Device 008: ID 0424:2507 Standard Microsystems Corp. hub\n",
    "    Bus 001 Device 007: ID 046d:c077 Logitech, Inc. M105 Optical Mouse\n",
    "    Bus 001 Device 006: ID 0451:8042 Texas Instruments, Inc. Hub\n",
    "    Bus 001 Device 032: ID 2457:101e  \n",
    "    Bus 001 Device 003: ID 046d:c517 Logitech, Inc. LX710 Cordless Desktop Laser\n",
    "    Bus 001 Device 001: ID 1d6b:0002 Linux Foundation 2.0 root hub\n"
   ]
  },
  {
   "cell_type": "markdown",
   "metadata": {},
   "source": [
    "### usb-devices\n",
    "    \n",
    "     T:  Bus=01 Lev=01 Prnt=01 Port=04 Cnt=02 Dev#= 32 Spd=480 MxCh= 0\n",
    "     D:  Ver= 2.00 Cls=00(>ifc ) Sub=00 Prot=00 MxPS=64 #Cfgs=  1\n",
    "     P:  Vendor=2457 ProdID=101e Rev=00.02\n",
    "     S:  Manufacturer=USB2000+ 1.04.0 \n",
    "     S:  Product=Ocean Optics USB2000+\n",
    "     C:  #Ifs= 1 Cfg#= 1 Atr=80 MxPwr=400mA\n",
    "     I:  If#= 0 Alt= 0 #EPs= 4 Cls=ff(vend.) Sub=00 Prot=00 Driver=(none)"
   ]
  },
  {
   "cell_type": "markdown",
   "metadata": {},
   "source": [
    "## ctypes\n",
    "\n",
    "Calling functions in a shared library object."
   ]
  },
  {
   "cell_type": "code",
   "execution_count": 6,
   "metadata": {},
   "outputs": [
    {
     "name": "stderr",
     "output_type": "stream",
     "text": [
      "'nm' is not recognized as an internal or external command,\n",
      "operable program or batch file.\n"
     ]
    }
   ],
   "source": [
    "import ctypes\n",
    "import numpy as np\n",
    "import matplotlib.pyplot as plt\n",
    "\n",
    "# use the shared object library from python-seabreeze \n",
    "# because I was unable to compile it myself.\n",
    "#\n",
    "dllfile = '/home/alexander.hickey/anaconda3/lib/libseabreeze.so'\n",
    "!nm '/home/alexander.hickey/anaconda3/lib/libseabreeze.so' | grep sbapi\n"
   ]
  },
  {
   "cell_type": "code",
   "execution_count": 7,
   "metadata": {},
   "outputs": [
    {
     "ename": "OSError",
     "evalue": "[WinError 126] The specified module could not be found",
     "output_type": "error",
     "traceback": [
      "\u001b[1;31m---------------------------------------------------------------------------\u001b[0m",
      "\u001b[1;31mOSError\u001b[0m                                   Traceback (most recent call last)",
      "\u001b[1;32m<ipython-input-7-d41366750fae>\u001b[0m in \u001b[0;36m<module>\u001b[1;34m\u001b[0m\n\u001b[0;32m      7\u001b[0m \"\"\"\n\u001b[0;32m      8\u001b[0m \u001b[1;33m\u001b[0m\u001b[0m\n\u001b[1;32m----> 9\u001b[1;33m \u001b[0mDLL\u001b[0m \u001b[1;33m=\u001b[0m \u001b[0mctypes\u001b[0m\u001b[1;33m.\u001b[0m\u001b[0mcdll\u001b[0m\u001b[1;33m.\u001b[0m\u001b[0mLoadLibrary\u001b[0m\u001b[1;33m(\u001b[0m \u001b[0mdllfile\u001b[0m \u001b[1;33m)\u001b[0m\u001b[1;33m\u001b[0m\u001b[1;33m\u001b[0m\u001b[0m\n\u001b[0m\u001b[0;32m     10\u001b[0m \u001b[1;31m#Out[53]: <CDLL '/home/bjackel/anaconda3/lib/libseabreeze.so', handle 564545109840 at 0x7fd807c68c88>\u001b[0m\u001b[1;33m\u001b[0m\u001b[1;33m\u001b[0m\u001b[1;33m\u001b[0m\u001b[0m\n\u001b[0;32m     11\u001b[0m \u001b[0mDLL\u001b[0m\u001b[1;33m.\u001b[0m\u001b[0msbapi_initialize\u001b[0m\u001b[1;33m(\u001b[0m\u001b[1;33m)\u001b[0m\u001b[1;33m\u001b[0m\u001b[1;33m\u001b[0m\u001b[0m\n",
      "\u001b[1;32m~\\Miniconda3\\envs\\Python36\\lib\\ctypes\\__init__.py\u001b[0m in \u001b[0;36mLoadLibrary\u001b[1;34m(self, name)\u001b[0m\n\u001b[0;32m    424\u001b[0m \u001b[1;33m\u001b[0m\u001b[0m\n\u001b[0;32m    425\u001b[0m     \u001b[1;32mdef\u001b[0m \u001b[0mLoadLibrary\u001b[0m\u001b[1;33m(\u001b[0m\u001b[0mself\u001b[0m\u001b[1;33m,\u001b[0m \u001b[0mname\u001b[0m\u001b[1;33m)\u001b[0m\u001b[1;33m:\u001b[0m\u001b[1;33m\u001b[0m\u001b[1;33m\u001b[0m\u001b[0m\n\u001b[1;32m--> 426\u001b[1;33m         \u001b[1;32mreturn\u001b[0m \u001b[0mself\u001b[0m\u001b[1;33m.\u001b[0m\u001b[0m_dlltype\u001b[0m\u001b[1;33m(\u001b[0m\u001b[0mname\u001b[0m\u001b[1;33m)\u001b[0m\u001b[1;33m\u001b[0m\u001b[1;33m\u001b[0m\u001b[0m\n\u001b[0m\u001b[0;32m    427\u001b[0m \u001b[1;33m\u001b[0m\u001b[0m\n\u001b[0;32m    428\u001b[0m \u001b[0mcdll\u001b[0m \u001b[1;33m=\u001b[0m \u001b[0mLibraryLoader\u001b[0m\u001b[1;33m(\u001b[0m\u001b[0mCDLL\u001b[0m\u001b[1;33m)\u001b[0m\u001b[1;33m\u001b[0m\u001b[1;33m\u001b[0m\u001b[0m\n",
      "\u001b[1;32m~\\Miniconda3\\envs\\Python36\\lib\\ctypes\\__init__.py\u001b[0m in \u001b[0;36m__init__\u001b[1;34m(self, name, mode, handle, use_errno, use_last_error)\u001b[0m\n\u001b[0;32m    346\u001b[0m \u001b[1;33m\u001b[0m\u001b[0m\n\u001b[0;32m    347\u001b[0m         \u001b[1;32mif\u001b[0m \u001b[0mhandle\u001b[0m \u001b[1;32mis\u001b[0m \u001b[1;32mNone\u001b[0m\u001b[1;33m:\u001b[0m\u001b[1;33m\u001b[0m\u001b[1;33m\u001b[0m\u001b[0m\n\u001b[1;32m--> 348\u001b[1;33m             \u001b[0mself\u001b[0m\u001b[1;33m.\u001b[0m\u001b[0m_handle\u001b[0m \u001b[1;33m=\u001b[0m \u001b[0m_dlopen\u001b[0m\u001b[1;33m(\u001b[0m\u001b[0mself\u001b[0m\u001b[1;33m.\u001b[0m\u001b[0m_name\u001b[0m\u001b[1;33m,\u001b[0m \u001b[0mmode\u001b[0m\u001b[1;33m)\u001b[0m\u001b[1;33m\u001b[0m\u001b[1;33m\u001b[0m\u001b[0m\n\u001b[0m\u001b[0;32m    349\u001b[0m         \u001b[1;32melse\u001b[0m\u001b[1;33m:\u001b[0m\u001b[1;33m\u001b[0m\u001b[1;33m\u001b[0m\u001b[0m\n\u001b[0;32m    350\u001b[0m             \u001b[0mself\u001b[0m\u001b[1;33m.\u001b[0m\u001b[0m_handle\u001b[0m \u001b[1;33m=\u001b[0m \u001b[0mhandle\u001b[0m\u001b[1;33m\u001b[0m\u001b[1;33m\u001b[0m\u001b[0m\n",
      "\u001b[1;31mOSError\u001b[0m: [WinError 126] The specified module could not be found"
     ]
    }
   ],
   "source": [
    "#!/usr/bin/env python3\n",
    "# -*- coding: utf-8 -*-\n",
    "\"\"\"\n",
    "Created on Mon Nov 12 11:13:29 2018\n",
    "\n",
    "@author: bjackel\n",
    "\"\"\"\n",
    "\n",
    "DLL = ctypes.cdll.LoadLibrary( dllfile )\n",
    "#Out[53]: <CDLL '/home/bjackel/anaconda3/lib/libseabreeze.so', handle 564545109840 at 0x7fd807c68c88>\n",
    "DLL.sbapi_initialize()\n",
    "ndev = DLL.sbapi_probe_devices()\n",
    "print('# of devices ',ndev)\n",
    "\n"
   ]
  },
  {
   "cell_type": "code",
   "execution_count": 8,
   "metadata": {},
   "outputs": [
    {
     "ename": "NameError",
     "evalue": "name 'DLL' is not defined",
     "output_type": "error",
     "traceback": [
      "\u001b[1;31m---------------------------------------------------------------------------\u001b[0m",
      "\u001b[1;31mNameError\u001b[0m                                 Traceback (most recent call last)",
      "\u001b[1;32m<ipython-input-8-974b80943465>\u001b[0m in \u001b[0;36m<module>\u001b[1;34m\u001b[0m\n\u001b[0;32m      1\u001b[0m \u001b[0mids\u001b[0m \u001b[1;33m=\u001b[0m \u001b[1;33m(\u001b[0m\u001b[0mctypes\u001b[0m\u001b[1;33m.\u001b[0m\u001b[0mc_long\u001b[0m \u001b[1;33m*\u001b[0m \u001b[1;36m32\u001b[0m\u001b[1;33m)\u001b[0m\u001b[1;33m(\u001b[0m\u001b[1;33m)\u001b[0m\u001b[1;33m\u001b[0m\u001b[1;33m\u001b[0m\u001b[0m\n\u001b[1;32m----> 2\u001b[1;33m \u001b[0mstatus\u001b[0m \u001b[1;33m=\u001b[0m \u001b[0mDLL\u001b[0m\u001b[1;33m.\u001b[0m\u001b[0msbapi_get_device_ids\u001b[0m\u001b[1;33m(\u001b[0m \u001b[0mctypes\u001b[0m\u001b[1;33m.\u001b[0m\u001b[0mbyref\u001b[0m\u001b[1;33m(\u001b[0m\u001b[0mids\u001b[0m\u001b[1;33m)\u001b[0m\u001b[1;33m,\u001b[0m \u001b[0mctypes\u001b[0m\u001b[1;33m.\u001b[0m\u001b[0mc_ulong\u001b[0m\u001b[1;33m(\u001b[0m\u001b[1;36m32\u001b[0m\u001b[1;33m)\u001b[0m \u001b[1;33m)\u001b[0m\u001b[1;33m\u001b[0m\u001b[1;33m\u001b[0m\u001b[0m\n\u001b[0m\u001b[0;32m      3\u001b[0m \u001b[0merr\u001b[0m \u001b[1;33m=\u001b[0m \u001b[0mctypes\u001b[0m\u001b[1;33m.\u001b[0m\u001b[0mc_int\u001b[0m\u001b[1;33m(\u001b[0m\u001b[1;33m)\u001b[0m\u001b[1;33m\u001b[0m\u001b[1;33m\u001b[0m\u001b[0m\n\u001b[0;32m      4\u001b[0m \u001b[1;33m\u001b[0m\u001b[0m\n\u001b[0;32m      5\u001b[0m \u001b[0mprint\u001b[0m\u001b[1;33m(\u001b[0m \u001b[0mDLL\u001b[0m\u001b[1;33m.\u001b[0m\u001b[0msbapi_open_device\u001b[0m\u001b[1;33m(\u001b[0m \u001b[0mids\u001b[0m\u001b[1;33m[\u001b[0m\u001b[1;36m0\u001b[0m\u001b[1;33m]\u001b[0m\u001b[1;33m,\u001b[0m \u001b[0mctypes\u001b[0m\u001b[1;33m.\u001b[0m\u001b[0mbyref\u001b[0m\u001b[1;33m(\u001b[0m\u001b[0merr\u001b[0m\u001b[1;33m)\u001b[0m \u001b[1;33m)\u001b[0m\u001b[1;33m,\u001b[0m \u001b[0merr\u001b[0m \u001b[1;33m)\u001b[0m\u001b[1;33m\u001b[0m\u001b[1;33m\u001b[0m\u001b[0m\n",
      "\u001b[1;31mNameError\u001b[0m: name 'DLL' is not defined"
     ]
    }
   ],
   "source": [
    "ids = (ctypes.c_long * 32)()\n",
    "status = DLL.sbapi_get_device_ids( ctypes.byref(ids), ctypes.c_ulong(32) )\n",
    "err = ctypes.c_int()\n",
    "\n",
    "print( DLL.sbapi_open_device( ids[0], ctypes.byref(err) ), err )\n",
    "DLL.sbapi_get_error_string.restype=ctypes.c_char_p\n",
    "print( DLL.sbapi_get_error_string( err ) )\n",
    "\n",
    "print('nfeat', DLL.sbapi_get_number_of_spectrometer_features( ids[0], ctypes.byref(err) ), err )\n",
    "print( DLL.sbapi_get_error_string( err ) )\n",
    "\n",
    "feats = (ctypes.c_long * 32)()\n",
    "print('feats', DLL.sbapi_get_spectrometer_features( ids[0], ctypes.byref(err), ctypes.byref(feats), 32 ), err )\n",
    "print( DLL.sbapi_get_error_string( err ) )"
   ]
  },
  {
   "cell_type": "code",
   "execution_count": 10,
   "metadata": {},
   "outputs": [
    {
     "ename": "NameError",
     "evalue": "name 'DLL' is not defined",
     "output_type": "error",
     "traceback": [
      "\u001b[1;31m---------------------------------------------------------------------------\u001b[0m",
      "\u001b[1;31mNameError\u001b[0m                                 Traceback (most recent call last)",
      "\u001b[1;32m<ipython-input-10-869dfe970393>\u001b[0m in \u001b[0;36m<module>\u001b[1;34m\u001b[0m\n\u001b[1;32m----> 1\u001b[1;33m \u001b[0mprint\u001b[0m\u001b[1;33m(\u001b[0m\u001b[1;34m'mintime'\u001b[0m\u001b[1;33m,\u001b[0m \u001b[0mDLL\u001b[0m\u001b[1;33m.\u001b[0m\u001b[0msbapi_spectrometer_get_minimum_integration_time_micros\u001b[0m\u001b[1;33m(\u001b[0m \u001b[0mids\u001b[0m\u001b[1;33m[\u001b[0m\u001b[1;36m0\u001b[0m\u001b[1;33m]\u001b[0m\u001b[1;33m,\u001b[0m \u001b[0mfeats\u001b[0m\u001b[1;33m[\u001b[0m\u001b[1;36m0\u001b[0m\u001b[1;33m]\u001b[0m\u001b[1;33m,\u001b[0m \u001b[0mctypes\u001b[0m\u001b[1;33m.\u001b[0m\u001b[0mbyref\u001b[0m\u001b[1;33m(\u001b[0m\u001b[0merr\u001b[0m\u001b[1;33m)\u001b[0m \u001b[1;33m)\u001b[0m\u001b[1;33m,\u001b[0m \u001b[0merr\u001b[0m \u001b[1;33m)\u001b[0m\u001b[1;33m\u001b[0m\u001b[1;33m\u001b[0m\u001b[0m\n\u001b[0m\u001b[0;32m      2\u001b[0m \u001b[0mprint\u001b[0m\u001b[1;33m(\u001b[0m\u001b[1;34m'time'\u001b[0m\u001b[1;33m,\u001b[0m \u001b[0mDLL\u001b[0m\u001b[1;33m.\u001b[0m\u001b[0msbapi_spectrometer_set_integration_time_micros\u001b[0m\u001b[1;33m(\u001b[0m \u001b[0mids\u001b[0m\u001b[1;33m[\u001b[0m\u001b[1;36m0\u001b[0m\u001b[1;33m]\u001b[0m\u001b[1;33m,\u001b[0m \u001b[0mfeats\u001b[0m\u001b[1;33m[\u001b[0m\u001b[1;36m0\u001b[0m\u001b[1;33m]\u001b[0m\u001b[1;33m,\u001b[0m \u001b[0mctypes\u001b[0m\u001b[1;33m.\u001b[0m\u001b[0mbyref\u001b[0m\u001b[1;33m(\u001b[0m\u001b[0merr\u001b[0m\u001b[1;33m)\u001b[0m\u001b[1;33m,\u001b[0m \u001b[0mctypes\u001b[0m\u001b[1;33m.\u001b[0m\u001b[0mc_ulong\u001b[0m\u001b[1;33m(\u001b[0m\u001b[1;36m1000_000\u001b[0m\u001b[1;33m)\u001b[0m \u001b[1;33m)\u001b[0m\u001b[1;33m,\u001b[0m \u001b[0merr\u001b[0m \u001b[1;33m)\u001b[0m\u001b[1;33m\u001b[0m\u001b[1;33m\u001b[0m\u001b[0m\n\u001b[0;32m      3\u001b[0m \u001b[1;33m\u001b[0m\u001b[0m\n\u001b[0;32m      4\u001b[0m \u001b[0mnspect\u001b[0m \u001b[1;33m=\u001b[0m \u001b[0mDLL\u001b[0m\u001b[1;33m.\u001b[0m\u001b[0msbapi_spectrometer_get_unformatted_spectrum_length\u001b[0m\u001b[1;33m(\u001b[0m \u001b[0mids\u001b[0m\u001b[1;33m[\u001b[0m\u001b[1;36m0\u001b[0m\u001b[1;33m]\u001b[0m\u001b[1;33m,\u001b[0m \u001b[0mfeats\u001b[0m\u001b[1;33m[\u001b[0m\u001b[1;36m0\u001b[0m\u001b[1;33m]\u001b[0m\u001b[1;33m,\u001b[0m \u001b[0mctypes\u001b[0m\u001b[1;33m.\u001b[0m\u001b[0mbyref\u001b[0m\u001b[1;33m(\u001b[0m\u001b[0merr\u001b[0m\u001b[1;33m)\u001b[0m \u001b[1;33m)\u001b[0m\u001b[1;33m\u001b[0m\u001b[1;33m\u001b[0m\u001b[0m\n\u001b[0;32m      5\u001b[0m \u001b[0mprint\u001b[0m\u001b[1;33m(\u001b[0m\u001b[1;34m'length'\u001b[0m\u001b[1;33m,\u001b[0m \u001b[0mnspect\u001b[0m\u001b[1;33m,\u001b[0m \u001b[0merr\u001b[0m \u001b[1;33m)\u001b[0m\u001b[1;33m\u001b[0m\u001b[1;33m\u001b[0m\u001b[0m\n",
      "\u001b[1;31mNameError\u001b[0m: name 'DLL' is not defined"
     ]
    }
   ],
   "source": [
    "print('mintime', DLL.sbapi_spectrometer_get_minimum_integration_time_micros( ids[0], feats[0], ctypes.byref(err) ), err )\n",
    "print('time', DLL.sbapi_spectrometer_set_integration_time_micros( ids[0], feats[0], ctypes.byref(err), ctypes.c_ulong(1000_000) ), err )\n",
    "\n",
    "nspect = DLL.sbapi_spectrometer_get_unformatted_spectrum_length( ids[0], feats[0], ctypes.byref(err) )\n",
    "print('length', nspect, err )\n",
    "print( DLL.sbapi_get_error_string( err ) )\n",
    "\n",
    "spect = (ctypes.c_char * nspect)()\n",
    "nbuff = DLL.sbapi_spectrometer_get_unformatted_spectrum( ids[0], feats[0], ctypes.byref(err), ctypes.byref(spect), nspect )\n",
    "print('nbuff', nbuff, err )\n",
    "print( DLL.sbapi_get_error_string( err ) )\n",
    "print(spect)\n",
    "\n",
    "rawbytes = np.frombuffer( spect.raw, dtype=np.uint8 )\n",
    "print( rawbytes[981:999].view(dtype=np.uint16) )\n",
    "\n",
    "#plt.clf()\n",
    "plt.plot( rawbytes[:-1:].view(dtype=np.uint16) )"
   ]
  },
  {
   "cell_type": "code",
   "execution_count": 7,
   "metadata": {},
   "outputs": [
    {
     "name": "stdout",
     "output_type": "stream",
     "text": [
      "-1620176472 c_int(2)\n"
     ]
    },
    {
     "data": {
      "text/plain": [
       "-1913664312"
      ]
     },
     "execution_count": 7,
     "metadata": {},
     "output_type": "execute_result"
    }
   ],
   "source": [
    "print( DLL.sbapi_close_device( ids[0], ctypes.byref(err) ), err )\n",
    "DLL.sbapi_shutdown()"
   ]
  },
  {
   "cell_type": "markdown",
   "metadata": {},
   "source": [
    "## Widgets\n",
    "\n",
    "https://wiki.python.org/moin/GuiProgramming\n",
    "Python has a huge number of GUI frameworks (or toolkits) available for it, from TkInter (traditionally bundled with Python, using Tk) to a number of other cross-platform solutions, as well as bindings to platform-specific (also known as \"native\") technologies.\n",
    "\n",
    "\n",
    "#### tkinter\n",
    "Tkinter is Python's de-facto standard GUI (Graphical User Interface) package. It is a thin object-oriented layer on top of Tcl/Tk.\n",
    "\n",
    "Tkinter is not the only GuiProgramming toolkit for Python. It is however the most commonly used one. CameronLaird calls the yearly decision to keep TkInter \"one of the minor traditions of the Python world.\"\n",
    "\n",
    "#### PyQt\n",
    "PyQt is one of the most popular Python bindings for the Qt cross-platform C++ framework. PyQt developed by Riverbank Computing Limited. Qt itself is developed as part of the Qt Project. PyQt provides bindings for Qt 4 and Qt 5. PyQt is distributed under a choice of licences: GPL version 3 or a commercial license.\n",
    "\n",
    "#### wxPython\n",
    "wxPython is a cross-platform GUI toolkit for the Python programming language. It allows Python programmers to create programs with a robust, highly functional graphical user interface, simply and easily. It is implemented as a set of Python extension modules that wrap the GUI components of the popular wxWidgets cross platform library, which is written in C++.\n",
    "\n",
    "Like Python and wxWidgets, wxPython is Open Source, which means that it is free for anyone to use and the source code is available for anyone to look at and modify. And anyone can contribute fixes or enhancements to the project.\n",
    "\n",
    "wxPython is a cross-platform toolkit. This means that the same program will run on multiple platforms without modification. Currently Supported platforms are Microsoft Windows, Mac OS X and macOS, and Linux or other unix-like systems with GTK2 or GTK3 libraries. In most cases the native widgets are used on each platform to provide a 100% native look and feel for the application.\n",
    "\n",
    "Some examples:\n",
    "    https://www.reddit.com/r/Python/comments/3d9ge9/what_does_your_gui_look_like_post_your_screenshots/\n",
    "    http://i.imgur.com/1ZkKCXN.jpg\n",
    "    https://imgur.com/uNxTUcd\n",
    "    http://www.pyvmmonitor.com/images/main.png\n",
    "\n",
    "https://docs.python.org/3/library/tk.html\n",
    "http://thinkingtkinter.sourceforge.net/"
   ]
  },
  {
   "cell_type": "code",
   "execution_count": 16,
   "metadata": {},
   "outputs": [],
   "source": [
    "from tkinter import Tk ### (1)\n",
    "\n",
    "root = Tk()           ### (2)\n",
    "root.mainloop()       ### (3)"
   ]
  },
  {
   "cell_type": "code",
   "execution_count": 17,
   "metadata": {},
   "outputs": [],
   "source": [
    "from tkinter import *\n",
    "\n",
    "root = Tk()\n",
    "\n",
    "myContainer1 = Frame(root)  ### (1)\n",
    "myContainer1.pack()         ### (2)\n",
    "\n",
    "root.mainloop()       "
   ]
  },
  {
   "cell_type": "markdown",
   "metadata": {},
   "source": [
    "Need to run:\n",
    "ssh localhost -X -Y"
   ]
  },
  {
   "cell_type": "code",
   "execution_count": null,
   "metadata": {},
   "outputs": [],
   "source": []
  }
 ],
 "metadata": {
  "kernelspec": {
   "display_name": "Python 3",
   "language": "python",
   "name": "python3"
  },
  "language_info": {
   "codemirror_mode": {
    "name": "ipython",
    "version": 3
   },
   "file_extension": ".py",
   "mimetype": "text/x-python",
   "name": "python",
   "nbconvert_exporter": "python",
   "pygments_lexer": "ipython3",
   "version": "3.6.8"
  }
 },
 "nbformat": 4,
 "nbformat_minor": 2
}
