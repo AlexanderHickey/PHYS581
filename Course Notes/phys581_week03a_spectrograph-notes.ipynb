{
 "cells": [
  {
   "cell_type": "markdown",
   "metadata": {},
   "source": [
    "## https://github.com/ap--/python-seabreeze\n",
    "### https://oceanoptics.com/api/seabreeze/_sea_breeze_a_p_i_8h_source.html\n",
    "### https://sourceforge.net/projects/seabreeze\n",
    "\n",
    "### conda install -c poehlmann python-seabreeze"
   ]
  },
  {
   "cell_type": "markdown",
   "metadata": {},
   "source": [
    "### 10-oceanoptics.rules\n",
    "\n",
    "Get from here: https://github.com/ap--/python-seabreeze/blob/master/misc/10-oceanoptics.rules\n",
    "\n",
    "    SUBSYSTEM!=\"usb|usb_device\", ACTION!=\"add\", GOTO=\"oceanoptics_rules_end\"\n",
    "    ...\n",
    "    #Ocean Optics Inc. USB2000 spectrometer \n",
    "    ATTR{idVendor}==\"2457\", ATTR{idProduct}==\"1002\", SYMLINK+=\"usb2000-%n\", GROUP=\"plugdev\" \n",
    "    #Ocean Optics Inc. USB2000+ spectrometer \n",
    "    ATTR{idVendor}==\"2457\", ATTR{idProduct}==\"101e\", SYMLINK+=\"usb2000+-%n\", GROUP=\"plugdev\"\n",
    "    ...\n",
    "    LABEL=\"oceanoptics_rules_end\"\n",
    "\n",
    "and install\n",
    "\n",
    "### cp 10oceanoptics.rules /etc/udev/rules.d\n",
    "### sudo udevadm control --reload-rules"
   ]
  },
  {
   "cell_type": "markdown",
   "metadata": {},
   "source": [
    "### ls -al /etc/udev/rules.d\n",
    "    -rw-r--r-- 1 root root  3386 Nov 12 13:02 10-oceanoptics.rules\n",
    "    -rw-r--r-- 1 root root 58549 Jun  4  2018 70-snap.core.rules"
   ]
  },
  {
   "cell_type": "markdown",
   "metadata": {},
   "source": [
    "Plug in USB and check for hardware messages\n",
    "\n",
    "### dmesg | tail\n",
    "\n",
    "    [2567838.968588] usb 1-5: new high-speed USB device number 31 using xhci_hcd\n",
    "    [2567843.186569] usb 1-5: device descriptor read/8, error -71\n",
    "    [2567843.312755] usb 1-5: device descriptor read/8, error -71\n",
    "    [2567843.420649] usb usb1-port5: unable to enumerate USB device\n",
    "    [2567847.780637] usb 1-5: new high-speed USB device number 32 using xhci_hcd\n",
    "    [2567847.940661] usb 1-5: New USB device found, idVendor=2457, idProduct=101e\n",
    "    [2567847.940667] usb 1-5: New USB device strings: Mfr=1, Product=2, SerialNumber=0\n",
    "    [2567847.940671] usb 1-5: Product: Ocean Optics USB2000+\n",
    "    [2567847.940675] usb 1-5: Manufacturer: USB2000+ 1.04.0 \n"
   ]
  },
  {
   "cell_type": "markdown",
   "metadata": {},
   "source": [
    "### ls -al /dev/usb2000*\n",
    "       lrwxrwxrwx 1 root root 15 Jan 28 15:14 /dev/usb2000+-5 -> bus/usb/001/032\n",
    "        \n",
    "### ls -al /dev/bus/usb/001/032\n",
    "       crw-rw---- 1 root plugdev 189, 31 Jan 28 15:14 /dev/bus/usb/001/032"
   ]
  },
  {
   "cell_type": "markdown",
   "metadata": {},
   "source": [
    "\n"
   ]
  },
  {
   "cell_type": "markdown",
   "metadata": {},
   "source": [
    "Confirm that I am in `plugdev` group\n",
    "\n",
    "### groups\n",
    "bjackel adm cdrom sudo dip plugdev lpadmin sambashare"
   ]
  },
  {
   "cell_type": "markdown",
   "metadata": {},
   "source": [
    "### lsusb\n",
    "\n",
    "    Bus 004 Device 001: ID 1d6b:0003 Linux Foundation 3.0 root hub\n",
    "    Bus 003 Device 001: ID 1d6b:0002 Linux Foundation 2.0 root hub\n",
    "    Bus 002 Device 004: ID 0451:8040 Texas Instruments, Inc. \n",
    "    Bus 002 Device 001: ID 1d6b:0003 Linux Foundation 3.0 root hub\n",
    "    Bus 001 Device 008: ID 0424:2507 Standard Microsystems Corp. hub\n",
    "    Bus 001 Device 007: ID 046d:c077 Logitech, Inc. M105 Optical Mouse\n",
    "    Bus 001 Device 006: ID 0451:8042 Texas Instruments, Inc. Hub\n",
    "    Bus 001 Device 032: ID 2457:101e  \n",
    "    Bus 001 Device 003: ID 046d:c517 Logitech, Inc. LX710 Cordless Desktop Laser\n",
    "    Bus 001 Device 001: ID 1d6b:0002 Linux Foundation 2.0 root hub\n"
   ]
  },
  {
   "cell_type": "markdown",
   "metadata": {},
   "source": [
    "### usb-devices\n",
    "    \n",
    "     T:  Bus=01 Lev=01 Prnt=01 Port=04 Cnt=02 Dev#= 32 Spd=480 MxCh= 0\n",
    "     D:  Ver= 2.00 Cls=00(>ifc ) Sub=00 Prot=00 MxPS=64 #Cfgs=  1\n",
    "     P:  Vendor=2457 ProdID=101e Rev=00.02\n",
    "     S:  Manufacturer=USB2000+ 1.04.0 \n",
    "     S:  Product=Ocean Optics USB2000+\n",
    "     C:  #Ifs= 1 Cfg#= 1 Atr=80 MxPwr=400mA\n",
    "     I:  If#= 0 Alt= 0 #EPs= 4 Cls=ff(vend.) Sub=00 Prot=00 Driver=(none)"
   ]
  },
  {
   "cell_type": "code",
   "execution_count": null,
   "metadata": {},
   "outputs": [],
   "source": [
    "import seabreeze.spectrometers as sb\n",
    "spec = sb.Spectrometer.from_serial_number()\n",
    "print(spec)"
   ]
  },
  {
   "cell_type": "code",
   "execution_count": 17,
   "metadata": {},
   "outputs": [
    {
     "data": {
      "text/plain": [
       "array([1.69905556e+01, 2.96291017e+04, 3.25247778e+02, ...,\n",
       "       3.61656111e+02, 4.56317778e+02, 4.02918889e+02])"
      ]
     },
     "execution_count": 17,
     "metadata": {},
     "output_type": "execute_result"
    }
   ],
   "source": [
    "spec.integration_time_micros(20000)\n",
    "spec.wavelengths()\n",
    "#array([  340.32581   ,   340.70321186,   341.08058305, ...,  1024.84940994,\n",
    "#        1025.1300678 ,  1025.4106617 ])\n",
    "spec.intensities()"
   ]
  },
  {
   "cell_type": "markdown",
   "metadata": {},
   "source": [
    "## ctypes\n",
    "\n",
    "Calling functions in a shared library object."
   ]
  },
  {
   "cell_type": "code",
   "execution_count": null,
   "metadata": {},
   "outputs": [],
   "source": [
    "import ctypes\n",
    "import numpy as np\n",
    "import matplotlib.pyplot as plt\n",
    "\n",
    "dllfile = '/home/bjackel/anaconda3/lib/libseabreeze.so'\n",
    "\n",
    "!ad dllfile"
   ]
  },
  {
   "cell_type": "code",
   "execution_count": 12,
   "metadata": {},
   "outputs": [
    {
     "name": "stdout",
     "output_type": "stream",
     "text": [
      "# of devices  1\n"
     ]
    }
   ],
   "source": [
    "#!/usr/bin/env python3\n",
    "# -*- coding: utf-8 -*-\n",
    "\"\"\"\n",
    "Created on Mon Nov 12 11:13:29 2018\n",
    "\n",
    "@author: bjackel\n",
    "\"\"\"\n",
    "\n",
    "DLL = ctypes.cdll.LoadLibrary( dllfile )\n",
    "#Out[53]: <CDLL '/home/bjackel/anaconda3/lib/libseabreeze.so', handle 564545109840 at 0x7fd807c68c88>\n",
    "DLL.sbapi_initialize()\n",
    "ndev = DLL.sbapi_probe_devices()\n",
    "print('# of devices ',ndev)\n",
    "\n"
   ]
  },
  {
   "cell_type": "code",
   "execution_count": 13,
   "metadata": {},
   "outputs": [
    {
     "name": "stdout",
     "output_type": "stream",
     "text": [
      "0 c_int(0)\n",
      "b'Success'\n",
      "nfeat 1 c_int(0)\n",
      "b'Success'\n",
      "feats 1 c_int(0)\n",
      "b'Success'\n"
     ]
    }
   ],
   "source": [
    "ids = (ctypes.c_long * 32)()\n",
    "status = DLL.sbapi_get_device_ids( ctypes.byref(ids), ctypes.c_ulong(32) )\n",
    "err = ctypes.c_int()\n",
    "\n",
    "print( DLL.sbapi_open_device( ids[0], ctypes.byref(err) ), err )\n",
    "DLL.sbapi_get_error_string.restype=ctypes.c_char_p\n",
    "print( DLL.sbapi_get_error_string( err ) )\n",
    "\n",
    "print('nfeat', DLL.sbapi_get_number_of_spectrometer_features( ids[0], ctypes.byref(err) ), err )\n",
    "print( DLL.sbapi_get_error_string( err ) )\n",
    "\n",
    "feats = (ctypes.c_long * 32)()\n",
    "print('feats', DLL.sbapi_get_spectrometer_features( ids[0], ctypes.byref(err), ctypes.byref(feats), 32 ), err )\n",
    "print( DLL.sbapi_get_error_string( err ) )"
   ]
  },
  {
   "cell_type": "code",
   "execution_count": 14,
   "metadata": {},
   "outputs": [
    {
     "name": "stdout",
     "output_type": "stream",
     "text": [
      "mintime 1000 c_int(0)\n",
      "time -45152112 c_int(0)\n",
      "length 4097 c_int(0)\n",
      "b'Success'\n",
      "nbuff 4097 c_int(0)\n",
      "b'Success'\n",
      "<__main__.c_char_Array_4097 object at 0x7fc3fd4f0f28>\n",
      "[36609 34561 53761 46593 47105 62721 48129 45569 17153]\n"
     ]
    },
    {
     "data": {
      "text/plain": [
       "[<matplotlib.lines.Line2D at 0x7fc3fd0bd390>]"
      ]
     },
     "execution_count": 14,
     "metadata": {},
     "output_type": "execute_result"
    },
    {
     "data": {
      "image/png": "[encoded data removed]",
      "text/plain": [
       "<Figure size 432x288 with 1 Axes>"
      ]
     },
     "metadata": {},
     "output_type": "display_data"
    }
   ],
   "source": [
    "print('mintime', DLL.sbapi_spectrometer_get_minimum_integration_time_micros( ids[0], feats[0], ctypes.byref(err) ), err )\n",
    "print('time', DLL.sbapi_spectrometer_set_integration_time_micros( ids[0], feats[0], ctypes.byref(err), ctypes.c_ulong(1000_000) ), err )\n",
    "\n",
    "nspect = DLL.sbapi_spectrometer_get_unformatted_spectrum_length( ids[0], feats[0], ctypes.byref(err) )\n",
    "print('length', nspect, err )\n",
    "print( DLL.sbapi_get_error_string( err ) )\n",
    "\n",
    "spect = (ctypes.c_char * nspect)()\n",
    "nbuff = DLL.sbapi_spectrometer_get_unformatted_spectrum( ids[0], feats[0], ctypes.byref(err), ctypes.byref(spect), nspect )\n",
    "print('nbuff', nbuff, err )\n",
    "print( DLL.sbapi_get_error_string( err ) )\n",
    "print(spect)\n",
    "\n",
    "rawbytes = np.frombuffer( spect.raw, dtype=np.uint8 )\n",
    "print( rawbytes[981:999].view(dtype=np.uint16) )\n",
    "\n",
    "#plt.clf()\n",
    "plt.plot( rawbytes[:-1:].view(dtype=np.uint16) )"
   ]
  },
  {
   "cell_type": "code",
   "execution_count": 15,
   "metadata": {},
   "outputs": [
    {
     "name": "stdout",
     "output_type": "stream",
     "text": [
      "-45152112 c_int(0)\n"
     ]
    },
    {
     "data": {
      "text/plain": [
       "611478728"
      ]
     },
     "execution_count": 15,
     "metadata": {},
     "output_type": "execute_result"
    }
   ],
   "source": [
    "print( DLL.sbapi_close_device( ids[0], ctypes.byref(err) ), err )\n",
    "DLL.sbapi_shutdown()"
   ]
  },
  {
   "cell_type": "code",
   "execution_count": null,
   "metadata": {},
   "outputs": [],
   "source": []
  },
  {
   "cell_type": "markdown",
   "metadata": {},
   "source": [
    "Company code?\n",
    "https://sourceforge.net/projects/seabreeze\n",
    "Canot compile\n",
    "\n",
    "https://oceanoptics.com/api/seabreeze/_sea_breeze_a_p_i_8h_source.html\n",
    "\n",
    "Community code\n",
    "https://github.com/ap--/python-seabreeze\n",
    "\n",
    "Udev rules\n",
    "https://github.com/ap--/python-seabreeze/blob/master/misc/10-oceanoptics.rules\n",
    "\n",
    "SUBSYSTEM!=\"usb|usb_device\", ACTION!=\"add\", GOTO=\"oceanoptics_rules_end\" \n",
    "\n",
    "\\# Ocean Optics Inc. USB2000 spectrometer\n",
    "ATTR{idVendor}==\"2457\", ATTR{idProduct}==\"1002\", SYMLINK+=\"usb2000-%n\", GROUP=\"plugdev\"\n",
    "\n",
    "\\# Ocean Optics Inc. USB2000+ spectrometer\n",
    "ATTR{idVendor}==\"2457\", ATTR{idProduct}==\"101e\", SYMLINK+=\"usb2000+-%n\", GROUP=\"plugdev\"\n",
    "\n",
    "\n",
    "LABEL=\"oceanoptics_rules_end\""
   ]
  },
  {
   "cell_type": "markdown",
   "metadata": {},
   "source": [
    "http://ddietze.github.io/pyUVVIS/\n",
    "    \n",
    "    pyUVVIS is my attempt at providing a lightweight, simple to use GUI for UV/VIS spectroscopy. The program operates in two major modes, as a simple spectrometer and as a UV/VIS spectrometer. While the first is used to measure spectra of light sources, adjust illumination settings and record reference and dark spectra, the latter is used to measure the absorption or optical density of test samples."
   ]
  }
 ],
 "metadata": {
  "kernelspec": {
   "display_name": "Python 3",
   "language": "python",
   "name": "python3"
  },
  "language_info": {
   "codemirror_mode": {
    "name": "ipython",
    "version": 3
   },
   "file_extension": ".py",
   "mimetype": "text/x-python",
   "name": "python",
   "nbconvert_exporter": "python",
   "pygments_lexer": "ipython3",
   "version": "3.7.2"
  }
 },
 "nbformat": 4,
 "nbformat_minor": 2
}
