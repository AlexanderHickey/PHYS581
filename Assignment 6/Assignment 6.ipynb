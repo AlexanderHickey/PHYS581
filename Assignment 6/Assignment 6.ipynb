{
 "cells": [
  {
   "cell_type": "markdown",
   "metadata": {},
   "source": [
    "# Phys 581 Winter 2019\n",
    "# Assignment #6: Spectrograph\n",
    "## Alexander Hickey, 10169582"
   ]
  },
  {
   "cell_type": "markdown",
   "metadata": {},
   "source": [
    "Note that the contents of this notebook were created and tested in a 64-bit distribution of Windows 10, using Python 3.6.8."
   ]
  },
  {
   "cell_type": "code",
   "execution_count": 1,
   "metadata": {},
   "outputs": [
    {
     "data": {
      "text/plain": [
       "'3.6.8 |Anaconda, Inc.| (default, Feb 21 2019, 18:30:04) [MSC v.1916 64 bit (AMD64)]'"
      ]
     },
     "execution_count": 1,
     "metadata": {},
     "output_type": "execute_result"
    }
   ],
   "source": [
    "import sys\n",
    "sys.version"
   ]
  },
  {
   "cell_type": "code",
   "execution_count": 2,
   "metadata": {},
   "outputs": [],
   "source": [
    "#Import useful libraries\n",
    "import numpy as np\n",
    "import matplotlib.pyplot as plt\n",
    "%matplotlib inline"
   ]
  },
  {
   "cell_type": "markdown",
   "metadata": {},
   "source": [
    "### Introduction"
   ]
  },
  {
   "cell_type": "markdown",
   "metadata": {},
   "source": [
    "Much of experimental science relies on the precise control of instrumentation and reliable acquisition of data. With many implementations of robust instruments however, one is required to manually interface with the instruments CPU. In some sense, this makes the device more versatile, however, it requires the user to understand many technical details of the device that would otherwise be irrelevant. It is therefore the case that one might benefit from streamlining the acquisition of data by hiding these technical details with a task-specific user interface.\n",
    "\n",
    "A graphical user interface (GUI) is a user interface that allows users to control electronic devices through graphical icons and visual indicators, instead of text-based user interfaces such as the command line. Such an interface is useful to avoid the often steep learning curve required to interact with command-line interfaces.\n",
    "\n",
    "The Ocean Optics USB2000+ spectrometer is a general-purpose UV-Visible-Infrared spectrometer for absorption, transmission, reflectance, emission, color and other applications.For more details of the product see https://oceanoptics.com/product/usb2000-custom/ . SeaBreeze is a device driver library that provides an interface to Ocean Optics spectrometers. It is written in C/C++ and builds and runs on Windows, MacOSX, and Linux (x86/x64/ARM). While this library is well documented, we are interested in developing an interface that can be downloaded and used immediately, to avoid the assumption that every user speaks C/C++.\n",
    "\n",
    "This notebook presents the construction of a simple GUI that interfaces and collects data from the Ocean Optics USB2000+ spectrograph. This GUI is developed using the Tkinter library in Python. The GUI will allow a user to collect data from the spectrograph with the click of a button, and display this data on screen in a window."
   ]
  },
  {
   "cell_type": "markdown",
   "metadata": {},
   "source": [
    "### Interfacing with the spectrometer"
   ]
  },
  {
   "cell_type": "markdown",
   "metadata": {},
   "source": [
    "To interface with the spectrometer in Python, we will avoid the direct use of the SeaBreeze drivers by making use of the interface developed by Andreas Poehlmann, available at:\n",
    "\n",
    "    https://github.com/ap--/python-seabreeze \n",
    "\n",
    "This module is available in the anaconda package framework, and can be installed using:\n",
    "\n",
    "    conda install -c poehlmann python-seabreeze\n",
    "    \n",
    "We begin by interfacing with the spectrometer in Python to develop a function that can call the data acquisition process. In windows, driver files for the spectrometer must be installed manually. To do this, plug in the spectrometer, right click the device in the toolbar and click update driver software. Then choose the suitable driver from the extracted folder, that can be downloaded here: https://github.com/ap--/python-seabreeze/blob/master/misc/windows-driver-files.zip ."
   ]
  },
  {
   "cell_type": "code",
   "execution_count": 3,
   "metadata": {},
   "outputs": [
    {
     "data": {
      "image/png": "[encoded data removed]",
      "text/plain": [
       "<Figure size 432x288 with 1 Axes>"
      ]
     },
     "metadata": {
      "needs_background": "light"
     },
     "output_type": "display_data"
    }
   ],
   "source": [
    "#Import python interface\n",
    "import seabreeze.spectrometers as sb\n",
    "\n",
    "#Interface to spectrometer, set integration time in microseconds\n",
    "spec = sb.Spectrometer.from_serial_number()\n",
    "spec.integration_time_micros(20000)\n",
    "\n",
    "#Extract current wavelength/intensity data\n",
    "#Start from 3rd data point to remove dark counts\n",
    "wlength = spec.wavelengths()[2:]\n",
    "intensity = spec.intensities()[2:]\n",
    "\n",
    "#Close session\n",
    "spec.close()\n",
    "\n",
    "#Plot measurement\n",
    "plt.plot(wlength,intensity)\n",
    "plt.xlim(np.min(wlength),np.max(wlength))\n",
    "plt.title('Ocean Optics USB2000+ Spectrograph data', fontsize=12)\n",
    "plt.xlabel('Wavelength (nm)',fontsize = 12)\n",
    "plt.ylabel('Intensity (count)',fontsize = 12)\n",
    "\n",
    "plt.show()"
   ]
  },
  {
   "cell_type": "markdown",
   "metadata": {},
   "source": [
    "The data collected above corresponds to the ambient room lighting."
   ]
  },
  {
   "cell_type": "markdown",
   "metadata": {},
   "source": [
    "### Designing the GUI"
   ]
  },
  {
   "cell_type": "markdown",
   "metadata": {},
   "source": [
    "Now that the spectrograph has been successfully interfaced in Python, the remainder of this work relies on the design of the GUI. This is done with the tools available in the Tkinter library. The features of this GUI are outlined here, and the full code can be found in the included spectrographGUI.py file. The interface includes a button that will collect and update a plot with the current spectrograph data, as well as a text box to change the integration time. Additionally, the matplotlib toolbar was added to allow for a user to navigate through, zoom in on, and save the current plot. Several screenshots of the application for various data sets is shown below.\n",
    "\n",
    "The first image corresponds to a measurement of my laptop screen.\n",
    "\n",
    "<img src=\"laptop_screen.JPG\" width=\"500\">\n",
    "\n",
    "Interestingly, we see three distinct peaks in the spectrum, which most likely correspond to the RGB colour scheme being emitted by the pixels of the screen. The next spectrum corresponds to the moniter for my desktop computer.\n",
    "\n",
    "<img src=\"desktop_screen.JPG\" width=\"500\">\n",
    "\n",
    "As we see, my desktop moniter almost matches up with the spectrum of my laptop screen, however, the red peak is strongly supressed. This could be because my moniter is much older than my laptop, suggesting that the red component of each pixel has weakened over time. Finally, I measured the spectrum of my desk lamp.\n",
    "\n",
    "<img src=\"desk_lamp.JPG\" width=\"500\">\n",
    "\n",
    "This kind of broad spectrum is expected, as the lamp emits seemingly white light."
   ]
  },
  {
   "cell_type": "markdown",
   "metadata": {},
   "source": [
    "### Conclusion"
   ]
  },
  {
   "cell_type": "markdown",
   "metadata": {},
   "source": [
    "In this notebook, we looked at the construction of a simple GUI that interfaces and collects data from the Ocean Optics USB2000+ spectrograph. The GUI was developed using the Tkinter library in Python, and allows the user to collect data from the spectrograph with the click of a button, and display this data on screen in a window. Additional features were included to vary the integration time for each collection, as well as to manipulate and save the plots.\n",
    "\n",
    "With more time, additional features could be added to increase the versatility of the application. Implementing a slider as opposed to a text box could restrict the user from inputting an invalid integration time. Additionally, it would be interesting to implement a live plotting feature, which would display the data in real time from the spectrograph."
   ]
  }
 ],
 "metadata": {
  "kernelspec": {
   "display_name": "Python 2",
   "language": "python",
   "name": "python2"
  },
  "language_info": {
   "codemirror_mode": {
    "name": "ipython",
    "version": 2
   },
   "file_extension": ".py",
   "mimetype": "text/x-python",
   "name": "python",
   "nbconvert_exporter": "python",
   "pygments_lexer": "ipython2",
   "version": "2.7.16"
  }
 },
 "nbformat": 4,
 "nbformat_minor": 2
}
