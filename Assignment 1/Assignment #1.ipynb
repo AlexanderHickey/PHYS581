{
 "cells": [
  {
   "cell_type": "markdown",
   "metadata": {},
   "source": [
    "# Phys 581 Winter 2019\n",
    "# Assignment #1: Error Function\n",
    "## Alexander Hickey, 10169582"
   ]
  },
  {
   "cell_type": "code",
   "execution_count": 1,
   "metadata": {},
   "outputs": [],
   "source": [
    "#Import useful libraries\n",
    "import numpy as np\n",
    "import time\n",
    "import scipy.special as special\n",
    "import matplotlib.pyplot as plt\n",
    "%matplotlib inline\n",
    "\n",
    "#My library\n",
    "import erftools as mylib "
   ]
  },
  {
   "cell_type": "markdown",
   "metadata": {},
   "source": [
    "### Introduction"
   ]
  },
  {
   "cell_type": "markdown",
   "metadata": {},
   "source": [
    "The error function is a special function that shows up frequently in probability theory and partial differential equations that describe diffusion. It is defined as:\n",
    "\n",
    "  $$\\operatorname {erf} (x) :={\\frac {1}{\\sqrt {\\pi }}}\\int _{-x}^{x}e^{-t^{2}}\\,dt ={\\frac {2}{\\sqrt {\\pi }}}\\int _{0}^{x}e^{-t^{2}}\\,dt. $$ \n",
    "\n",
    "\n",
    "For nonnegative values of x, the error function has the interpretation of describing the area under a Gaussian distribution. In particular, for a random variable $Y$ that is normally distributed with mean $0$ and variance $1/2$, $\\text{erf}(x)$ describes the probability of $Y$ falling in the interval $[−x, x]$. A related function that is often encountered is the Faddeeva function, defined as\n",
    " \n",
    "$$w(z) = e^{-z^2} \\left( 1-\\text{erf}(-iz) \\right)$$\n",
    "  "
   ]
  },
  {
   "cell_type": "markdown",
   "metadata": {},
   "source": [
    "Being a special function, the error function has no closed form expression as elementary functions. It is however, an entire function; it has no singularities (except that at infinity) and so its Taylor series converges everywhere. Expanding the integrand $e^{−z^2}$ into its Maclaurin series and integrating term by term, one obtains the error function's Maclaurin series\n",
    "\n",
    "$$ \\operatorname {erf} (z)={\\frac {2}{\\sqrt {\\pi }}}\\sum _{n=0}^{\\infty }{\\frac {(-1)^{n}z^{2n+1}}{n!(2n+1)}}={\\frac {2}{\\sqrt {\\pi }}}\\left(z-{\\frac {z^{3}}{3}}+{\\frac {z^{5}}{10}}-{\\frac {z^{7}}{42}}+{\\frac {z^{9}}{216}}-\\cdots \\right) $$\n",
    "\n",
    "which holds for every complex number z. This expansion provides a simple way to compute values of the error function numerically. Over the years, there has been a significant effort to simplify the computation of the error function and improve the numerical stability.\n",
    "\n",
    "In this notebook, we will examine various approaches to computing values of the complex error function. We will start by comparing a direct computation of the Taylor series to the function available in the SciPy distribution: special.erf. We will also implement a more complex algorithm, known as the Gautschi algorithm (https://dl.acm.org/citation.cfm?id=363618), which turns out to be more numerically stable than the Taylor series approach for large $|z|$. Additionally, this algorithm is vectorized, and an error testing framework is implemented."
   ]
  },
  {
   "cell_type": "markdown",
   "metadata": {},
   "source": [
    "### Task: Write a vectorized function using the Taylor series algorithm. "
   ]
  },
  {
   "cell_type": "markdown",
   "metadata": {},
   "source": [
    "The vectorized Taylor series function can be found in the attached erftools.py library. This library is loaded to the end of notebook for reference (see Appendix). Throughout this notebook, this function is called as mylib.erf_taylor."
   ]
  },
  {
   "cell_type": "markdown",
   "metadata": {},
   "source": [
    "### Task: Compare results to special.erf and determine relative precision of the Taylor series algorithm for $|z| < 9$."
   ]
  },
  {
   "cell_type": "markdown",
   "metadata": {},
   "source": [
    "The first thing to determine is how many terms in the Taylor series must be used to obtain a desired precision throughout some region in the complex plane. To do this we will run through the coeffecients on a sparse array within the region $|z|<9$ of the complex plane, and compute the maximum number of coefficients needed to ensure a precision of $10^{-10}$ throughout the entire region. This is the same precision that is garunteed in the scipy documentation references."
   ]
  },
  {
   "cell_type": "code",
   "execution_count": 2,
   "metadata": {},
   "outputs": [
    {
     "name": "stdout",
     "output_type": "stream",
     "text": [
      "Maximum number of terms for a tolerance of 1e-10 is n=157\n"
     ]
    }
   ],
   "source": [
    "#Generate sparse grid of complex numbers contained in the disk of radius 9\n",
    "x0,y0 = np.linspace(-9, +9, 201),np.linspace(-9, +9, 199)\n",
    "xx0, yy0 = np.meshgrid(x0,y0)\n",
    "test_grid = xx0 + 1.0j*yy0\n",
    "max_n = 0\n",
    "\n",
    "#Test number of coefficients needed for a 1e-10 precision throughout grid\n",
    "for z in test_grid.flatten():\n",
    "    \n",
    "    term, n = z, 0\n",
    "    \n",
    "    #Iterate through Taylor coefficients until desired precision is found\n",
    "    while term > 1e-10:\n",
    "        \n",
    "        n += 1\n",
    "        term = (-1)**n * z**(2*n+1)/(special.factorial(n)*(2*n+1)) \n",
    "    \n",
    "    #Track max number of coefficients needed\n",
    "    if n > max_n:\n",
    "        \n",
    "        max_n = n\n",
    "        \n",
    "print('Maximum number of terms for a tolerance of 1e-10 is n='+str(max_n))"
   ]
  },
  {
   "cell_type": "markdown",
   "metadata": {},
   "source": [
    "Next, we will look at the discrepency between the Taylor series algorithm and the function available in the scipy.special library in the given region. To ensure sufficient precision of the Taylor series, we will compute the entire grid up to the maximum of $n=157$ terms."
   ]
  },
  {
   "cell_type": "code",
   "execution_count": 29,
   "metadata": {},
   "outputs": [],
   "source": [
    "#Generate grid of complex numbers contained in the disk of radius 9\n",
    "x,y = np.linspace(-9, +9, 1000),np.linspace(-9, +9, 999)\n",
    "xx, yy = np.meshgrid(x,y)\n",
    "gridxy = xx + 1.0j*yy\n",
    "mask = (xx*xx+yy*yy < 9*9)*1\n",
    "\n",
    "#Apply error function to entire array\n",
    "z1 = special.erf(gridxy)\n",
    "z2 = mylib.erf_taylor(gridxy,nterms=max_n)\n",
    "\n",
    "#Compute absolute and relative error\n",
    "abs_diff = np.abs(z1-z2)\n",
    "rel_diff = abs_diff / np.abs(z1)"
   ]
  },
  {
   "cell_type": "code",
   "execution_count": 30,
   "metadata": {},
   "outputs": [
    {
     "data": {
      "image/png": "[encoded data removed]",
      "text/plain": [
       "<Figure size 720x288 with 4 Axes>"
      ]
     },
     "metadata": {
      "needs_background": "light"
     },
     "output_type": "display_data"
    }
   ],
   "source": [
    "#Generate contour plots of the discrepancy\n",
    "fig, axes = plt.subplots(1, 2, figsize=(10,4), sharey=True)\n",
    "\n",
    "plt.sca( axes[0] )\n",
    "plt.contourf(xx,yy,abs_diff*mask,norm=colors.LogNorm())\n",
    "plt.colorbar()\n",
    "plt.xlabel('Real')\n",
    "plt.ylabel('Imaginary')\n",
    "plt.title('Error function absolute error')\n",
    "\n",
    "plt.sca( axes[1] )\n",
    "plt.contourf(xx,yy,rel_diff*mask,norm=colors.LogNorm())\n",
    "plt.colorbar()\n",
    "plt.xlabel('Real')\n",
    "plt.title('Error function relative error')\n",
    "\n",
    "plt.show()"
   ]
  },
  {
   "cell_type": "markdown",
   "metadata": {},
   "source": [
    "Note the that scale in each contour plot is logarithmic. We see that the Taylor series approach begins to diverge from the scipy.special.erf function exponentially as $|z|$ increases. Interestingly, the error relative to the value of the error function remains well behaved for values which are close to the imaginary axis. This suggests that the Taylor series algorithm becomes unreliable only when the real part of $z$ gets large. In particular, the algorithm seems to be reliable to $9$ significant digits whenever $\\text{Re}(z)<4$.\n",
    "\n",
    "Another comparison to make is with the speed of the computation."
   ]
  },
  {
   "cell_type": "code",
   "execution_count": 5,
   "metadata": {},
   "outputs": [
    {
     "name": "stdout",
     "output_type": "stream",
     "text": [
      "182 µs ± 1.95 µs per loop (mean ± std. dev. of 7 runs, 10000 loops each)\n",
      "5.88 ms ± 71.3 µs per loop (mean ± std. dev. of 7 runs, 100 loops each)\n"
     ]
    }
   ],
   "source": [
    "rand_array = np.random.random(999) + 1.0j*np.random.random(999) \n",
    "%timeit special.erf(rand_array)\n",
    "%timeit mylib.erf_taylor(rand_array,nterms = max_n)"
   ]
  },
  {
   "cell_type": "markdown",
   "metadata": {},
   "source": [
    "In this case, all of the values computed lie within the unit disk of the complex plane. In this region, the values returned by both functions agree to double precision error, according to the previous plots. Although the values agree in this region, we see that the scipy.special.erf function is at least an order of magnitude quicker than the direct Taylor series approach."
   ]
  },
  {
   "cell_type": "markdown",
   "metadata": {},
   "source": [
    "### Task: Write python code for some more complex algorithm that you find on the web."
   ]
  },
  {
   "cell_type": "markdown",
   "metadata": {},
   "source": [
    "The algorithm implemented here is based on the widely used Gautschi algorithm, which is used to compute the value of the Faddeeva function\n",
    "\n",
    "$$w(z) = e^{-z^2} \\left(1-\\text{erf}(-iz)\\right)$$\n",
    "\n",
    "in the first quadrant of the complex plane. The value of the Faddeeva function in the remaning quadrants can be readily obtained using the sign inversion properties:\n",
    "\n",
    "$$w(-z) = 2e^{-z^2}-w(z)$$\n",
    "\n",
    "$$w(z^*) = [w(-z)]^*$$\n",
    "\n",
    "By writing a function to compute $w(z)$, the error function can then be computed by inverting the above definition. By mapping $z \\mapsto iz$, we obtain\n",
    "\n",
    "$$erf(z) = 1-e^{-z^2} w(iz)$$\n",
    "\n",
    "\n",
    "\n",
    "\n",
    "\n",
    "\n",
    "\n",
    "\n",
    "\n",
    "\n",
    "\n",
    "\n",
    "\n",
    "\n",
    "\n",
    "A full derivation of the Gautschi algorithm can be found in:\n",
    "\n",
    "Efficient Computation of the Complex Error Function\n",
    "Walter Gautschi\n",
    "SIAM Journal on Numerical Analysis\n",
    "Vol. 7, No. 1 (Mar., 1970), pp. 187-198\n",
    "\n",
    "and the algorithm is described precisely in: https://dl.acm.org/citation.cfm?id=363618 ."
   ]
  },
  {
   "cell_type": "code",
   "execution_count": 31,
   "metadata": {},
   "outputs": [],
   "source": [
    "#Explicitely vectorize by looping over array\n",
    "erf_npvec = np.vectorize(mylib.erf)\n",
    "\n",
    "z3 = mylib.erf(gridxy)\n",
    "z4 = mylib.erf_vec(gridxy)\n",
    "\n",
    "#Compare relative difference of each method to the special.erf function\n",
    "rel_diff3 = np.abs(z1-z3) / np.abs(z1)\n",
    "rel_diff4 = np.abs(z1-z4) / np.abs(z1)"
   ]
  },
  {
   "cell_type": "code",
   "execution_count": 32,
   "metadata": {},
   "outputs": [
    {
     "data": {
      "image/png": "[encoded data removed]",
      "text/plain": [
       "<Figure size 720x288 with 4 Axes>"
      ]
     },
     "metadata": {
      "needs_background": "light"
     },
     "output_type": "display_data"
    }
   ],
   "source": [
    "#Generate contour plots of the discrepancy\n",
    "fig, axes = plt.subplots(1, 2, figsize=(10,4), sharey=True)\n",
    "\n",
    "plt.sca( axes[0] )\n",
    "plt.contourf(xx,yy,rel_diff3*mask,norm=colors.LogNorm())\n",
    "plt.colorbar()\n",
    "plt.xlabel('Real')\n",
    "plt.ylabel('Imaginary')\n",
    "plt.title('Gautschi Error function \\n relative error (single valued)')\n",
    "\n",
    "plt.sca( axes[1] )\n",
    "plt.contourf(xx,yy,rel_diff4*mask,norm=colors.LogNorm())\n",
    "plt.colorbar()\n",
    "plt.xlabel('Real')\n",
    "plt.title('Gautschi Error function \\n relative error (vectorized)')\n",
    "\n",
    "plt.show()"
   ]
  },
  {
   "cell_type": "markdown",
   "metadata": {},
   "source": [
    "Comments about accuracy..\n",
    "\n",
    "What about time?"
   ]
  },
  {
   "cell_type": "code",
   "execution_count": 3,
   "metadata": {},
   "outputs": [
    {
     "name": "stdout",
     "output_type": "stream",
     "text": [
      "365 µs ± 2.13 µs per loop (mean ± std. dev. of 7 runs, 1000 loops each)\n",
      "195 ms ± 9.17 ms per loop (mean ± std. dev. of 7 runs, 10 loops each)\n",
      "31.5 ms ± 243 µs per loop (mean ± std. dev. of 7 runs, 10 loops each)\n"
     ]
    }
   ],
   "source": [
    "rand_array = np.random.random(999) + 1.0j*np.random.random(999) \n",
    "%timeit special.erf(rand_array)\n",
    "%timeit erf_npvec(rand_array)\n",
    "%timeit mylib.erf_vec(rand_array)"
   ]
  },
  {
   "cell_type": "markdown",
   "metadata": {},
   "source": [
    "Comments about accuracy"
   ]
  },
  {
   "cell_type": "markdown",
   "metadata": {},
   "source": [
    "#### Task: Develop a testing framework for your error function"
   ]
  },
  {
   "cell_type": "code",
   "execution_count": 77,
   "metadata": {},
   "outputs": [
    {
     "name": "stderr",
     "output_type": "stream",
     "text": [
      "test_ErfTaylor (__main__.TestErf) ... ok\n",
      "test_ErfVecZeroes (__main__.TestErf) ... ok\n",
      "test_ErfZeroes (__main__.TestErf) ... ok\n",
      "\n",
      "----------------------------------------------------------------------\n",
      "Ran 3 tests in 0.017s\n",
      "\n",
      "OK\n"
     ]
    }
   ],
   "source": [
    "%run erftools.py"
   ]
  },
  {
   "cell_type": "markdown",
   "metadata": {},
   "source": [
    "### Conclusion"
   ]
  },
  {
   "cell_type": "markdown",
   "metadata": {},
   "source": [
    "Conclusion..."
   ]
  },
  {
   "cell_type": "markdown",
   "metadata": {},
   "source": [
    "### Appendix: erftools.py library"
   ]
  },
  {
   "cell_type": "code",
   "execution_count": null,
   "metadata": {},
   "outputs": [],
   "source": [
    "%load erftools.py"
   ]
  }
 ],
 "metadata": {
  "kernelspec": {
   "display_name": "Python 3",
   "language": "python",
   "name": "python3"
  },
  "language_info": {
   "codemirror_mode": {
    "name": "ipython",
    "version": 3
   },
   "file_extension": ".py",
   "mimetype": "text/x-python",
   "name": "python",
   "nbconvert_exporter": "python",
   "pygments_lexer": "ipython3",
   "version": "3.6.8"
  }
 },
 "nbformat": 4,
 "nbformat_minor": 2
}
