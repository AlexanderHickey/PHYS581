{
 "cells": [
  {
   "cell_type": "code",
   "execution_count": 1,
   "metadata": {},
   "outputs": [],
   "source": [
    "import matplotlib.pyplot as plt\n",
    "%matplotlib inline\n",
    "import numpy as np\n",
    "\n",
    "import scipy\n",
    "import scipy.special as special\n",
    "import scipy.stats as stats\n",
    "import scipy.integrate as integrate"
   ]
  },
  {
   "cell_type": "markdown",
   "metadata": {},
   "source": [
    "The error function is an entire function; it has no singularities (except that at infinity) and its Taylor expansion always converges.\n",
    "\n",
    "The defining integral cannot be evaluated in closed form in terms of elementary functions, but by expanding the integrand $e^{−z^2}$ into its Maclaurin series and integrating term by term, one obtains the error function's Maclaurin series as:\n",
    "\n",
    "$$ \\operatorname {erf} (z)={\\frac {2}{\\sqrt {\\pi }}}\\sum _{n=0}^{\\infty }{\\frac {(-1)^{n}z^{2n+1}}{n!(2n+1)}}={\\frac {2}{\\sqrt {\\pi }}}\\left(z-{\\frac {z^{3}}{3}}+{\\frac {z^{5}}{10}}-{\\frac {z^{7}}{42}}+{\\frac {z^{9}}{216}}-\\cdots \\right) $$\n",
    "\n",
    "which holds for every complex number z. "
   ]
  },
  {
   "cell_type": "markdown",
   "metadata": {},
   "source": [
    "### Tasks\n",
    "The special.erf method is vectorized so that we can obtain multiple values for input sequences and grid\n",
    "\n",
    "#### Write a vectorized function using the Taylor series algorithm. "
   ]
  },
  {
   "cell_type": "code",
   "execution_count": 67,
   "metadata": {},
   "outputs": [],
   "source": [
    "def erf_taylor(z, nterms=19):\n",
    "    \n",
    "    if type(z)==int:\n",
    "        length = 1\n",
    "    else:\n",
    "        length = len(z)\n",
    "    \n",
    "    #Taylor series coefficients\n",
    "    n = np.arange(0, nterms, dtype=np.double).reshape(nterms,1)\n",
    "    terms = (-1)**n* z**(2*n+1) / special.factorial(n) / (2*n+1)\n",
    "    \n",
    "    z_array = np.tile(z,nterms).reshape(nterms,length)\n",
    "    \n",
    "    return np.sum(terms*z_array, axis=0) * 2.0 / np.sqrt(np.pi)"
   ]
  },
  {
   "cell_type": "code",
   "execution_count": 82,
   "metadata": {},
   "outputs": [
    {
     "data": {
      "text/plain": [
       "array([-1.63493975e+33])"
      ]
     },
     "execution_count": 82,
     "metadata": {},
     "output_type": "execute_result"
    }
   ],
   "source": [
    "z=[100]\n",
    "erf_taylor(z,nterms=10)"
   ]
  },
  {
   "cell_type": "markdown",
   "metadata": {},
   "source": [
    "#### Compare results to special.erf and determine relative precision of the Taylor series algorithm for $|z| < 9$."
   ]
  },
  {
   "cell_type": "code",
   "execution_count": null,
   "metadata": {},
   "outputs": [],
   "source": []
  },
  {
   "cell_type": "markdown",
   "metadata": {},
   "source": [
    "#### Write python code for some more complex algorithm that you find on the web ie.\n",
    "\n",
    "Efficient Computation of the Complex Error Function\n",
    "Walter Gautschi\n",
    "SIAM Journal on Numerical Analysis\n",
    "Vol. 7, No. 1 (Mar., 1970), pp. 187-198\n",
    "\n",
    "Computation of the Complex Error Function\n",
    "J. A. C. Weideman\n",
    "SIAM Journal on Numerical Analysis\n",
    "Vol. 31, No. 5 (Oct., 1994), pp. 1497-1518\n",
    "\n",
    "More efficient computation of the complex error function.\n",
    "G. P. M. Poppe and C. M. J. Wijers. 1990\n",
    "ACM Trans. Math. Softw. 16, 1 (March 1990), 38-46. \n",
    "DOI: https://doi.org/10.1145/77626.77629"
   ]
  },
  {
   "cell_type": "code",
   "execution_count": null,
   "metadata": {},
   "outputs": [],
   "source": []
  }
 ],
 "metadata": {
  "kernelspec": {
   "display_name": "Python 3",
   "language": "python",
   "name": "python3"
  },
  "language_info": {
   "codemirror_mode": {
    "name": "ipython",
    "version": 3
   },
   "file_extension": ".py",
   "mimetype": "text/x-python",
   "name": "python",
   "nbconvert_exporter": "python",
   "pygments_lexer": "ipython3",
   "version": "3.6.8"
  }
 },
 "nbformat": 4,
 "nbformat_minor": 2
}
