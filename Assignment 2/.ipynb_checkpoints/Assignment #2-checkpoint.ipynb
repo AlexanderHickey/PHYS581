{
 "cells": [
  {
   "cell_type": "markdown",
   "metadata": {},
   "source": [
    "# Phys 581 Winter 2019\n",
    "# Assignment #2: Geomagnetic Bottle\n",
    "## Alexander Hickey, 10169582"
   ]
  },
  {
   "cell_type": "code",
   "execution_count": 1,
   "metadata": {},
   "outputs": [],
   "source": [
    "#Import useful libraries\n",
    "import numpy as np\n",
    "import matplotlib.pyplot as plt\n",
    "%matplotlib inline"
   ]
  },
  {
   "cell_type": "markdown",
   "metadata": {},
   "source": [
    "##### Task: \n",
    "Read  https://www2.mps.mpg.de/solar-system-school/lectures/space_plasma_physics_2007/Lecture_3.pdf and then numerically integrate the motion of a 1keV proton starting at the surface of the Earth ($r=6371km$) with latitude $66^\\circ$ moving antiparallel to the local $\\vec B$.  Assume the geomagnetic field is a dipole aligned with the spin axis with magnetic moment $m=8.05E22 A m^2$.\n",
    "\n",
    "Does you result look like the plot in slide#7?  If not, what values (eg. energy, pitch angle, latitude) produce a better resemblance?"
   ]
  },
  {
   "cell_type": "markdown",
   "metadata": {},
   "source": [
    "Magnetic field of a dipole in standard spherical coordinates:\n",
    "$$\\mathbf B(\\mathbf r) = \\frac{\\mu_0}{4\\pi} \\frac{M_E}{|\\mathbf r|^3} \\left( 2\\cos{\\theta} \\hat r  + \\sin \\theta \\mathbf{\\hat{\\theta}} \\right)$$\n",
    "\n",
    "where $M_E = 8.05 \\times 10^{22} \\text{ Am}^2$ is the magnetic dipole moment of the earth, and $\\mu_0= 4\\pi \\times 10^7 \\text{ Tm/A}$ is the permeability of free space.\n",
    "Working with these numbers numbers directly will most likely lead to floating point error, so we start by making the equations of motion dimensionless. We will measure all distances in units of the radius of earth $R_E = 6371 \\text{ km}$. Define a base unit of magnetic flux density\n",
    "\n",
    "$$B_0 := \\frac{\\mu_0}{4 \\pi} \\frac{M_E}{R_E^3}$$\n",
    "\n",
    "then we can rewrite the Earth's magnetic field as \n",
    "\n",
    "$$\\frac{\\mathbf B}{B_0}= \\frac{1}{\\rho^3}\\left(2 \\cos \\theta \\hat \\rho + \\sin \\theta \\hat \\theta \\right)$$\n",
    "\n",
    "where the dimensionless radial coordinate is $\\rho := r/R_E$, and $\\hat \\rho = \\hat r$ is the same radial unit vector. \n",
    "\n",
    "Using the standard spherical to cartesian transformation, we have ..."
   ]
  },
  {
   "cell_type": "code",
   "execution_count": 2,
   "metadata": {},
   "outputs": [],
   "source": [
    "T = 1e3 #Kinetic energy in eV\n",
    "RE = 6371 #Radius of earth in km\n",
    "Lat = 66 #Latitude in degrees\n",
    "ME = 8.05e22 #Magnetic moment of earth in Am^2\n",
    "m = 1.672e-27 #Proton mass in kg"
   ]
  },
  {
   "cell_type": "code",
   "execution_count": 6,
   "metadata": {},
   "outputs": [],
   "source": [
    "def B(x,y,z):\n",
    "    \n",
    "    Bfield = np.zeros(3,dtype=np.float64)\n",
    "    \n",
    "    Bfield[0] = 0"
   ]
  },
  {
   "cell_type": "code",
   "execution_count": null,
   "metadata": {},
   "outputs": [],
   "source": []
  }
 ],
 "metadata": {
  "kernelspec": {
   "display_name": "Python 3",
   "language": "python",
   "name": "python3"
  },
  "language_info": {
   "codemirror_mode": {
    "name": "ipython",
    "version": 3
   },
   "file_extension": ".py",
   "mimetype": "text/x-python",
   "name": "python",
   "nbconvert_exporter": "python",
   "pygments_lexer": "ipython3",
   "version": "3.7.1"
  }
 },
 "nbformat": 4,
 "nbformat_minor": 2
}
