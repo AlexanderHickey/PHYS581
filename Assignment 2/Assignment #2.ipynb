{
 "cells": [
  {
   "cell_type": "markdown",
   "metadata": {},
   "source": [
    "# Phys 581 Winter 2019\n",
    "# Assignment #2: Geomagnetic Bottle\n",
    "## Alexander Hickey, 10169582"
   ]
  },
  {
   "cell_type": "code",
   "execution_count": 54,
   "metadata": {},
   "outputs": [],
   "source": [
    "#Import useful libraries\n",
    "import numpy as np\n",
    "import matplotlib.pyplot as plt\n",
    "import scipy.integrate\n",
    "%matplotlib inline"
   ]
  },
  {
   "cell_type": "markdown",
   "metadata": {},
   "source": [
    "##### Task: \n",
    "Read  https://www2.mps.mpg.de/solar-system-school/lectures/space_plasma_physics_2007/Lecture_3.pdf and then numerically integrate the motion of a 1keV proton starting at the surface of the Earth ($r=6371km$) with latitude $66^\\circ$ moving antiparallel to the local $\\vec B$.  Assume the geomagnetic field is a dipole aligned with the spin axis with magnetic moment $M_E=8.05E22 A m^2$.\n",
    "\n",
    "Does you result look like the plot in slide#7?  If not, what values (eg. energy, pitch angle, latitude) produce a better resemblance?"
   ]
  },
  {
   "cell_type": "markdown",
   "metadata": {},
   "source": [
    "Magnetic field of a dipole in standard spherical coordinates:\n",
    "$$\\mathbf B(\\mathbf r) = \\frac{\\mu_0}{4\\pi} \\frac{M_E}{|\\mathbf r|^3} \\left( 2\\cos{\\theta} \\hat r  + \\sin \\theta \\mathbf{\\hat{\\theta}} \\right)$$\n",
    "\n",
    "where $M_E = 8.05 \\times 10^{22} \\text{ Am}^2$ is the magnetic dipole moment of the earth, and $\\mu_0= 4\\pi \\times 10^{-7} \\text{ Tm/A}$ is the permeability of free space.\n",
    "Working with these numbers numbers directly will most likely lead to floating point error, so we start by making the equations of motion dimensionless. We will measure all distances in units of the radius of earth $R_E = 6371 \\text{ km}$. Define a base unit of magnetic flux density\n",
    "\n",
    "$$B_0 := \\frac{\\mu_0}{4 \\pi} \\frac{M_E}{R_E^3}$$\n",
    "\n",
    "then we can rewrite the Earth's magnetic field as \n",
    "\n",
    "$$\\frac{\\mathbf B}{B_0}= \\frac{1}{\\rho^3}\\left(2 \\cos \\theta \\hat \\rho + \\sin \\theta \\hat \\theta \\right)$$\n",
    "\n",
    "where the dimensionless radial coordinate is $\\rho := r/R_E$, and $\\hat \\rho = \\hat r$ is the same radial unit vector. \n",
    "\n",
    "Using the standard spherical to cartesian transformation, we have ..."
   ]
  },
  {
   "cell_type": "code",
   "execution_count": 2,
   "metadata": {},
   "outputs": [],
   "source": [
    "T = 1e3 #Kinetic energy in eV\n",
    "RE = 6371 #Radius of earth in km\n",
    "Lat = 66 #Latitude in degrees\n",
    "ME = 8.05e22 #Magnetic moment of earth in Am^2\n",
    "m = 1.672e-27 #Proton mass in kg"
   ]
  },
  {
   "cell_type": "code",
   "execution_count": 55,
   "metadata": {},
   "outputs": [],
   "source": [
    "def B(x,y,z):\n",
    "    \n",
    "    Bfield = np.zeros(3,dtype=np.float64)\n",
    "    scale = (x*x+y*y+z*z)**(5/2)\n",
    "    \n",
    "    Bfield[0] = 3.0*x*z\n",
    "    Bfield[1] = 3.0*y*z\n",
    "    Bfield[2] = 2.0*z*z-x*x-y*y\n",
    "    \n",
    "    return Bfield/scale\n",
    "\n",
    "def cart_to_sphere(xyz):\n",
    "    \n",
    "    rtp = np.zeros(xyz.shape)\n",
    "    xy = xyz[0]**2 + xyz[1]**2\n",
    "    rtp[0] = np.sqrt(xy + xyz[2]**2)\n",
    "    rtp[1] = np.arctan2(np.sqrt(xy), xyz[2]) # for elevation angle defined from Z-axis down\n",
    "    rtp[2] = np.arctan2(xyz[1], xyz[0])\n",
    "    \n",
    "    return rtp\n",
    "\n",
    "def sphere_to_cart(rtp):\n",
    "    \n",
    "    xyz = np.zeros(rtp.shape)\n",
    "    \n",
    "    xyz[0] = rtp[0]*np.sin(rtp[1])*np.cos(rtp[2])\n",
    "    xyz[1] = rtp[0]*np.sin(rtp[1])*np.sin(rtp[2])\n",
    "    xyz[2] = rtp[0]*np.cos(rtp[1])\n",
    "    \n",
    "    return xyz\n",
    "\n",
    "def time_evol(state,t):\n",
    "    \n",
    "    newstate = np.zeros(state.shape)\n",
    "    vx,vy,vz = state[:3]\n",
    "    x,y,z = state[3:]\n",
    "    k = 4.9075e-13\n",
    "    Bx, By, Bz = B(x,y,z)\n",
    "    \n",
    "    newstate[0] = k*(vy*Bz-vz*By)\n",
    "    newstate[1] = k*(vz*Bx-vx*Bz)\n",
    "    newstate[2] = k*(vx*By-vy*Bx)\n",
    "    newstate[3] = vx\n",
    "    newstate[4] = vy\n",
    "    newstate[5] = vz\n",
    "    \n",
    "    return newstate"
   ]
  },
  {
   "cell_type": "code",
   "execution_count": 69,
   "metadata": {},
   "outputs": [],
   "source": [
    "#Initialize:\n",
    "state0 = np.zeros(6)\n",
    "r,theta,phi = 1.0,24*np.pi/180,0.0\n",
    "x0,y0,z0 = sphere_to_cart(np.array([r,theta,phi]))\n",
    "B0 = B(x0,y0,z0)\n",
    "eta0 = -1.13e-17*B0/np.linalg.norm(B0)\n",
    "state0[:3] = eta0\n",
    "state0[3],state0[4],state0[5] = x0, y0, z0\n",
    "\n",
    "time = np.linspace(0,5e13,100000)\n",
    "dat = scipy.integrate.odeint(time_evol,state0,time)"
   ]
  },
  {
   "cell_type": "code",
   "execution_count": 70,
   "metadata": {},
   "outputs": [
    {
     "data": {
      "text/plain": [
       "[<matplotlib.lines.Line2D at 0x22f37c98780>]"
      ]
     },
     "execution_count": 70,
     "metadata": {},
     "output_type": "execute_result"
    },
    {
     "data": {
      "image/png": "[encoded data removed]",
      "text/plain": [
       "<Figure size 432x288 with 1 Axes>"
      ]
     },
     "metadata": {
      "needs_background": "light"
     },
     "output_type": "display_data"
    }
   ],
   "source": [
    "xl,yl,zl = np.zeros(len(time)),np.zeros(len(time)),np.zeros(len(time))\n",
    "for j in range(len(time)):\n",
    "    xl[j],yl[j],zl[j] = dat[j][3],dat[j][4],dat[j][5]\n",
    "    \n",
    "plt.plot(xl,yl)"
   ]
  },
  {
   "cell_type": "code",
   "execution_count": null,
   "metadata": {},
   "outputs": [],
   "source": []
  }
 ],
 "metadata": {
  "kernelspec": {
   "display_name": "Python 3",
   "language": "python",
   "name": "python3"
  },
  "language_info": {
   "codemirror_mode": {
    "name": "ipython",
    "version": 3
   },
   "file_extension": ".py",
   "mimetype": "text/x-python",
   "name": "python",
   "nbconvert_exporter": "python",
   "pygments_lexer": "ipython3",
   "version": "3.6.8"
  }
 },
 "nbformat": 4,
 "nbformat_minor": 2
}
