{
 "cells": [
  {
   "cell_type": "markdown",
   "metadata": {},
   "source": [
    "# Phys 581 Winter 2019\n",
    "# Assignment #2: Geomagnetic Bottle\n",
    "## Alexander Hickey, 10169582"
   ]
  },
  {
   "cell_type": "code",
   "execution_count": 1,
   "metadata": {},
   "outputs": [],
   "source": [
    "#Import useful libraries\n",
    "import numpy as np\n",
    "import matplotlib.pyplot as plt\n",
    "%matplotlib inline"
   ]
  },
  {
   "cell_type": "markdown",
   "metadata": {},
   "source": [
    "##### Task: \n",
    "Read  https://www2.mps.mpg.de/solar-system-school/lectures/space_plasma_physics_2007/Lecture_3.pdf and then numerically integrate the motion of a 1keV proton starting at the surface of the Earth ($r=6371km$) with latitude $66^\\circ$ moving antiparallel to the local $\\vec B$.  Assume the geomagnetic field is a dipole aligned with the spin axis with magnetic moment $m=8.05E22 A m^2$.\n",
    "\n",
    "Does you result look like the plot in slide#7?  If not, what values (eg. energy, pitch angle, latitude) produce a better resemblance?"
   ]
  },
  {
   "cell_type": "markdown",
   "metadata": {},
   "source": [
    "Magnetic field of a dipole in standard spherical coordinates:\n",
    "$$\\mathbf B(\\mathbf r) = \\frac{\\mu_0}{4\\pi} \\frac{M_E}{|\\mathbf r|^3} \\left( 2\\cos{\\theta} \\hat r  + \\sin \\theta \\mathbf{\\hat{\\theta}} \\right)$$\n",
    "\n",
    "where $M_E = 8.05 \\times 10^{22} \\text{ Am}^2$ is the magnetic dipole moment of the earth, and $\\mu_0= 4\\pi \\times 10^7 \\text{ Tm/A}$ is the permeability of free space.\n",
    "Working with these numbers numbers directly will most likely lead to floating point error, so we start by making the equations of motion dimensionless. We will measure all distances in units of the radius of earth $R_E = 6371 \\text{ km}$\n",
    "\n",
    "Using the standard spherical to cartesian transformation"
   ]
  },
  {
   "cell_type": "code",
   "execution_count": 7,
   "metadata": {},
   "outputs": [],
   "source": [
    "T = 1e3 #Kinetic energy in eV\n",
    "RE = 6371 #Radius of earth in km\n",
    "Lat = 66 #Latitude in degrees\n",
    "ME = 8.05e22 #Magnetic moment of earth in Am^2\n",
    "v = #Speed in m/s"
   ]
  },
  {
   "cell_type": "code",
   "execution_count": null,
   "metadata": {},
   "outputs": [],
   "source": [
    "T "
   ]
  }
 ],
 "metadata": {
  "kernelspec": {
   "display_name": "Python 3",
   "language": "python",
   "name": "python3"
  },
  "language_info": {
   "codemirror_mode": {
    "name": "ipython",
    "version": 3
   },
   "file_extension": ".py",
   "mimetype": "text/x-python",
   "name": "python",
   "nbconvert_exporter": "python",
   "pygments_lexer": "ipython3",
   "version": "3.7.1"
  }
 },
 "nbformat": 4,
 "nbformat_minor": 2
}
