{
 "cells": [
  {
   "cell_type": "markdown",
   "metadata": {},
   "source": [
    "# Phys 581 Winter 2019\n",
    "# Report #1: Cluster computing\n",
    "## Alexander Hickey, 10169582"
   ]
  },
  {
   "cell_type": "markdown",
   "metadata": {},
   "source": [
    "Note that the contents of this notebook were created and tested on an Ubuntu 18.04.2 machine, using Python 2.7.16. This machine is connected to the physics junior lab network, which is the network used to construct the computing cluster. The parallel python library used in this notebook is not supported in Python 3+."
   ]
  },
  {
   "cell_type": "code",
   "execution_count": 2,
   "metadata": {},
   "outputs": [
    {
     "data": {
      "text/plain": [
       "'2.7.16 |Anaconda, Inc.| (default, Mar 14 2019, 15:42:17) [MSC v.1500 64 bit (AMD64)]'"
      ]
     },
     "execution_count": 2,
     "metadata": {},
     "output_type": "execute_result"
    }
   ],
   "source": [
    "import sys\n",
    "sys.version"
   ]
  },
  {
   "cell_type": "markdown",
   "metadata": {},
   "source": [
    "### Introduction"
   ]
  },
  {
   "cell_type": "markdown",
   "metadata": {},
   "source": [
    "As explored in Assignment 5, the Multiprocessing module offers a convenient means of parallelizing the execution of a function across multiple input values. This allows one to side-step the notorious Python global interpreter lock, by spawning subprocesses rather than threads. The simplest, and arguably most useful function of the multiprocessing package is the Pool object, which spawns multiple independent computations in parallel. This is ideal in cases where one is performing repetetive computations that are independent of one another, for example, performing a function on some large list of values, where the results are independent of one another. \n",
    "\n",
    "One of the downsides of any simple implementation of the multiprocessing module, is that the efficiency of performing tasks in parallel is limited by the number of physical cores present on the device. Often times however, one has access to many computers that are a part of the same network. It is therefore of interest to be able to run tasks in parallel across an entire network of CPUs, rather than just on a single device. This technique of getting multiple computers across a network to work together is known as cluster computing.\n",
    "\n",
    "This report will explore the construction and efficiency of a computing cluster, using the Parallel Python package. In particular, I will use this framework to construct a cluster with the maximum number of CPUs available over the network in the physics junior labs."
   ]
  },
  {
   "cell_type": "markdown",
   "metadata": {},
   "source": [
    "### Construction of the cluster"
   ]
  },
  {
   "cell_type": "markdown",
   "metadata": {},
   "source": [
    "The first step to constructing the computing cluster is to generate a list of all of the valid IP addresses in the junior labs. This can be obtained readily by attempting to establish an ssh connection using the paramiko library in Python. Both the parallel python and paramiko libraries can be installed in anaconda using:\n",
    "    \n",
    "    conda install -c geneko pp\n",
    "    conda install -c anaconda paramiko\n",
    "\n",
    "Additionally, the ability to ssh using the paramiko library will allow us to set up the parallel python server on each machine in the network, which effectively adds the machine as a node to the computing cluster."
   ]
  },
  {
   "cell_type": "code",
   "execution_count": 6,
   "metadata": {},
   "outputs": [],
   "source": [
    "#Import useful libraries\n",
    "import pp, paramiko\n",
    "import numpy as np\n",
    "import matplotlib.pyplot as plt\n",
    "import time\n",
    "import getpass\n",
    "%matplotlib inline"
   ]
  },
  {
   "cell_type": "markdown",
   "metadata": {},
   "source": [
    "In order to establish an ssh connection, my Ucalgary username and password will be required for authentication. There is a handy library built in to Python called \"getpass\" that prompts the user for their password and saves it to a variable without displaying it on screen. Additionally, the getpass library allows one to retrieve their current username."
   ]
  },
  {
   "cell_type": "code",
   "execution_count": 4,
   "metadata": {},
   "outputs": [
    {
     "name": "stdout",
     "output_type": "stream",
     "text": [
      "Password for alexander.hickey: ········\n"
     ]
    }
   ],
   "source": [
    "#Retrieve username and prompt user for password\n",
    "user = getpass.getuser()\n",
    "passw = getpass.getpass('Password for '+user+': ')"
   ]
  },
  {
   "cell_type": "markdown",
   "metadata": {},
   "source": [
    "All of the computers in the junior labs have an IP address of the form 136.159.54.X where X is an integer between 0 and 255. Using the paramiko, we can attempt to interface with each device in the lab by trying to open an ssh connection. If this connection is successful, I store that IP to a list of valid hosts that can later be used in our cluster. If the connection fails, I ignore this IP. This will give us an idea of the number of machines available over the network."
   ]
  },
  {
   "cell_type": "code",
   "execution_count": 6,
   "metadata": {},
   "outputs": [
    {
     "name": "stderr",
     "output_type": "stream",
     "text": [
      "/home/alexander.hickey/anaconda3/envs/Python27/lib/python2.7/site-packages/paramiko/kex_ecdh_nist.py:39: CryptographyDeprecationWarning: encode_point has been deprecated on EllipticCurvePublicNumbers and will be removed in a future version. Please use EllipticCurvePublicKey.public_bytes to obtain both compressed and uncompressed point encoding.\n",
      "  m.add_string(self.Q_C.public_numbers().encode_point())\n",
      "/home/alexander.hickey/anaconda3/envs/Python27/lib/python2.7/site-packages/paramiko/kex_ecdh_nist.py:96: CryptographyDeprecationWarning: Support for unsafe construction of public numbers from encoded data will be removed in a future version. Please use EllipticCurvePublicKey.from_encoded_point\n",
      "  self.curve, Q_S_bytes\n",
      "/home/alexander.hickey/anaconda3/envs/Python27/lib/python2.7/site-packages/paramiko/kex_ecdh_nist.py:111: CryptographyDeprecationWarning: encode_point has been deprecated on EllipticCurvePublicNumbers and will be removed in a future version. Please use EllipticCurvePublicKey.public_bytes to obtain both compressed and uncompressed point encoding.\n",
      "  hm.add_string(self.Q_C.public_numbers().encode_point())\n"
     ]
    },
    {
     "name": "stdout",
     "output_type": "stream",
     "text": [
      "Successfully connected to 9 hosts:\n",
      "['136.159.54.30', '136.159.54.31', '136.159.54.33', '136.159.54.34', '136.159.54.35', '136.159.54.36', '136.159.54.37', '136.159.54.38', '136.159.54.39']\n"
     ]
    }
   ],
   "source": [
    "#Set network base IP\n",
    "IP_base = '136.159.54.'\n",
    "\n",
    "#List of valid host IPs\n",
    "hostlist = []\n",
    "\n",
    "#Search through junior lab IPs and attempt to connect\n",
    "for j in range(30,40):\n",
    "    \n",
    "    #Current IP\n",
    "    hostname = IP_base+str(j)\n",
    "    \n",
    "    #Try to connect, with statement used so thatclient is not stored.\n",
    "    try:\n",
    "        with paramiko.SSHClient() as ssh:\n",
    "            \n",
    "            #Set host key policy\n",
    "            ssh.set_missing_host_key_policy(paramiko.AutoAddPolicy())\n",
    "            \n",
    "            #Connect using current IP, timout after 0.1s\n",
    "            ssh.connect(hostname, username=user, password=passw,timeout=.1)\n",
    "            \n",
    "            #Close connection and add to list of valid IPs\n",
    "            hostlist.append(hostname)\n",
    "    \n",
    "    #Move on to next IP if exception error is rased\n",
    "    except:\n",
    "        None\n",
    "\n",
    "print 'Successfully connected to %s hosts:' %len(hostlist) \n",
    "print(hostlist)"
   ]
  },
  {
   "cell_type": "markdown",
   "metadata": {},
   "source": [
    "As we see, we were able to successfully ssh into *** devices over the network. With an average of 4 cores per computer in the lab, this should give us a significant amount of computational power. Next, we set up the parallel python server on each one of the available machines. By running the ppserver.py file included in the parallel python distribution, a machine will become available to interface with the parallel python server and become a node in the computing cluster."
   ]
  },
  {
   "cell_type": "code",
   "execution_count": 8,
   "metadata": {},
   "outputs": [
    {
     "name": "stdout",
     "output_type": "stream",
     "text": [
      "ppserver.py executed on 9 hosts\n"
     ]
    }
   ],
   "source": [
    "#Terminal command to activate the parallel python server.\n",
    "#Python27 corresponds to a conda environment on my account\n",
    "#that is used to run Python 2.7.16.\n",
    "command = 'conda activate Python27 && ppserver.py'\n",
    "\n",
    "#Counter\n",
    "cnt = 0\n",
    "\n",
    "#Start client on each valid host\n",
    "for host in hostlist:\n",
    "    try:\n",
    "        with paramiko.SSHClient() as ssh:\n",
    "            \n",
    "            #Set host key policy\n",
    "            ssh.set_missing_host_key_policy(paramiko.AutoAddPolicy())\n",
    "            \n",
    "            #Connect to host\n",
    "            ssh.connect(host, username=user, password=passw,timeout=2)\n",
    "            \n",
    "            #Execute command on host\n",
    "            ssh.exec_command(command)\n",
    "            \n",
    "            #Update counter\n",
    "            cnt += 1\n",
    "\n",
    "    except:\n",
    "        None\n",
    "        \n",
    "print 'ppserver.py executed on %s hosts'%cnt"
   ]
  },
  {
   "cell_type": "markdown",
   "metadata": {},
   "source": [
    "Now that the servers are running, we are ready to create a so-called job server to add each of these machines as a node in our computing cluster."
   ]
  },
  {
   "cell_type": "code",
   "execution_count": 9,
   "metadata": {},
   "outputs": [],
   "source": [
    "#Activate job server using available machines\n",
    "job_server = pp.Server(ppservers = tuple(hostlist))"
   ]
  },
  {
   "cell_type": "code",
   "execution_count": 11,
   "metadata": {},
   "outputs": [
    {
     "data": {
      "text/plain": [
       "{'136.159.54.30:60000': 4,\n",
       " '136.159.54.31:60000': 4,\n",
       " '136.159.54.33:60000': 4,\n",
       " '136.159.54.34:60000': 4,\n",
       " '136.159.54.35:60000': 4,\n",
       " '136.159.54.36:60000': 4,\n",
       " '136.159.54.37:60000': 4,\n",
       " '136.159.54.38:60000': 4,\n",
       " '136.159.54.39:60000': 4,\n",
       " 'local': 4}"
      ]
     },
     "execution_count": 11,
     "metadata": {},
     "output_type": "execute_result"
    }
   ],
   "source": [
    "#Show active nodes in the cluster\n",
    "job_server.get_active_nodes()"
   ]
  },
  {
   "cell_type": "code",
   "execution_count": 34,
   "metadata": {},
   "outputs": [
    {
     "name": "stdout",
     "output_type": "stream",
     "text": [
      "The slowest run took 8.38 times longer than the fastest. This could mean that an intermediate result is being cached.\n",
      "100 loops, best of 3: 8.06 ms per loop\n"
     ]
    }
   ],
   "source": [
    "d = 120\n",
    "%timeit np.linalg.eigvals(np.random.rand(d,d))"
   ]
  },
  {
   "cell_type": "code",
   "execution_count": 35,
   "metadata": {},
   "outputs": [
    {
     "ename": "NameError",
     "evalue": "name 'f' is not defined",
     "output_type": "error",
     "traceback": [
      "\u001b[1;31m---------------------------------------------------------------------------\u001b[0m",
      "\u001b[1;31mNameError\u001b[0m                                 Traceback (most recent call last)",
      "\u001b[1;32m<ipython-input-35-56d848138bc1>\u001b[0m in \u001b[0;36m<module>\u001b[1;34m()\u001b[0m\n\u001b[0;32m     24\u001b[0m \u001b[1;32mfor\u001b[0m \u001b[0mi\u001b[0m \u001b[1;32min\u001b[0m \u001b[0minputs\u001b[0m\u001b[1;33m:\u001b[0m\u001b[1;33m\u001b[0m\u001b[0m\n\u001b[0;32m     25\u001b[0m \u001b[1;33m\u001b[0m\u001b[0m\n\u001b[1;32m---> 26\u001b[1;33m     \u001b[0mf\u001b[0m\u001b[1;33m(\u001b[0m\u001b[0mi\u001b[0m\u001b[1;33m)\u001b[0m\u001b[1;33m\u001b[0m\u001b[0m\n\u001b[0m\u001b[0;32m     27\u001b[0m \u001b[1;33m\u001b[0m\u001b[0m\n\u001b[0;32m     28\u001b[0m \u001b[0mt\u001b[0m \u001b[1;33m=\u001b[0m \u001b[0mtime\u001b[0m\u001b[1;33m.\u001b[0m\u001b[0mtime\u001b[0m\u001b[1;33m(\u001b[0m\u001b[1;33m)\u001b[0m\u001b[1;33m-\u001b[0m\u001b[0mt0\u001b[0m\u001b[1;33m\u001b[0m\u001b[0m\n",
      "\u001b[1;31mNameError\u001b[0m: name 'f' is not defined"
     ]
    }
   ],
   "source": [
    "def useless_task(d):\n",
    "    '''\n",
    "    Some computationally intensive task. This function\n",
    "    will generate a random dxd matrix with elements in\n",
    "    the unit interval, and subsequently compute the\n",
    "    eigenvalues of it.\n",
    "    \n",
    "    Args:\n",
    "        d: Matrix dimension\n",
    "        \n",
    "    Return:\n",
    "        det: determinant of the random matrix\n",
    "        \n",
    "    '''\n",
    "    \n",
    "    matrix = np.random.rand(d,d)\n",
    "    np.linalg.eigvals(matrix)\n",
    "    \n",
    "    return 1\n",
    "\n",
    "d = 100\n",
    "num_tasks = np.arange(200)\n",
    "tlist = []\n",
    "\n",
    "for n in num_tasks:\n",
    "    \n",
    "    t0 = time.time()\n",
    "    jobs = [job_server.submit(useless_task, (d,), (np.random.rand,np.linalg.eigvals), ('np',)) for i in num_tasks]\n",
    "    tlist.append(time.time()-t0)\n",
    "    \n",
    "plt.plot(num_tasks,tlist)"
   ]
  },
  {
   "cell_type": "code",
   "execution_count": null,
   "metadata": {},
   "outputs": [],
   "source": [
    "import time\n",
    "def f(x):\n",
    "    \n",
    "    time.sleep(1.0)\n",
    "    \n",
    "    return x\n",
    "\n",
    "t0 = time.time()\n",
    "\n",
    "inputs = (1,2,3,4,5,6,7,8)\n",
    "jobs = [(i, job_server.submit(f,(i,), modules = (\"time\",))) for i in inputs]\n",
    "for i, job in jobs:\n",
    "    print i\n",
    "\n",
    "t = time.time()-t0\n",
    "    \n",
    "print('Time: ' +str(t))\n",
    "job_server.print_stats()"
   ]
  },
  {
   "cell_type": "markdown",
   "metadata": {},
   "source": [
    "Finally, it is probably a good idea to kill the ppserver.py process on each of the machines in the computer lab, otherwise it will essentially be running indefinitely."
   ]
  },
  {
   "cell_type": "code",
   "execution_count": 12,
   "metadata": {},
   "outputs": [
    {
     "name": "stdout",
     "output_type": "stream",
     "text": [
      "disconnected from 9 hosts\n"
     ]
    }
   ],
   "source": [
    "command = 'pkill -f ppserver.py'\n",
    "cnt = 0\n",
    "for host in hostlist:\n",
    "    \n",
    "    try:\n",
    "        ssh = paramiko.SSHClient()\n",
    "        ssh.set_missing_host_key_policy(paramiko.AutoAddPolicy())\n",
    "        ssh.connect(host, username=user, password=passw,timeout=2)\n",
    "        ssh.exec_command(command)\n",
    "        ssh.close()\n",
    "        cnt += 1\n",
    "        \n",
    "    except:\n",
    "        None\n",
    "        \n",
    "print 'disconnected from %s hosts'%cnt"
   ]
  },
  {
   "cell_type": "code",
   "execution_count": null,
   "metadata": {},
   "outputs": [],
   "source": [
    "#Spawn node\n",
    "os.system(\"konsole -e ssh munin 'conda activate Python27 && ppserver.py'\")\n",
    "\n",
    "#Kill process\n",
    "os.system(\"konsole -e ssh munin 'pkill -u alexander.hickey'\")"
   ]
  },
  {
   "cell_type": "markdown",
   "metadata": {},
   "source": [
    "### Construction of the cluster"
   ]
  },
  {
   "cell_type": "markdown",
   "metadata": {},
   "source": [
    "In this report, we examined the construction of a computing cluster using the parallel python and paramiko modules in Python."
   ]
  },
  {
   "cell_type": "code",
   "execution_count": null,
   "metadata": {},
   "outputs": [],
   "source": []
  }
 ],
 "metadata": {
  "kernelspec": {
   "display_name": "Python 2",
   "language": "python",
   "name": "python2"
  },
  "language_info": {
   "codemirror_mode": {
    "name": "ipython",
    "version": 2
   },
   "file_extension": ".py",
   "mimetype": "text/x-python",
   "name": "python",
   "nbconvert_exporter": "python",
   "pygments_lexer": "ipython2",
   "version": "2.7.16"
  }
 },
 "nbformat": 4,
 "nbformat_minor": 2
}
