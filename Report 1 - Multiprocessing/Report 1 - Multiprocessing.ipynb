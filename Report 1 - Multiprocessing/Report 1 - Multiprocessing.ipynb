{
 "cells": [
  {
   "cell_type": "markdown",
   "metadata": {},
   "source": [
    "# Phys 581 Winter 2019\n",
    "# Report #1: Cluster computing\n",
    "## Alexander Hickey, 10169582"
   ]
  },
  {
   "cell_type": "markdown",
   "metadata": {},
   "source": [
    "### Introduction"
   ]
  },
  {
   "cell_type": "markdown",
   "metadata": {},
   "source": [
    "As explored in Assignment 5, the Multiprocessing module offers a convenient means of parallelizing the execution of a function across multiple input values. This allows one to side-step the notorious Python global interpreter lock, by spawning subprocesses rather than threads. The simplest, and arguably most useful function of the multiprocessing package is the Pool object, which spawns multiple independent computations in parallel. This is ideal in cases where one is performing repetetive computations that are independent of one another, for example, performing a function on some large list of values, where the results are independent of one another. \n",
    "\n",
    "One of the downsides of any simple implementation of the multiprocessing module, is that the efficiency of performing tasks in parallel is limited by the number of physical cores present on the device. Often times however, one has access to many computers that are a part of the same network. It is therefore of interest to be able to run tasks in parallel across an entire network of CPUs, rather than just on a single device. This technique of getting multiple computers across a network to work together is known as cluster computing.\n",
    "\n",
    "This report will explore the main differences between such tasks, and thus provide some intuition on the optimal number of processes one should spawn when parallelizing in Python. "
   ]
  },
  {
   "cell_type": "code",
   "execution_count": 1,
   "metadata": {},
   "outputs": [
    {
     "ename": "ModuleNotFoundError",
     "evalue": "No module named 'pp'",
     "output_type": "error",
     "traceback": [
      "\u001b[1;31m---------------------------------------------------------------------------\u001b[0m",
      "\u001b[1;31mModuleNotFoundError\u001b[0m                       Traceback (most recent call last)",
      "\u001b[1;32m<ipython-input-1-3839a42b0f00>\u001b[0m in \u001b[0;36m<module>\u001b[1;34m\u001b[0m\n\u001b[1;32m----> 1\u001b[1;33m \u001b[1;32mimport\u001b[0m \u001b[0mpp\u001b[0m\u001b[1;33m\u001b[0m\u001b[1;33m\u001b[0m\u001b[0m\n\u001b[0m\u001b[0;32m      2\u001b[0m \u001b[0mppservers\u001b[0m\u001b[1;33m=\u001b[0m\u001b[1;33m(\u001b[0m\u001b[1;34m'munin'\u001b[0m\u001b[1;33m,\u001b[0m\u001b[1;34m'noatun'\u001b[0m\u001b[1;33m,\u001b[0m\u001b[1;34m'branstock'\u001b[0m\u001b[1;33m)\u001b[0m\u001b[1;33m\u001b[0m\u001b[1;33m\u001b[0m\u001b[0m\n\u001b[0;32m      3\u001b[0m \u001b[1;33m\u001b[0m\u001b[0m\n\u001b[0;32m      4\u001b[0m \u001b[0mjob_server\u001b[0m \u001b[1;33m=\u001b[0m \u001b[0mpp\u001b[0m\u001b[1;33m.\u001b[0m\u001b[0mServer\u001b[0m\u001b[1;33m(\u001b[0m\u001b[0mppservers\u001b[0m \u001b[1;33m=\u001b[0m \u001b[0mppservers\u001b[0m\u001b[1;33m)\u001b[0m\u001b[1;33m\u001b[0m\u001b[1;33m\u001b[0m\u001b[0m\n\u001b[0;32m      5\u001b[0m \u001b[0mjob_server\u001b[0m\u001b[1;33m.\u001b[0m\u001b[0mget_active_nodes\u001b[0m\u001b[1;33m(\u001b[0m\u001b[1;33m)\u001b[0m\u001b[1;33m\u001b[0m\u001b[1;33m\u001b[0m\u001b[0m\n",
      "\u001b[1;31mModuleNotFoundError\u001b[0m: No module named 'pp'"
     ]
    }
   ],
   "source": [
    "import pp\n",
    "ppservers=('munin','noatun','branstock')\n",
    "\n",
    "job_server = pp.Server(ppservers = ppservers)\n",
    "job_server.get_active_nodes()"
   ]
  },
  {
   "cell_type": "code",
   "execution_count": 2,
   "metadata": {},
   "outputs": [
    {
     "name": "stdout",
     "output_type": "stream",
     "text": [
      "Time: 8.103301048278809\n"
     ]
    }
   ],
   "source": [
    "import time\n",
    "def f(x):\n",
    "    \n",
    "    time.sleep(.5)\n",
    "    \n",
    "    return None\n",
    "\n",
    "t0 = time.time()\n",
    "\n",
    "inputs = (1,2,3,4,5,6,7,8,9,10,11,12,13,14,15,16)\n",
    "for i in inputs:\n",
    "    \n",
    "    f(i)\n",
    "    \n",
    "t = time.time()-t0\n",
    "    \n",
    "print('Time: ' +str(t))"
   ]
  },
  {
   "cell_type": "code",
   "execution_count": 3,
   "metadata": {},
   "outputs": [
    {
     "ename": "SyntaxError",
     "evalue": "Missing parentheses in call to 'print'. Did you mean print(i)? (<ipython-input-3-68c855ea934a>, line 13)",
     "output_type": "error",
     "traceback": [
      "\u001b[1;36m  File \u001b[1;32m\"<ipython-input-3-68c855ea934a>\"\u001b[1;36m, line \u001b[1;32m13\u001b[0m\n\u001b[1;33m    print i\u001b[0m\n\u001b[1;37m          ^\u001b[0m\n\u001b[1;31mSyntaxError\u001b[0m\u001b[1;31m:\u001b[0m Missing parentheses in call to 'print'. Did you mean print(i)?\n"
     ]
    }
   ],
   "source": [
    "import time\n",
    "def f(x):\n",
    "    \n",
    "    time.sleep(1.0)\n",
    "    \n",
    "    return x\n",
    "\n",
    "t0 = time.time()\n",
    "\n",
    "inputs = (1,2,3,4,5,6,7,8)\n",
    "jobs = [(i, job_server.submit(f,(i,), modules = (\"time\",))) for i in inputs]\n",
    "for i, job in jobs:\n",
    "    print i\n",
    "\n",
    "t = time.time()-t0\n",
    "    \n",
    "print('Time: ' +str(t))\n",
    "job_server.print_stats()"
   ]
  },
  {
   "cell_type": "code",
   "execution_count": null,
   "metadata": {},
   "outputs": [],
   "source": []
  }
 ],
 "metadata": {
  "kernelspec": {
   "display_name": "Python 3",
   "language": "python",
   "name": "python3"
  },
  "language_info": {
   "codemirror_mode": {
    "name": "ipython",
    "version": 3
   },
   "file_extension": ".py",
   "mimetype": "text/x-python",
   "name": "python",
   "nbconvert_exporter": "python",
   "pygments_lexer": "ipython3",
   "version": "3.6.8"
  }
 },
 "nbformat": 4,
 "nbformat_minor": 2
}
