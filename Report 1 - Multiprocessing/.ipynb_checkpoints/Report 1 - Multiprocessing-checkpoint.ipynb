{
 "cells": [
  {
   "cell_type": "markdown",
   "metadata": {},
   "source": [
    "# Phys 581 Winter 2019\n",
    "# Report #1: Cluster computing\n",
    "## Alexander Hickey, 10169582"
   ]
  },
  {
   "cell_type": "markdown",
   "metadata": {},
   "source": [
    "### Introduction"
   ]
  },
  {
   "cell_type": "markdown",
   "metadata": {},
   "source": [
    "As explored in Assignment 5, the Multiprocessing module offers a convenient means of parallelizing the execution of a function across multiple input values. This allows one to side-step the notorious Python global interpreter lock, by spawning subprocesses rather than threads. The simplest, and arguably most useful function of the multiprocessing package is the Pool object, which spawns multiple independent computations in parallel. This is ideal in cases where one is performing repetetive computations that are independent of one another, for example, performing a function on some large list of values, where the results are independent of one another. \n",
    "\n",
    "One of the downsides of any simple implementation of the multiprocessing module, is that the efficiency of performing tasks in parallel is limited by the number of physical cores present on the device. Often times however, one has access to many computers that are a part of the same network. It is therefore of interest to be able to run tasks in parallel across an entire network of CPUs, rather than just on a single device. This technique of getting multiple computers across a network to work together is known as cluster computing.\n",
    "\n",
    "This report will explore the construction and efficiency of a computing cluster, using the Parallel Python package."
   ]
  },
  {
   "cell_type": "code",
   "execution_count": 4,
   "metadata": {},
   "outputs": [
    {
     "data": {
      "text/plain": [
       "{'local': 4}"
      ]
     },
     "execution_count": 4,
     "metadata": {},
     "output_type": "execute_result"
    }
   ],
   "source": [
    "import pp\n",
    "import os\n",
    "ppservers=('munin','noatun','branstock')\n",
    "\n",
    "job_server = pp.Server(ppservers = ppservers)\n",
    "job_server.get_active_nodes()"
   ]
  },
  {
   "cell_type": "code",
   "execution_count": 2,
   "metadata": {},
   "outputs": [
    {
     "name": "stdout",
     "output_type": "stream",
     "text": [
      "Time: 8.00906395912\n"
     ]
    }
   ],
   "source": [
    "import time\n",
    "def f(x):\n",
    "    \n",
    "    time.sleep(.5)\n",
    "    \n",
    "    return None\n",
    "\n",
    "t0 = time.time()\n",
    "\n",
    "inputs = (1,2,3,4,5,6,7,8,9,10,11,12,13,14,15,16)\n",
    "for i in inputs:\n",
    "    \n",
    "    f(i)\n",
    "    \n",
    "t = time.time()-t0\n",
    "    \n",
    "print('Time: ' +str(t))"
   ]
  },
  {
   "cell_type": "code",
   "execution_count": 3,
   "metadata": {},
   "outputs": [
    {
     "name": "stdout",
     "output_type": "stream",
     "text": [
      "1\n",
      "2\n",
      "3\n",
      "4\n",
      "5\n",
      "6\n",
      "7\n",
      "8\n",
      "Time: 0.00249481201172\n",
      "Job execution statistics:\n",
      " job count | % of all jobs | job time sum | time per job | job server\n",
      "         4 |        100.00 |       0.0000 |     0.000000 | local\n",
      "Time elapsed since server creation 509.471161127\n",
      "4 active tasks, 4 cores\n",
      "\n"
     ]
    }
   ],
   "source": [
    "import time\n",
    "def f(x):\n",
    "    \n",
    "    time.sleep(1.0)\n",
    "    \n",
    "    return x\n",
    "\n",
    "t0 = time.time()\n",
    "\n",
    "inputs = (1,2,3,4,5,6,7,8)\n",
    "jobs = [(i, job_server.submit(f,(i,), modules = (\"time\",))) for i in inputs]\n",
    "for i, job in jobs:\n",
    "    print i\n",
    "\n",
    "t = time.time()-t0\n",
    "    \n",
    "print('Time: ' +str(t))\n",
    "job_server.print_stats()"
   ]
  },
  {
   "cell_type": "code",
   "execution_count": 20,
   "metadata": {},
   "outputs": [
    {
     "data": {
      "text/plain": [
       "0"
      ]
     },
     "execution_count": 20,
     "metadata": {},
     "output_type": "execute_result"
    }
   ],
   "source": [
    "#Spawn node\n",
    "os.system(\"konsole -e ssh munin 'conda activate Python27 && ppserver.py'\")\n",
    "\n",
    "#Kill process\n",
    "os.system(\"konsole -e ssh munin 'pkill -u alexander.hickey'\")"
   ]
  },
  {
   "cell_type": "code",
   "execution_count": null,
   "metadata": {},
   "outputs": [],
   "source": []
  }
 ],
 "metadata": {
  "kernelspec": {
   "display_name": "Python 2",
   "language": "python",
   "name": "python2"
  },
  "language_info": {
   "codemirror_mode": {
    "name": "ipython",
    "version": 2
   },
   "file_extension": ".py",
   "mimetype": "text/x-python",
   "name": "python",
   "nbconvert_exporter": "python",
   "pygments_lexer": "ipython2",
   "version": "2.7.16"
  }
 },
 "nbformat": 4,
 "nbformat_minor": 2
}
