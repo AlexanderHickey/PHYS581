{
 "cells": [
  {
   "cell_type": "markdown",
   "metadata": {},
   "source": [
    "# Phys 581 Winter 2019\n",
    "# Report #1: Cluster computing\n",
    "## Alexander Hickey, 10169582"
   ]
  },
  {
   "cell_type": "markdown",
   "metadata": {},
   "source": [
    "Note that the contents of this notebook were created and tested on an Ubuntu 18.04.2 machine, using Python 2.7.16. The parallel python library used in this notebook is not supported in Python 3+."
   ]
  },
  {
   "cell_type": "code",
   "execution_count": 2,
   "metadata": {},
   "outputs": [
    {
     "data": {
      "text/plain": [
       "['',\n",
       " '/home/alexander.hickey/anaconda3/envs/Python27/lib/python27.zip',\n",
       " '/home/alexander.hickey/anaconda3/envs/Python27/lib/python2.7',\n",
       " '/home/alexander.hickey/anaconda3/envs/Python27/lib/python2.7/plat-linux2',\n",
       " '/home/alexander.hickey/anaconda3/envs/Python27/lib/python2.7/lib-tk',\n",
       " '/home/alexander.hickey/anaconda3/envs/Python27/lib/python2.7/lib-old',\n",
       " '/home/alexander.hickey/anaconda3/envs/Python27/lib/python2.7/lib-dynload',\n",
       " '/home/alexander.hickey/anaconda3/envs/Python27/lib/python2.7/site-packages',\n",
       " '/home/alexander.hickey/anaconda3/envs/Python27/lib/python2.7/site-packages/IPython/extensions',\n",
       " '/home/alexander.hickey/.ipython']"
      ]
     },
     "execution_count": 2,
     "metadata": {},
     "output_type": "execute_result"
    }
   ],
   "source": [
    "import sys\n",
    "sys.version\n",
    "sys.path"
   ]
  },
  {
   "cell_type": "code",
   "execution_count": 3,
   "metadata": {},
   "outputs": [],
   "source": [
    "import pp\n",
    "import os\n",
    "import time\n",
    "import paramiko\n",
    "import getpass"
   ]
  },
  {
   "cell_type": "markdown",
   "metadata": {},
   "source": [
    "### Introduction"
   ]
  },
  {
   "cell_type": "markdown",
   "metadata": {},
   "source": [
    "As explored in Assignment 5, the Multiprocessing module offers a convenient means of parallelizing the execution of a function across multiple input values. This allows one to side-step the notorious Python global interpreter lock, by spawning subprocesses rather than threads. The simplest, and arguably most useful function of the multiprocessing package is the Pool object, which spawns multiple independent computations in parallel. This is ideal in cases where one is performing repetetive computations that are independent of one another, for example, performing a function on some large list of values, where the results are independent of one another. \n",
    "\n",
    "One of the downsides of any simple implementation of the multiprocessing module, is that the efficiency of performing tasks in parallel is limited by the number of physical cores present on the device. Often times however, one has access to many computers that are a part of the same network. It is therefore of interest to be able to run tasks in parallel across an entire network of CPUs, rather than just on a single device. This technique of getting multiple computers across a network to work together is known as cluster computing.\n",
    "\n",
    "This report will explore the construction and efficiency of a computing cluster, using the Parallel Python package.\n",
    "\n",
    "Install using\n",
    "    \n",
    "    conda install -c geneko pp\n",
    "    conda install -c anaconda paramiko\n",
    "    "
   ]
  },
  {
   "cell_type": "code",
   "execution_count": 4,
   "metadata": {},
   "outputs": [
    {
     "name": "stdout",
     "output_type": "stream",
     "text": [
      "Password for alexander.hickey: ········\n"
     ]
    }
   ],
   "source": [
    "#Retrieve username and prompt user for password\n",
    "user = getpass.getuser()\n",
    "passw = getpass.getpass('Password for '+user+': ')"
   ]
  },
  {
   "cell_type": "code",
   "execution_count": 5,
   "metadata": {},
   "outputs": [
    {
     "data": {
      "text/plain": [
       "'/home/alexander.hickey/anaconda3/envs/Python27/bin/ppserver.py'"
      ]
     },
     "execution_count": 5,
     "metadata": {},
     "output_type": "execute_result"
    }
   ],
   "source": [
    "#Set server path and network base IP\n",
    "path = '/home/%s/anaconda3/envs/Python27/bin/ppserver.py'%user\n",
    "IP_base = '136.159.54.'\n",
    "path"
   ]
  },
  {
   "cell_type": "code",
   "execution_count": 6,
   "metadata": {},
   "outputs": [
    {
     "name": "stderr",
     "output_type": "stream",
     "text": [
      "/home/alexander.hickey/anaconda3/envs/Python27/lib/python2.7/site-packages/paramiko/kex_ecdh_nist.py:39: CryptographyDeprecationWarning: encode_point has been deprecated on EllipticCurvePublicNumbers and will be removed in a future version. Please use EllipticCurvePublicKey.public_bytes to obtain both compressed and uncompressed point encoding.\n",
      "  m.add_string(self.Q_C.public_numbers().encode_point())\n",
      "/home/alexander.hickey/anaconda3/envs/Python27/lib/python2.7/site-packages/paramiko/kex_ecdh_nist.py:96: CryptographyDeprecationWarning: Support for unsafe construction of public numbers from encoded data will be removed in a future version. Please use EllipticCurvePublicKey.from_encoded_point\n",
      "  self.curve, Q_S_bytes\n",
      "/home/alexander.hickey/anaconda3/envs/Python27/lib/python2.7/site-packages/paramiko/kex_ecdh_nist.py:111: CryptographyDeprecationWarning: encode_point has been deprecated on EllipticCurvePublicNumbers and will be removed in a future version. Please use EllipticCurvePublicKey.public_bytes to obtain both compressed and uncompressed point encoding.\n",
      "  hm.add_string(self.Q_C.public_numbers().encode_point())\n"
     ]
    },
    {
     "name": "stdout",
     "output_type": "stream",
     "text": [
      "Successfully connected to 9 hosts:\n",
      "['136.159.54.30', '136.159.54.31', '136.159.54.33', '136.159.54.34', '136.159.54.35', '136.159.54.36', '136.159.54.37', '136.159.54.38', '136.159.54.39']\n"
     ]
    }
   ],
   "source": [
    "hostlist = []\n",
    "for j in range(30,40):\n",
    "    \n",
    "    hostname = IP_base+str(j)\n",
    "    \n",
    "    try:\n",
    "        with paramiko.SSHClient() as ssh:\n",
    "            ssh = paramiko.SSHClient()\n",
    "            ssh.set_missing_host_key_policy(paramiko.AutoAddPolicy())\n",
    "            ssh.connect(hostname, username=user, password=passw,timeout=.1)\n",
    "            ssh.close()\n",
    "\n",
    "            hostlist.append(hostname)\n",
    "        \n",
    "    except:\n",
    "        #print 'Couldn\\'t connect to %s' % hostname\n",
    "        None\n",
    "\n",
    "print 'Successfully connected to %s hosts:' %len(hostlist) \n",
    "print(hostlist)"
   ]
  },
  {
   "cell_type": "code",
   "execution_count": 7,
   "metadata": {},
   "outputs": [],
   "source": [
    "command = 'conda activate Python27 && ppserver.py'"
   ]
  },
  {
   "cell_type": "code",
   "execution_count": 8,
   "metadata": {},
   "outputs": [
    {
     "name": "stdout",
     "output_type": "stream",
     "text": [
      "ppserver.py executed on 9 hosts\n"
     ]
    }
   ],
   "source": [
    "cnt = 0\n",
    "for host in hostlist:\n",
    "    \n",
    "    try:\n",
    "        with paramiko.SSHClient() as ssh:\n",
    "        #ssh = paramiko.SSHClient()\n",
    "            ssh.set_missing_host_key_policy(paramiko.AutoAddPolicy())\n",
    "            ssh.connect(host, username=user, password=passw,timeout=2)\n",
    "            ssh.exec_command(command)\n",
    "            #ssh.exec_command(command2)\n",
    "            #ssh.close()\n",
    "            cnt += 1\n",
    "\n",
    "    except:\n",
    "        None\n",
    "        \n",
    "print 'ppserver.py executed on %s hosts'%cnt"
   ]
  },
  {
   "cell_type": "code",
   "execution_count": 9,
   "metadata": {},
   "outputs": [],
   "source": [
    "ppservers= tuple(hostlist)\n",
    "job_server = pp.Server(ppservers = ppservers)"
   ]
  },
  {
   "cell_type": "code",
   "execution_count": 11,
   "metadata": {},
   "outputs": [
    {
     "data": {
      "text/plain": [
       "{'136.159.54.30:60000': 4,\n",
       " '136.159.54.31:60000': 4,\n",
       " '136.159.54.33:60000': 4,\n",
       " '136.159.54.34:60000': 4,\n",
       " '136.159.54.35:60000': 4,\n",
       " '136.159.54.36:60000': 4,\n",
       " '136.159.54.37:60000': 4,\n",
       " '136.159.54.38:60000': 4,\n",
       " '136.159.54.39:60000': 4,\n",
       " 'local': 4}"
      ]
     },
     "execution_count": 11,
     "metadata": {},
     "output_type": "execute_result"
    }
   ],
   "source": [
    "job_server.get_active_nodes()"
   ]
  },
  {
   "cell_type": "code",
   "execution_count": 12,
   "metadata": {},
   "outputs": [
    {
     "name": "stdout",
     "output_type": "stream",
     "text": [
      "disconnected from 9 hosts\n"
     ]
    }
   ],
   "source": [
    "command = 'pkill -f ppserver.py'\n",
    "cnt = 0\n",
    "for host in hostlist:\n",
    "    \n",
    "    try:\n",
    "        ssh = paramiko.SSHClient()\n",
    "        ssh.set_missing_host_key_policy(paramiko.AutoAddPolicy())\n",
    "        ssh.connect(host, username=user, password=passw,timeout=2)\n",
    "        ssh.exec_command(command)\n",
    "        ssh.close()\n",
    "        cnt += 1\n",
    "        \n",
    "    except:\n",
    "        None\n",
    "        \n",
    "print 'disconnected from %s hosts'%cnt"
   ]
  },
  {
   "cell_type": "code",
   "execution_count": null,
   "metadata": {},
   "outputs": [],
   "source": [
    "def f(x):\n",
    "    \n",
    "    time.sleep(.5)\n",
    "    \n",
    "    return None\n",
    "\n",
    "t0 = time.time()\n",
    "\n",
    "inputs = (1,2,3,4,5,6,7,8,9,10,11,12,13,14,15,16)\n",
    "for i in inputs:\n",
    "    \n",
    "    f(i)\n",
    "    \n",
    "t = time.time()-t0\n",
    "    \n",
    "print('Time: ' +str(t))"
   ]
  },
  {
   "cell_type": "code",
   "execution_count": null,
   "metadata": {},
   "outputs": [],
   "source": [
    "import time\n",
    "def f(x):\n",
    "    \n",
    "    time.sleep(1.0)\n",
    "    \n",
    "    return x\n",
    "\n",
    "t0 = time.time()\n",
    "\n",
    "inputs = (1,2,3,4,5,6,7,8)\n",
    "jobs = [(i, job_server.submit(f,(i,), modules = (\"time\",))) for i in inputs]\n",
    "for i, job in jobs:\n",
    "    print i\n",
    "\n",
    "t = time.time()-t0\n",
    "    \n",
    "print('Time: ' +str(t))\n",
    "job_server.print_stats()"
   ]
  },
  {
   "cell_type": "code",
   "execution_count": null,
   "metadata": {},
   "outputs": [],
   "source": [
    "#Spawn node\n",
    "os.system(\"konsole -e ssh munin 'conda activate Python27 && ppserver.py'\")\n",
    "\n",
    "#Kill process\n",
    "os.system(\"konsole -e ssh munin 'pkill -u alexander.hickey'\")"
   ]
  },
  {
   "cell_type": "code",
   "execution_count": null,
   "metadata": {},
   "outputs": [],
   "source": []
  }
 ],
 "metadata": {
  "kernelspec": {
   "display_name": "Python 2",
   "language": "python",
   "name": "python2"
  },
  "language_info": {
   "codemirror_mode": {
    "name": "ipython",
    "version": 2
   },
   "file_extension": ".py",
   "mimetype": "text/x-python",
   "name": "python",
   "nbconvert_exporter": "python",
   "pygments_lexer": "ipython2",
   "version": "2.7.16"
  }
 },
 "nbformat": 4,
 "nbformat_minor": 2
}
